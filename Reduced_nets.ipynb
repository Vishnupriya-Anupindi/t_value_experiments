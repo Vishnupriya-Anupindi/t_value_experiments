{
 "cells": [
  {
   "cell_type": "code",
   "execution_count": 4,
   "metadata": {},
   "outputs": [
    {
     "data": {
      "text/plain": [
       "27"
      ]
     },
     "metadata": {},
     "output_type": "display_data"
    }
   ],
   "source": [
    "using AbstractAlgebra, Random\n",
    "using AbstractAlgebra: lift\n",
    "b=3\n",
    "F = GF(b)\n",
    "m = 3\n",
    "s = 2\n",
    "ρ = m \n",
    "t = m - ρ \n",
    "N = b^m"
   ]
  },
  {
   "cell_type": "code",
   "execution_count": 2,
   "metadata": {},
   "outputs": [],
   "source": [
    "using CairoMakie"
   ]
  },
  {
   "cell_type": "code",
   "execution_count": 5,
   "metadata": {},
   "outputs": [
    {
     "data": {
      "text/plain": [
       "Matrix space of 3 rows and 3 columns\n",
       "  over finite field F_3"
      ]
     },
     "metadata": {},
     "output_type": "display_data"
    }
   ],
   "source": [
    "S = matrix_space(F, m, m)"
   ]
  },
  {
   "cell_type": "markdown",
   "metadata": {},
   "source": [
    "Point generation digital and reduced digital nets"
   ]
  },
  {
   "cell_type": "code",
   "execution_count": 6,
   "metadata": {},
   "outputs": [
    {
     "data": {
      "text/plain": [
       "27-element Vector{Tuple{Int64, Int64, Int64}}:\n",
       " (0, 0, 0)\n",
       " (1, 0, 0)\n",
       " (2, 0, 0)\n",
       " (0, 1, 0)\n",
       " (1, 1, 0)\n",
       " (2, 1, 0)\n",
       " (0, 2, 0)\n",
       " (1, 2, 0)\n",
       " (2, 2, 0)\n",
       " (0, 0, 1)\n",
       " ⋮\n",
       " (0, 0, 2)\n",
       " (1, 0, 2)\n",
       " (2, 0, 2)\n",
       " (0, 1, 2)\n",
       " (1, 1, 2)\n",
       " (2, 1, 2)\n",
       " (0, 2, 2)\n",
       " (1, 2, 2)\n",
       " (2, 2, 2)"
      ]
     },
     "metadata": {},
     "output_type": "display_data"
    }
   ],
   "source": [
    "badic = collect(Iterators.product(fill(0:b-1, m)...))[:]"
   ]
  },
  {
   "cell_type": "code",
   "execution_count": 7,
   "metadata": {},
   "outputs": [
    {
     "data": {
      "text/plain": [
       "norm_coord (generic function with 1 method)"
      ]
     },
     "metadata": {},
     "output_type": "display_data"
    }
   ],
   "source": [
    "function norm_coord(v,b)\n",
    "    v_1 = 0.0\n",
    "    bf = float(b)\n",
    "    for i in eachindex(v)\n",
    "        v_1 += v[i] * bf^(-i)\n",
    "    end\n",
    "    return v_1\n",
    "end\n"
   ]
  },
  {
   "cell_type": "code",
   "execution_count": 8,
   "metadata": {},
   "outputs": [
    {
     "data": {
      "text/plain": [
       "\u001b[32m\u001b[1mTest Passed\u001b[22m\u001b[39m"
      ]
     },
     "metadata": {},
     "output_type": "display_data"
    }
   ],
   "source": [
    "using Test\n",
    "@test norm_coord([1 1 0 1],2) == 13/16"
   ]
  },
  {
   "cell_type": "code",
   "execution_count": 5,
   "metadata": {},
   "outputs": [],
   "source": [
    "# norm_coord( AbstractAlgebra.lift.( C_2*collect(badic[4]) ),2)  # you need to convert Tuples to vectors matrix mult...\n",
    "# C_r2*collect(badic[4])\n",
    "\n",
    "# If you compute in a finite field, you need to apply the map from Fq to R to make this computation\n",
    "# work. This map is called 'lift'. So, you need to apply lift to the vector you want to compute with."
   ]
  },
  {
   "cell_type": "code",
   "execution_count": 9,
   "metadata": {},
   "outputs": [
    {
     "data": {
      "text/plain": [
       "point_gen (generic function with 1 method)"
      ]
     },
     "metadata": {},
     "output_type": "display_data"
    }
   ],
   "source": [
    "function point_gen(C,n,b)\n",
    "    v = [norm_coord(AbstractAlgebra.lift.(c*n),b) for c in C]   \n",
    "    return v\n",
    "end"
   ]
  },
  {
   "cell_type": "code",
   "execution_count": 40,
   "metadata": {},
   "outputs": [
    {
     "data": {
      "text/plain": [
       "2-element Vector{AbstractAlgebra.Generic.MatSpaceElem{AbstractAlgebra.GFElem{Int64}}}:\n",
       " [1 1 0; 0 0 2; 2 1 0]\n",
       " [0 0 2; 2 1 0; 1 1 0]"
      ]
     },
     "metadata": {},
     "output_type": "display_data"
    }
   ],
   "source": [
    "C_1 = [1 1 0;0 0 2; 2 1 0]\n",
    "C_2 = [2 1 0; 0 0 2; 1 1 0]\n",
    "C_3 = [0 0 2; 2 1 0; 1 1 0]\n",
    "C_1, C_2 , C_3 = S(C_1), S(C_2), S(C_3)\n",
    "C = [C_1,C_3]"
   ]
  },
  {
   "cell_type": "code",
   "execution_count": 11,
   "metadata": {},
   "outputs": [
    {
     "data": {
      "text/plain": [
       "2-element Vector{BigFloat}:\n",
       " 0.037037037037037041919962376823605154640972614288330078125\n",
       " 0.333333333333333314829616256247390992939472198486328125"
      ]
     },
     "metadata": {},
     "output_type": "display_data"
    }
   ],
   "source": [
    "point_gen(C,collect(badic[8]),3)"
   ]
  },
  {
   "cell_type": "code",
   "execution_count": 24,
   "metadata": {},
   "outputs": [
    {
     "data": {
      "text/html": [
       "[1 0 0; 0 1 0; 0 0 1]"
      ],
      "text/latex": [
       "\\begin{array}{ccc}\n",
       "1 & 0 & 0 \\\\\n",
       "0 & 1 & 0 \\\\\n",
       "0 & 0 & 1\n",
       "\\end{array}"
      ],
      "text/plain": [
       "[1   0   0]\n",
       "[0   1   0]\n",
       "[0   0   1]"
      ]
     },
     "metadata": {},
     "output_type": "display_data"
    }
   ],
   "source": [
    "K_1 = (inv(C_1)*(C_1))"
   ]
  },
  {
   "cell_type": "code",
   "execution_count": 26,
   "metadata": {},
   "outputs": [
    {
     "data": {
      "text/html": [
       "[2 0 0; 0 1 0; 0 0 1]"
      ],
      "text/latex": [
       "\\begin{array}{ccc}\n",
       "2 & 0 & 0 \\\\\n",
       "0 & 1 & 0 \\\\\n",
       "0 & 0 & 1\n",
       "\\end{array}"
      ],
      "text/plain": [
       "[2   0   0]\n",
       "[0   1   0]\n",
       "[0   0   1]"
      ]
     },
     "metadata": {},
     "output_type": "display_data"
    }
   ],
   "source": [
    "K_2 = inv(C_1)*(C_2)"
   ]
  },
  {
   "cell_type": "code",
   "execution_count": 27,
   "metadata": {},
   "outputs": [
    {
     "data": {
      "text/html": [
       "[0 0 1; 0 1 0; 1 0 0]"
      ],
      "text/latex": [
       "\\begin{array}{ccc}\n",
       "0 & 0 & 1 \\\\\n",
       "0 & 1 & 0 \\\\\n",
       "1 & 0 & 0\n",
       "\\end{array}"
      ],
      "text/plain": [
       "[0   0   1]\n",
       "[0   1   0]\n",
       "[1   0   0]"
      ]
     },
     "metadata": {},
     "output_type": "display_data"
    }
   ],
   "source": [
    "K_2_l = (C_2)*inv(C_1)"
   ]
  },
  {
   "cell_type": "code",
   "execution_count": 28,
   "metadata": {},
   "outputs": [
    {
     "data": {
      "text/html": [
       "[1 1 1; 2 2 1; 1 2 0]"
      ],
      "text/latex": [
       "\\begin{array}{ccc}\n",
       "1 & 1 & 1 \\\\\n",
       "2 & 2 & 1 \\\\\n",
       "1 & 2 & 0\n",
       "\\end{array}"
      ],
      "text/plain": [
       "[1   1   1]\n",
       "[2   2   1]\n",
       "[1   2   0]"
      ]
     },
     "metadata": {},
     "output_type": "display_data"
    }
   ],
   "source": [
    "K_3 = inv(C_1)*(C_3)"
   ]
  },
  {
   "cell_type": "code",
   "execution_count": 29,
   "metadata": {},
   "outputs": [
    {
     "data": {
      "text/html": [
       "[0 1 0; 0 0 1; 1 0 0]"
      ],
      "text/latex": [
       "\\begin{array}{ccc}\n",
       "0 & 1 & 0 \\\\\n",
       "0 & 0 & 1 \\\\\n",
       "1 & 0 & 0\n",
       "\\end{array}"
      ],
      "text/plain": [
       "[0   1   0]\n",
       "[0   0   1]\n",
       "[1   0   0]"
      ]
     },
     "metadata": {},
     "output_type": "display_data"
    }
   ],
   "source": [
    "K_3_l = (C_3)*inv(C_1)"
   ]
  },
  {
   "cell_type": "code",
   "execution_count": null,
   "metadata": {},
   "outputs": [],
   "source": []
  },
  {
   "cell_type": "code",
   "execution_count": null,
   "metadata": {},
   "outputs": [],
   "source": []
  },
  {
   "cell_type": "code",
   "execution_count": 18,
   "metadata": {},
   "outputs": [
    {
     "data": {
      "text/plain": [
       "gen_all_points (generic function with 1 method)"
      ]
     },
     "metadata": {},
     "output_type": "display_data"
    }
   ],
   "source": [
    "function gen_all_points(C,b)\n",
    "    badic = collect(Iterators.product(fill(0:b-1, m)...))[:]\n",
    "    pts = [point_gen(C,collect(n),b) for n in badic]\n",
    "    return pts\n",
    "end"
   ]
  },
  {
   "cell_type": "code",
   "execution_count": 41,
   "metadata": {},
   "outputs": [
    {
     "data": {
      "text/plain": [
       "27-element Vector{Vector{BigFloat}}:\n",
       " [0.0, 0.0]\n",
       " [0.40740740740740739866954100989460130222141742706298828125, 0.259259259259259251806373214321865816600620746612548828125]\n",
       " [0.703703703703703671579194889318387140519917011260986328125, 0.18518518518518518878313017239634064026176929473876953125]\n",
       " [0.370370370370370356749578633070996147580444812774658203125, 0.148148148148148146863167795572735485620796680450439453125]\n",
       " [0.66666666666666662965923251249478198587894439697265625, 0.07407407407407408383992475364721030928194522857666015625]\n",
       " [0.07407407407407408383992475364721030928194522857666015625, 0.22222222222222220988641083749826066195964813232421875]\n",
       " [0.74074074074074071349915726614199229516088962554931640625, 0.29629629629629629372633559114547097124159336090087890625]\n",
       " [0.037037037037037041919962376823605154640972614288330078125, 0.111111111111111104943205418749130330979824066162109375]\n",
       " [0.333333333333333314829616256247390992939472198486328125, 0.037037037037037041919962376823605154640972614288330078125]\n",
       " [0.22222222222222220988641083749826066195964813232421875, 0.66666666666666662965923251249478198587894439697265625]\n",
       " ⋮\n",
       " [0.111111111111111104943205418749130330979824066162109375, 0.333333333333333314829616256247390992939472198486328125]\n",
       " [0.51851851851851850361274642864373163320124149322509765625, 0.592592592592592566635989470569256809540092945098876953125]\n",
       " [0.814814814814814776522400308067517471499741077423095703125, 0.51851851851851850361274642864373163320124149322509765625]\n",
       " [0.481481481481481461692784051820126478560268878936767578125, 0.481481481481481461692784051820126478560268878936767578125]\n",
       " [0.777777777777777734602437931243912316858768463134765625, 0.40740740740740739866954100989460130222141742706298828125]\n",
       " [0.18518518518518518878313017239634064026176929473876953125, 0.555555555555555524716027093745651654899120330810546875]\n",
       " [0.85185185185185181844236268489112262614071369171142578125, 0.62962962962962960855595184739286196418106555938720703125]\n",
       " [0.148148148148148146863167795572735485620796680450439453125, 0.4444444444444444197728216749965213239192962646484375]\n",
       " [0.4444444444444444197728216749965213239192962646484375, 0.370370370370370356749578633070996147580444812774658203125]"
      ]
     },
     "metadata": {},
     "output_type": "display_data"
    }
   ],
   "source": [
    "gen_all_points(C,b)\n",
    "pts = gen_all_points(C,b)"
   ]
  },
  {
   "cell_type": "code",
   "execution_count": 43,
   "metadata": {},
   "outputs": [
    {
     "data": {
      "text/plain": [
       "2-element Vector{AbstractAlgebra.Generic.MatSpaceElem{AbstractAlgebra.GFElem{Int64}}}:\n",
       " [1 0 0; 0 1 0; 0 0 1]\n",
       " [0 1 0; 0 0 1; 1 0 0]"
      ]
     },
     "metadata": {},
     "output_type": "display_data"
    }
   ],
   "source": [
    "C_r1 = K_1\n",
    "C_r2 = K_3_l\n",
    "\n",
    "C_r = [C_r1,C_r2]"
   ]
  },
  {
   "cell_type": "code",
   "execution_count": 44,
   "metadata": {},
   "outputs": [
    {
     "data": {
      "text/plain": [
       "27-element Vector{Vector{BigFloat}}:\n",
       " [0.0, 0.0]\n",
       " [0.333333333333333314829616256247390992939472198486328125, 0.037037037037037041919962376823605154640972614288330078125]\n",
       " [0.66666666666666662965923251249478198587894439697265625, 0.07407407407407408383992475364721030928194522857666015625]\n",
       " [0.111111111111111104943205418749130330979824066162109375, 0.333333333333333314829616256247390992939472198486328125]\n",
       " [0.4444444444444444197728216749965213239192962646484375, 0.370370370370370356749578633070996147580444812774658203125]\n",
       " [0.777777777777777734602437931243912316858768463134765625, 0.40740740740740739866954100989460130222141742706298828125]\n",
       " [0.22222222222222220988641083749826066195964813232421875, 0.66666666666666662965923251249478198587894439697265625]\n",
       " [0.555555555555555524716027093745651654899120330810546875, 0.703703703703703671579194889318387140519917011260986328125]\n",
       " [0.888888888888888839545643349993042647838592529296875, 0.74074074074074071349915726614199229516088962554931640625]\n",
       " [0.037037037037037041919962376823605154640972614288330078125, 0.111111111111111104943205418749130330979824066162109375]\n",
       " ⋮\n",
       " [0.07407407407407408383992475364721030928194522857666015625, 0.22222222222222220988641083749826066195964813232421875]\n",
       " [0.40740740740740739866954100989460130222141742706298828125, 0.259259259259259251806373214321865816600620746612548828125]\n",
       " [0.74074074074074071349915726614199229516088962554931640625, 0.29629629629629629372633559114547097124159336090087890625]\n",
       " [0.18518518518518518878313017239634064026176929473876953125, 0.555555555555555524716027093745651654899120330810546875]\n",
       " [0.51851851851851850361274642864373163320124149322509765625, 0.592592592592592566635989470569256809540092945098876953125]\n",
       " [0.85185185185185181844236268489112262614071369171142578125, 0.62962962962962960855595184739286196418106555938720703125]\n",
       " [0.29629629629629629372633559114547097124159336090087890625, 0.888888888888888839545643349993042647838592529296875]\n",
       " [0.62962962962962960855595184739286196418106555938720703125, 0.925925925925925881465605726816647802479565143585205078125]\n",
       " [0.96296296296296292338556810364025295712053775787353515625, 0.96296296296296292338556810364025295712053775787353515625]"
      ]
     },
     "metadata": {},
     "output_type": "display_data"
    }
   ],
   "source": [
    "gen_all_points(C_r,b)\n",
    "pts_r = gen_all_points(C_r,b)"
   ]
  },
  {
   "cell_type": "code",
   "execution_count": 38,
   "metadata": {},
   "outputs": [],
   "source": [
    "set_theme!(theme_ggplot2())"
   ]
  },
  {
   "cell_type": "code",
   "execution_count": 45,
   "metadata": {},
   "outputs": [
    {
     "data": {
      "image/png": "[encoded data removed]"
     },
     "metadata": {},
     "output_type": "display_data"
    }
   ],
   "source": [
    "fig = Figure(resolution = (800, 400))\n",
    "ax = Axis(fig[1,1], title = \"point set\")\n",
    "scatter!( Point2.(pts) )\n",
    "\n",
    "ax = Axis(fig[1,2], title = \"reduced point set\")\n",
    "scatter!( Point2.(pts_r) )\n",
    "fig"
   ]
  },
  {
   "cell_type": "markdown",
   "metadata": {},
   "source": [
    "Computing the NRT-weight and Dual space"
   ]
  },
  {
   "cell_type": "code",
   "execution_count": 49,
   "metadata": {},
   "outputs": [
    {
     "data": {
      "text/plain": [
       "33825"
      ]
     },
     "metadata": {},
     "output_type": "display_data"
    }
   ],
   "source": [
    "1+2^5+2^10+2^15"
   ]
  },
  {
   "cell_type": "code",
   "execution_count": 19,
   "metadata": {},
   "outputs": [
    {
     "data": {
      "text/plain": [
       "729-element Vector{NTuple{6, Int64}}:\n",
       " (0, 0, 0, 0, 0, 0)\n",
       " (1, 0, 0, 0, 0, 0)\n",
       " (2, 0, 0, 0, 0, 0)\n",
       " (0, 1, 0, 0, 0, 0)\n",
       " (1, 1, 0, 0, 0, 0)\n",
       " (2, 1, 0, 0, 0, 0)\n",
       " (0, 2, 0, 0, 0, 0)\n",
       " (1, 2, 0, 0, 0, 0)\n",
       " (2, 2, 0, 0, 0, 0)\n",
       " (0, 0, 1, 0, 0, 0)\n",
       " ⋮\n",
       " (0, 0, 2, 2, 2, 2)\n",
       " (1, 0, 2, 2, 2, 2)\n",
       " (2, 0, 2, 2, 2, 2)\n",
       " (0, 1, 2, 2, 2, 2)\n",
       " (1, 1, 2, 2, 2, 2)\n",
       " (2, 1, 2, 2, 2, 2)\n",
       " (0, 2, 2, 2, 2, 2)\n",
       " (1, 2, 2, 2, 2, 2)\n",
       " (2, 2, 2, 2, 2, 2)"
      ]
     },
     "metadata": {},
     "output_type": "display_data"
    }
   ],
   "source": [
    "dual_badic = collect(Iterators.product(fill(0:b-1, m*s)...))[:]"
   ]
  },
  {
   "cell_type": "code",
   "execution_count": 20,
   "metadata": {},
   "outputs": [
    {
     "data": {
      "text/plain": [
       "nrt_wt (generic function with 1 method)"
      ]
     },
     "metadata": {},
     "output_type": "display_data"
    }
   ],
   "source": [
    "function nrt_wt(v,m,s,b)\n",
    "    wt = 0\n",
    "    for i in 0:m:(m*s -1)\n",
    "        for j in m:-1:1         #reverse(1:m)\n",
    "            if v[i+j] != 0\n",
    "                wt += j\n",
    "                break\n",
    "            end\n",
    "        end\n",
    "    end\n",
    "    return wt\n",
    "end"
   ]
  },
  {
   "cell_type": "code",
   "execution_count": 21,
   "metadata": {},
   "outputs": [
    {
     "data": {
      "text/plain": [
       "729-element Vector{Int64}:\n",
       " 0\n",
       " 1\n",
       " 1\n",
       " 2\n",
       " 2\n",
       " 2\n",
       " 2\n",
       " 2\n",
       " 2\n",
       " 3\n",
       " ⋮\n",
       " 6\n",
       " 6\n",
       " 6\n",
       " 6\n",
       " 6\n",
       " 6\n",
       " 6\n",
       " 6\n",
       " 6"
      ]
     },
     "metadata": {},
     "output_type": "display_data"
    }
   ],
   "source": [
    "nrt_wt.(dual_badic,3,2,3)"
   ]
  },
  {
   "cell_type": "code",
   "execution_count": 22,
   "metadata": {},
   "outputs": [],
   "source": [
    "wt_dict = Dict()\n",
    "    for x in dual_badic\n",
    "        wt = nrt_wt(x,m,s,b)\n",
    "        if haskey(wt_dict,wt)\n",
    "            push!(wt_dict[wt],x)\n",
    "        else \n",
    "            wt_dict[wt] = [x]\n",
    "        end\n",
    "    end "
   ]
  },
  {
   "cell_type": "code",
   "execution_count": 23,
   "metadata": {},
   "outputs": [
    {
     "data": {
      "text/plain": [
       "dual_C (generic function with 1 method)"
      ]
     },
     "metadata": {},
     "output_type": "display_data"
    }
   ],
   "source": [
    "function dual_C(M,b,m,s)\n",
    "    dual_elt = []\n",
    "    for n in dual_badic\n",
    "        if transpose(collect(n))*M == [0 0 0] \n",
    "            dual_elt = push!(dual_elt, n)\n",
    "        end\n",
    "    end\n",
    "    return dual_elt\n",
    "end"
   ]
  },
  {
   "cell_type": "code",
   "execution_count": 24,
   "metadata": {},
   "outputs": [
    {
     "data": {
      "text/plain": [
       "6×3 Matrix{AbstractAlgebra.GFElem{Int64}}:\n",
       " 1  1  1\n",
       " 0  1  2\n",
       " 0  0  1\n",
       " 1  2  1\n",
       " 0  1  1\n",
       " 0  0  1"
      ]
     },
     "metadata": {},
     "output_type": "display_data"
    }
   ],
   "source": [
    "M = [C_1;C_2]\n",
    "# transpose(collect(dual_badic[64]))*M == [0 0 0] "
   ]
  },
  {
   "cell_type": "code",
   "execution_count": 25,
   "metadata": {},
   "outputs": [
    {
     "data": {
      "text/plain": [
       "27-element Vector{Any}:\n",
       " (0, 0, 0, 0, 0, 0)\n",
       " (2, 2, 2, 1, 0, 0)\n",
       " (1, 1, 1, 2, 0, 0)\n",
       " (0, 2, 1, 0, 1, 0)\n",
       " (2, 1, 0, 1, 1, 0)\n",
       " (1, 0, 2, 2, 1, 0)\n",
       " (0, 1, 2, 0, 2, 0)\n",
       " (2, 0, 1, 1, 2, 0)\n",
       " (1, 2, 0, 2, 2, 0)\n",
       " (0, 0, 2, 0, 0, 1)\n",
       " ⋮\n",
       " (0, 0, 1, 0, 0, 2)\n",
       " (2, 2, 0, 1, 0, 2)\n",
       " (1, 1, 2, 2, 0, 2)\n",
       " (0, 2, 2, 0, 1, 2)\n",
       " (2, 1, 1, 1, 1, 2)\n",
       " (1, 0, 0, 2, 1, 2)\n",
       " (0, 1, 0, 0, 2, 2)\n",
       " (2, 0, 2, 1, 2, 2)\n",
       " (1, 2, 1, 2, 2, 2)"
      ]
     },
     "metadata": {},
     "output_type": "display_data"
    }
   ],
   "source": [
    "dual_pts = dual_C(M,3,3,2)"
   ]
  },
  {
   "cell_type": "code",
   "execution_count": 26,
   "metadata": {},
   "outputs": [
    {
     "data": {
      "text/plain": [
       "6×3 Matrix{AbstractAlgebra.GFElem{Int64}}:\n",
       " 1  1  0\n",
       " 0  1  0\n",
       " 0  0  0\n",
       " 1  2  0\n",
       " 0  1  0\n",
       " 0  0  0"
      ]
     },
     "metadata": {},
     "output_type": "display_data"
    }
   ],
   "source": [
    "M_r = [C_r1; C_r2]"
   ]
  },
  {
   "cell_type": "code",
   "execution_count": 27,
   "metadata": {},
   "outputs": [
    {
     "data": {
      "text/plain": [
       "81-element Vector{Any}:\n",
       " (0, 0, 0, 0, 0, 0)\n",
       " (0, 0, 1, 0, 0, 0)\n",
       " (0, 0, 2, 0, 0, 0)\n",
       " (2, 2, 0, 1, 0, 0)\n",
       " (2, 2, 1, 1, 0, 0)\n",
       " (2, 2, 2, 1, 0, 0)\n",
       " (1, 1, 0, 2, 0, 0)\n",
       " (1, 1, 1, 2, 0, 0)\n",
       " (1, 1, 2, 2, 0, 0)\n",
       " (0, 2, 0, 0, 1, 0)\n",
       " ⋮\n",
       " (0, 1, 0, 0, 2, 2)\n",
       " (0, 1, 1, 0, 2, 2)\n",
       " (0, 1, 2, 0, 2, 2)\n",
       " (2, 0, 0, 1, 2, 2)\n",
       " (2, 0, 1, 1, 2, 2)\n",
       " (2, 0, 2, 1, 2, 2)\n",
       " (1, 2, 0, 2, 2, 2)\n",
       " (1, 2, 1, 2, 2, 2)\n",
       " (1, 2, 2, 2, 2, 2)"
      ]
     },
     "metadata": {},
     "output_type": "display_data"
    }
   ],
   "source": [
    "dual_pts_r = dual_C(M_r,3,3,2)"
   ]
  },
  {
   "cell_type": "code",
   "execution_count": 28,
   "metadata": {},
   "outputs": [],
   "source": [
    "wt_dict_dual = Dict()\n",
    "    for x in dual_pts\n",
    "        wt = nrt_wt(x,m,s,b)\n",
    "        if haskey(wt_dict_dual,wt)\n",
    "            push!(wt_dict_dual[wt],x)\n",
    "        else \n",
    "            wt_dict_dual[wt] = [x]\n",
    "        end\n",
    "    end "
   ]
  },
  {
   "cell_type": "code",
   "execution_count": 34,
   "metadata": {},
   "outputs": [
    {
     "data": {
      "text/plain": [
       "6-element Vector{NTuple{6, Int64}}:\n",
       " (2, 2, 2, 1, 0, 0)\n",
       " (1, 1, 1, 2, 0, 0)\n",
       " (2, 1, 0, 1, 1, 0)\n",
       " (1, 2, 0, 2, 2, 0)\n",
       " (2, 0, 0, 1, 2, 1)\n",
       " (1, 0, 0, 2, 1, 2)"
      ]
     },
     "metadata": {},
     "output_type": "display_data"
    }
   ],
   "source": [
    "wt_dict_dual[4]"
   ]
  },
  {
   "cell_type": "code",
   "execution_count": 30,
   "metadata": {},
   "outputs": [],
   "source": [
    "wt_dict_dual_r = Dict()\n",
    "    for x in dual_pts_r\n",
    "        wt = nrt_wt(x,m,s,b)\n",
    "        if haskey(wt_dict_dual_r,wt)\n",
    "            push!(wt_dict_dual_r[wt],x)\n",
    "        else \n",
    "            wt_dict_dual_r[wt] = [x]\n",
    "        end\n",
    "    end "
   ]
  },
  {
   "cell_type": "code",
   "execution_count": 36,
   "metadata": {},
   "outputs": [
    {
     "data": {
      "text/plain": [
       "12-element Vector{NTuple{6, Int64}}:\n",
       " (2, 2, 1, 1, 0, 0)\n",
       " (2, 2, 2, 1, 0, 0)\n",
       " (1, 1, 1, 2, 0, 0)\n",
       " (1, 1, 2, 2, 0, 0)\n",
       " (0, 2, 0, 0, 1, 0)\n",
       " (2, 1, 0, 1, 1, 0)\n",
       " (0, 1, 0, 0, 2, 0)\n",
       " (1, 2, 0, 2, 2, 0)\n",
       " (1, 0, 0, 2, 1, 1)\n",
       " (2, 0, 0, 1, 2, 1)\n",
       " (1, 0, 0, 2, 1, 2)\n",
       " (2, 0, 0, 1, 2, 2)"
      ]
     },
     "metadata": {},
     "output_type": "display_data"
    }
   ],
   "source": [
    "wt_dict_dual_r[4]"
   ]
  },
  {
   "cell_type": "code",
   "execution_count": 32,
   "metadata": {},
   "outputs": [],
   "source": []
  },
  {
   "cell_type": "code",
   "execution_count": null,
   "metadata": {},
   "outputs": [],
   "source": []
  }
 ],
 "metadata": {
  "kernelspec": {
   "display_name": "Julia 1.9.3",
   "language": "julia",
   "name": "julia-1.9"
  },
  "language_info": {
   "file_extension": ".jl",
   "mimetype": "application/julia",
   "name": "julia",
   "version": "1.9.3"
  },
  "orig_nbformat": 4
 },
 "nbformat": 4,
 "nbformat_minor": 2
}
