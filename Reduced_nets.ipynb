{
 "cells": [
  {
   "cell_type": "code",
   "execution_count": 1,
   "metadata": {},
   "outputs": [],
   "source": [
    "import Pkg "
   ]
  },
  {
   "cell_type": "code",
   "execution_count": 2,
   "metadata": {},
   "outputs": [
    {
     "name": "stderr",
     "output_type": "stream",
     "text": [
      "\u001b[32m\u001b[1m    Updating\u001b[22m\u001b[39m registry at `~/.julia/registries/General.toml`\n",
      "\u001b[32m\u001b[1m   Resolving\u001b[22m\u001b[39m package versions...\n",
      "\u001b[32m\u001b[1m   Installed\u001b[22m\u001b[39m Pango_jll ────────── v1.52.2+0\n",
      "\u001b[32m\u001b[1m   Installed\u001b[22m\u001b[39m Formatting ───────── v0.4.3\n",
      "\u001b[32m\u001b[1m   Installed\u001b[22m\u001b[39m StableHashTraits ─── v1.1.8\n",
      "\u001b[32m\u001b[1m   Installed\u001b[22m\u001b[39m PikaParser ───────── v0.6.1\n",
      "\u001b[32m\u001b[1m   Installed\u001b[22m\u001b[39m TupleTools ───────── v1.5.0\n",
      "\u001b[32m\u001b[1m   Installed\u001b[22m\u001b[39m OffsetArrays ─────── v1.14.0\n",
      "\u001b[32m\u001b[1m   Installed\u001b[22m\u001b[39m FiniteDiff ───────── v2.23.1\n",
      "\u001b[32m\u001b[1m   Installed\u001b[22m\u001b[39m Polynomials ──────── v4.0.7\n",
      "\u001b[32m\u001b[1m   Installed\u001b[22m\u001b[39m GroupsCore ───────── v0.4.2\n",
      "\u001b[32m\u001b[1m   Installed\u001b[22m\u001b[39m AliasTables ──────── v1.0.0\n",
      "\u001b[32m\u001b[1m   Installed\u001b[22m\u001b[39m ArrayInterface ───── v7.10.0\n",
      "\u001b[32m\u001b[1m   Installed\u001b[22m\u001b[39m DataStructures ───── v0.18.20\n",
      "\u001b[32m\u001b[1m   Installed\u001b[22m\u001b[39m GeoInterface ─────── v1.3.4\n",
      "\u001b[32m\u001b[1m   Installed\u001b[22m\u001b[39m IntervalArithmetic ─ v0.22.11\n",
      "\u001b[32m\u001b[1m   Installed\u001b[22m\u001b[39m Distributions ────── v0.25.108\n",
      "\u001b[32m\u001b[1m  No Changes\u001b[22m\u001b[39m to `~/Documents/Programming/t_value_experiments/Project.toml`\n",
      "\u001b[32m\u001b[1m    Updating\u001b[22m\u001b[39m `~/Documents/Programming/t_value_experiments/Manifest.toml`\n",
      "  \u001b[90m[398f06c4] \u001b[39m\u001b[93m↑ AbstractLattices v0.2.1 ⇒ v0.3.0\u001b[39m\n",
      "  \u001b[90m[1520ce14] \u001b[39m\u001b[93m↑ AbstractTrees v0.4.4 ⇒ v0.4.5\u001b[39m\n",
      "  \u001b[90m[79e6a3ab] \u001b[39m\u001b[93m↑ Adapt v3.7.1 ⇒ v4.0.4\u001b[39m\n",
      "  \u001b[90m[66dad0bd] \u001b[39m\u001b[92m+ AliasTables v1.0.0\u001b[39m\n",
      "  \u001b[90m[4fba245c] \u001b[39m\u001b[93m↑ ArrayInterface v7.5.0 ⇒ v7.10.0\u001b[39m\n",
      "  \u001b[90m[67c07d97] \u001b[39m\u001b[93m↑ Automa v0.8.4 ⇒ v1.0.3\u001b[39m\n",
      "  \u001b[90m[13072b0f] \u001b[39m\u001b[93m↑ AxisAlgorithms v1.0.1 ⇒ v1.1.0\u001b[39m\n",
      "  \u001b[90m[fa961155] \u001b[39m\u001b[93m↑ CEnum v0.4.2 ⇒ v0.5.0\u001b[39m\n",
      "  \u001b[90m[96374032] \u001b[39m\u001b[91m- CRlibm v1.0.1\u001b[39m\n",
      "  \u001b[90m[d360d2e6] \u001b[39m\u001b[93m↑ ChainRulesCore v1.18.0 ⇒ v1.23.0\u001b[39m\n",
      "  \u001b[90m[9e997f8a] \u001b[39m\u001b[91m- ChangesOfVariables v0.1.8\u001b[39m\n",
      "  \u001b[90m[944b1d66] \u001b[39m\u001b[93m↑ CodecZlib v0.7.3 ⇒ v0.7.4\u001b[39m\n",
      "  \u001b[90m[3da002f7] \u001b[39m\u001b[93m↑ ColorTypes v0.11.4 ⇒ v0.11.5\u001b[39m\n",
      "  \u001b[90m[c3611d14] \u001b[39m\u001b[93m↑ ColorVectorSpace v0.9.10 ⇒ v0.10.0\u001b[39m\n",
      "  \u001b[90m[34da2185] \u001b[39m\u001b[93m↑ Compat v4.10.0 ⇒ v4.14.0\u001b[39m\n",
      "  \u001b[90m[187b0558] \u001b[39m\u001b[93m↑ ConstructionBase v1.5.4 ⇒ v1.5.5\u001b[39m\n",
      "  \u001b[90m[d38c429a] \u001b[39m\u001b[93m↑ Contour v0.6.2 ⇒ v0.6.3\u001b[39m\n",
      "  \u001b[90m[9a962f9c] \u001b[39m\u001b[93m↑ DataAPI v1.15.0 ⇒ v1.16.0\u001b[39m\n",
      "  \u001b[90m[864edb3b] \u001b[39m\u001b[93m↑ DataStructures v0.18.15 ⇒ v0.18.20\u001b[39m\n",
      "\u001b[33m⌅\u001b[39m \u001b[90m[927a84f5] \u001b[39m\u001b[93m↑ DelaunayTriangulation v0.8.8 ⇒ v0.8.12\u001b[39m\n",
      "  \u001b[90m[b429d917] \u001b[39m\u001b[91m- DensityInterface v0.4.0\u001b[39m\n",
      "  \u001b[90m[31c24e10] \u001b[39m\u001b[93m↑ Distributions v0.25.102 ⇒ v0.25.108\u001b[39m\n",
      "  \u001b[90m[90fa49ef] \u001b[39m\u001b[91m- ErrorfreeArithmetic v0.5.2\u001b[39m\n",
      "  \u001b[90m[429591f6] \u001b[39m\u001b[93m↑ ExactPredicates v2.2.5 ⇒ v2.2.8\u001b[39m\n",
      "  \u001b[90m[7a1cc6ca] \u001b[39m\u001b[93m↑ FFTW v1.7.1 ⇒ v1.8.0\u001b[39m\n",
      "  \u001b[90m[fa42c844] \u001b[39m\u001b[91m- FastRounding v0.3.1\u001b[39m\n",
      "  \u001b[90m[5789e2e9] \u001b[39m\u001b[93m↑ FileIO v1.16.1 ⇒ v1.16.3\u001b[39m\n",
      "  \u001b[90m[1a297f60] \u001b[39m\u001b[93m↑ FillArrays v1.7.0 ⇒ v1.10.0\u001b[39m\n",
      "  \u001b[90m[6a86dc24] \u001b[39m\u001b[93m↑ FiniteDiff v2.21.1 ⇒ v2.23.1\u001b[39m\n",
      "  \u001b[90m[59287772] \u001b[39m\u001b[93m↑ Formatting v0.4.2 ⇒ v0.4.3\u001b[39m\n",
      "  \u001b[90m[b38be410] \u001b[39m\u001b[93m↑ FreeType v4.1.0 ⇒ v4.1.1\u001b[39m\n",
      "  \u001b[90m[663a7486] \u001b[39m\u001b[93m↑ FreeTypeAbstraction v0.10.0 ⇒ v0.10.3\u001b[39m\n",
      "  \u001b[90m[46192b85] \u001b[39m\u001b[91m- GPUArraysCore v0.1.5\u001b[39m\n",
      "  \u001b[90m[cf35fbd7] \u001b[39m\u001b[93m↑ GeoInterface v1.3.2 ⇒ v1.3.4\u001b[39m\n",
      "  \u001b[90m[5c1252a2] \u001b[39m\u001b[93m↑ GeometryBasics v0.4.9 ⇒ v0.4.10\u001b[39m\n",
      "\u001b[33m⌅\u001b[39m \u001b[90m[d5909c97] \u001b[39m\u001b[93m↑ GroupsCore v0.4.0 ⇒ v0.4.2\u001b[39m\n",
      "  \u001b[90m[c817782e] \u001b[39m\u001b[93m↑ ImageBase v0.1.5 ⇒ v0.1.7\u001b[39m\n",
      "  \u001b[90m[a09fc81d] \u001b[39m\u001b[93m↑ ImageCore v0.9.4 ⇒ v0.10.2\u001b[39m\n",
      "  \u001b[90m[a98d9a8b] \u001b[39m\u001b[93m↑ Interpolations v0.14.7 ⇒ v0.15.1\u001b[39m\n",
      "  \u001b[90m[d1acc4aa] \u001b[39m\u001b[93m↑ IntervalArithmetic v0.20.9 ⇒ v0.22.11\u001b[39m\n",
      "  \u001b[90m[8197267c] \u001b[39m\u001b[93m↑ IntervalSets v0.7.8 ⇒ v0.7.10\u001b[39m\n",
      "  \u001b[90m[3587e190] \u001b[39m\u001b[91m- InverseFunctions v0.1.12\u001b[39m\n",
      "  \u001b[90m[c8e1da08] \u001b[39m\u001b[93m↑ IterTools v1.4.0 ⇒ v1.10.0\u001b[39m\n",
      "  \u001b[90m[b835a17e] \u001b[39m\u001b[93m↑ JpegTurbo v0.1.4 ⇒ v0.1.5\u001b[39m\n",
      "  \u001b[90m[5ab0869b] \u001b[39m\u001b[93m↑ KernelDensity v0.6.7 ⇒ v0.6.8\u001b[39m\n",
      "  \u001b[90m[b964fa9f] \u001b[39m\u001b[93m↑ LaTeXStrings v1.3.0 ⇒ v1.3.1\u001b[39m\n",
      "  \u001b[90m[9c8b4983] \u001b[39m\u001b[93m↑ LightXML v0.9.0 ⇒ v0.9.1\u001b[39m\n",
      "  \u001b[90m[9b3f67b0] \u001b[39m\u001b[93m↑ LinearAlgebraX v0.1.12 ⇒ v0.2.7\u001b[39m\n",
      "  \u001b[90m[2ab3a3ac] \u001b[39m\u001b[93m↑ LogExpFunctions v0.3.26 ⇒ v0.3.27\u001b[39m\n",
      "  \u001b[90m[1914dd2f] \u001b[39m\u001b[93m↑ MacroTools v0.5.11 ⇒ v0.5.13\u001b[39m\n",
      "  \u001b[90m[0a4f8689] \u001b[39m\u001b[93m↑ MathTeXEngine v0.5.6 ⇒ v0.5.7\u001b[39m\n",
      "  \u001b[90m[e1d29d7a] \u001b[39m\u001b[93m↑ Missings v1.1.0 ⇒ v1.2.0\u001b[39m\n",
      "  \u001b[90m[7475f97c] \u001b[39m\u001b[93m↑ Mods v1.3.3 ⇒ v2.2.4\u001b[39m\n",
      "  \u001b[90m[510215fc] \u001b[39m\u001b[93m↑ Observables v0.5.4 ⇒ v0.5.5\u001b[39m\n",
      "  \u001b[90m[6fe1bfb0] \u001b[39m\u001b[93m↑ OffsetArrays v1.12.10 ⇒ v1.14.0\u001b[39m\n",
      "  \u001b[90m[429524aa] \u001b[39m\u001b[93m↑ Optim v1.7.8 ⇒ v1.9.4\u001b[39m\n",
      "  \u001b[90m[bac558e1] \u001b[39m\u001b[93m↑ OrderedCollections v1.6.2 ⇒ v1.6.3\u001b[39m\n",
      "  \u001b[90m[90014a1f] \u001b[39m\u001b[93m↑ PDMats v0.11.28 ⇒ v0.11.31\u001b[39m\n",
      "  \u001b[90m[f57f5aa1] \u001b[39m\u001b[93m↑ PNGFiles v0.4.1 ⇒ v0.4.3\u001b[39m\n",
      "  \u001b[90m[69de0a69] \u001b[39m\u001b[93m↑ Parsers v2.7.2 ⇒ v2.8.1\u001b[39m\n",
      "  \u001b[90m[2ae35dd2] \u001b[39m\u001b[93m↑ Permutations v0.4.17 ⇒ v0.4.20\u001b[39m\n",
      "  \u001b[90m[3bbf5609] \u001b[39m\u001b[92m+ PikaParser v0.6.1\u001b[39m\n",
      "  \u001b[90m[995b91a9] \u001b[39m\u001b[93m↑ PlotUtils v1.3.5 ⇒ v1.4.1\u001b[39m\n",
      "  \u001b[90m[f27b6e38] \u001b[39m\u001b[93m↑ Polynomials v4.0.4 ⇒ v4.0.7\u001b[39m\n",
      "  \u001b[90m[aea7be01] \u001b[39m\u001b[93m↑ PrecompileTools v1.2.0 ⇒ v1.2.1\u001b[39m\n",
      "  \u001b[90m[21216c6a] \u001b[39m\u001b[93m↑ Preferences v1.4.1 ⇒ v1.4.3\u001b[39m\n",
      "  \u001b[90m[08abe8d2] \u001b[39m\u001b[93m↑ PrettyTables v2.2.8 ⇒ v2.3.1\u001b[39m\n",
      "  \u001b[90m[27ebfcd6] \u001b[39m\u001b[93m↑ Primes v0.5.4 ⇒ v0.5.6\u001b[39m\n",
      "  \u001b[90m[1fd47b50] \u001b[39m\u001b[93m↑ QuadGK v2.9.1 ⇒ v2.9.4\u001b[39m\n",
      "  \u001b[90m[6c6a2e73] \u001b[39m\u001b[93m↑ Scratch v1.2.0 ⇒ v1.2.1\u001b[39m\n",
      "  \u001b[90m[91c51154] \u001b[39m\u001b[93m↑ SentinelArrays v1.4.0 ⇒ v1.4.1\u001b[39m\n",
      "  \u001b[90m[3cc68bcd] \u001b[39m\u001b[91m- SetRounding v0.2.1\u001b[39m\n",
      "  \u001b[90m[65257c39] \u001b[39m\u001b[93m↑ ShaderAbstractions v0.4.0 ⇒ v0.4.1\u001b[39m\n",
      "  \u001b[90m[55797a34] \u001b[39m\u001b[93m↑ SimpleGraphs v0.8.4 ⇒ v0.8.6\u001b[39m\n",
      "  \u001b[90m[ec83eff0] \u001b[39m\u001b[93m↑ SimplePartitions v0.3.0 ⇒ v0.3.2\u001b[39m\n",
      "  \u001b[90m[cc47b68c] \u001b[39m\u001b[93m↑ SimplePolynomials v0.2.14 ⇒ v0.2.17\u001b[39m\n",
      "  \u001b[90m[a2af1166] \u001b[39m\u001b[93m↑ SortingAlgorithms v1.2.0 ⇒ v1.2.1\u001b[39m\n",
      "  \u001b[90m[c5dd0088] \u001b[39m\u001b[93m↑ StableHashTraits v1.1.0 ⇒ v1.1.8\u001b[39m\n",
      "  \u001b[90m[90137ffa] \u001b[39m\u001b[93m↑ StaticArrays v1.6.5 ⇒ v1.9.3\u001b[39m\n",
      "  \u001b[90m[2913bbd2] \u001b[39m\u001b[93m↑ StatsBase v0.34.2 ⇒ v0.34.3\u001b[39m\n",
      "  \u001b[90m[4c63d2b9] \u001b[39m\u001b[93m↑ StatsFuns v1.3.0 ⇒ v1.3.1\u001b[39m\n",
      "  \u001b[90m[09ab397b] \u001b[39m\u001b[93m↑ StructArrays v0.6.16 ⇒ v0.6.18\u001b[39m\n",
      "  \u001b[90m[3bb67fe8] \u001b[39m\u001b[93m↑ TranscodingStreams v0.9.13 ⇒ v0.10.7\u001b[39m\n",
      "  \u001b[90m[9d95972d] \u001b[39m\u001b[93m↑ TupleTools v1.4.3 ⇒ v1.5.0\u001b[39m\n",
      "  \u001b[90m[efce3f68] \u001b[39m\u001b[93m↑ WoodburyMatrices v0.5.5 ⇒ v1.0.0\u001b[39m\n",
      "  \u001b[90m[6e34b625] \u001b[39m\u001b[93m↑ Bzip2_jll v1.0.8+0 ⇒ v1.0.8+1\u001b[39m\n",
      "  \u001b[90m[83423d85] \u001b[39m\u001b[93m↑ Cairo_jll v1.16.1+1 ⇒ v1.18.0+1\u001b[39m\n",
      "  \u001b[90m[b22a6f82] \u001b[39m\u001b[93m↑ FFMPEG_jll v4.4.4+1 ⇒ v6.1.1+0\u001b[39m\n",
      "  \u001b[90m[7746bdde] \u001b[39m\u001b[93m↑ Glib_jll v2.76.5+0 ⇒ v2.80.0+0\u001b[39m\n",
      "  \u001b[90m[1d5cc7b8] \u001b[39m\u001b[93m↑ IntelOpenMP_jll v2023.2.0+0 ⇒ v2024.0.2+0\u001b[39m\n",
      "  \u001b[90m[aacddb02] \u001b[39m\u001b[93m↑ JpegTurbo_jll v2.1.91+0 ⇒ v3.0.2+0\u001b[39m\n",
      "  \u001b[90m[1d63c593] \u001b[39m\u001b[93m↑ LLVMOpenMP_jll v15.0.4+0 ⇒ v15.0.7+0\u001b[39m\n",
      "  \u001b[90m[4b2f31a3] \u001b[39m\u001b[93m↑ Libmount_jll v2.35.0+0 ⇒ v2.39.3+0\u001b[39m\n",
      "  \u001b[90m[38a345b3] \u001b[39m\u001b[93m↑ Libuuid_jll v2.36.0+0 ⇒ v2.39.3+1\u001b[39m\n",
      "  \u001b[90m[856f044c] \u001b[39m\u001b[93m↑ MKL_jll v2023.2.0+0 ⇒ v2024.0.0+0\u001b[39m\n",
      "  \u001b[90m[458c3c95] \u001b[39m\u001b[93m↑ OpenSSL_jll v3.0.12+0 ⇒ v3.0.13+1\u001b[39m\n",
      "  \u001b[90m[36c8627f] \u001b[39m\u001b[93m↑ Pango_jll v1.50.14+0 ⇒ v1.52.2+0\u001b[39m\n",
      "  \u001b[90m[02c8fc9c] \u001b[39m\u001b[93m↑ XML2_jll v2.11.5+0 ⇒ v2.12.6+0\u001b[39m\n",
      "  \u001b[90m[b53b4c65] \u001b[39m\u001b[93m↑ libpng_jll v1.6.38+0 ⇒ v1.6.43+1\u001b[39m\n",
      "  \u001b[90m[b27032c2] \u001b[39m\u001b[93m↑ LibCURL v0.6.3 ⇒ v0.6.4\u001b[39m\n",
      "  \u001b[90m[44cfe95a] \u001b[39m\u001b[93m↑ Pkg v1.9.2 ⇒ v1.10.0\u001b[39m\n",
      "  \u001b[90m[2f01184e] \u001b[39m\u001b[93m~ SparseArrays ⇒ v1.10.0\u001b[39m\n",
      "  \u001b[90m[10745b16] \u001b[39m\u001b[93m↑ Statistics v1.9.0 ⇒ v1.10.0\u001b[39m\n",
      "  \u001b[90m[e66e0078] \u001b[39m\u001b[93m↑ CompilerSupportLibraries_jll v1.0.5+0 ⇒ v1.1.0+0\u001b[39m\n",
      "  \u001b[90m[deac9b47] \u001b[39m\u001b[93m↑ LibCURL_jll v7.84.0+0 ⇒ v8.4.0+0\u001b[39m\n",
      "  \u001b[90m[e37daf67] \u001b[39m\u001b[92m+ LibGit2_jll v1.6.4+0\u001b[39m\n",
      "  \u001b[90m[29816b5a] \u001b[39m\u001b[93m↑ LibSSH2_jll v1.10.2+0 ⇒ v1.11.0+1\u001b[39m\n",
      "  \u001b[90m[c8ffd9c3] \u001b[39m\u001b[93m↑ MbedTLS_jll v2.28.2+0 ⇒ v2.28.2+1\u001b[39m\n",
      "  \u001b[90m[14a3606d] \u001b[39m\u001b[93m↑ MozillaCACerts_jll v2022.10.11 ⇒ v2023.1.10\u001b[39m\n",
      "  \u001b[90m[4536629a] \u001b[39m\u001b[93m↑ OpenBLAS_jll v0.3.21+4 ⇒ v0.3.23+4\u001b[39m\n",
      "  \u001b[90m[05823500] \u001b[39m\u001b[93m↑ OpenLibm_jll v0.8.1+0 ⇒ v0.8.1+2\u001b[39m\n",
      "  \u001b[90m[efcefdf7] \u001b[39m\u001b[93m↑ PCRE2_jll v10.42.0+0 ⇒ v10.42.0+1\u001b[39m\n",
      "  \u001b[90m[bea87d4a] \u001b[39m\u001b[93m↑ SuiteSparse_jll v5.10.1+6 ⇒ v7.2.1+1\u001b[39m\n",
      "  \u001b[90m[83775a58] \u001b[39m\u001b[93m↑ Zlib_jll v1.2.13+0 ⇒ v1.2.13+1\u001b[39m\n",
      "  \u001b[90m[8e850b90] \u001b[39m\u001b[93m↑ libblastrampoline_jll v5.8.0+0 ⇒ v5.8.0+1\u001b[39m\n",
      "  \u001b[90m[8e850ede] \u001b[39m\u001b[93m↑ nghttp2_jll v1.48.0+0 ⇒ v1.52.0+1\u001b[39m\n",
      "  \u001b[90m[3f19e933] \u001b[39m\u001b[93m↑ p7zip_jll v17.4.0+0 ⇒ v17.4.0+2\u001b[39m\n",
      "\u001b[36m\u001b[1m        Info\u001b[22m\u001b[39m Packages marked with \u001b[33m⌅\u001b[39m have new versions available but compatibility constraints restrict them from upgrading. To see why use `status --outdated -m`\n",
      "\u001b[32m\u001b[1mPrecompiling\u001b[22m\u001b[39m project...\n",
      "\u001b[32m  ✓ \u001b[39m\u001b[90mGroupsCore\u001b[39m\n",
      "\u001b[32m  ✓ \u001b[39m\u001b[90mAliasTables\u001b[39m\n",
      "\u001b[32m  ✓ \u001b[39m\u001b[90mMatch\u001b[39m\n",
      "\u001b[32m  ✓ \u001b[39m\u001b[90mTupleTools\u001b[39m\n",
      "\u001b[32m  ✓ \u001b[39m\u001b[90mPikaParser\u001b[39m\n",
      "\u001b[32m  ✓ \u001b[39m\u001b[90mMakieCore\u001b[39m\n",
      "\u001b[32m  ✓ \u001b[39mProgressMeter\n",
      "\u001b[32m  ✓ \u001b[39m\u001b[90mOffsetArrays\u001b[39m\n",
      "\u001b[32m  ✓ \u001b[39m\u001b[90mFormatting\u001b[39m\n",
      "\u001b[32m  ✓ \u001b[39m\u001b[90mGeoInterface\u001b[39m\n",
      "\u001b[32m  ✓ \u001b[39m\u001b[90mArrayInterface\u001b[39m\n",
      "\u001b[32m  ✓ \u001b[39m\u001b[90mOffsetArrays → OffsetArraysAdaptExt\u001b[39m\n",
      "\u001b[32m  ✓ \u001b[39m\u001b[90mPango_jll\u001b[39m\n",
      "\u001b[32m  ✓ \u001b[39m\u001b[90mArrayInterface → ArrayInterfaceStaticArraysCoreExt\u001b[39m\n",
      "\u001b[32m  ✓ \u001b[39m\u001b[90mDataStructures\u001b[39m\n",
      "\u001b[32m  ✓ \u001b[39m\u001b[90mPaddedViews\u001b[39m\n",
      "\u001b[32m  ✓ \u001b[39m\u001b[90mStackViews\u001b[39m\n",
      "\u001b[32m  ✓ \u001b[39m\u001b[90mRandomExtensions\u001b[39m\n",
      "\u001b[32m  ✓ \u001b[39m\u001b[90mSortingAlgorithms\u001b[39m\n",
      "\u001b[32m  ✓ \u001b[39m\u001b[90mIntervalArithmetic\u001b[39m\n",
      "\u001b[32m  ✓ \u001b[39m\u001b[90mFiniteDiff\u001b[39m\n",
      "\u001b[32m  ✓ \u001b[39m\u001b[90mSimplePartitions\u001b[39m\n",
      "\u001b[32m  ✓ \u001b[39m\u001b[90mCairo\u001b[39m\n",
      "\u001b[32m  ✓ \u001b[39m\u001b[90mMosaicViews\u001b[39m\n",
      "\u001b[32m  ✓ \u001b[39m\u001b[90mQuadGK\u001b[39m\n",
      "\u001b[32m  ✓ \u001b[39m\u001b[90mStableHashTraits\u001b[39m\n",
      "\u001b[32m  ✓ \u001b[39m\u001b[90mFiniteDiff → FiniteDiffStaticArraysExt\u001b[39m\n",
      "\u001b[32m  ✓ \u001b[39m\u001b[90mIntervalArithmetic → IntervalArithmeticForwardDiffExt\u001b[39m\n",
      "\u001b[32m  ✓ \u001b[39m\u001b[90mInterpolations\u001b[39m\n",
      "\u001b[32m  ✓ \u001b[39m\u001b[90mIntervalArithmetic → IntervalArithmeticRecipesBaseExt\u001b[39m\n",
      "\u001b[32m  ✓ \u001b[39m\u001b[90mIntervalArithmetic → IntervalArithmeticDiffRulesExt\u001b[39m\n",
      "\u001b[32m  ✓ \u001b[39m\u001b[90mNLSolversBase\u001b[39m\n",
      "\u001b[32m  ✓ \u001b[39m\u001b[90mStatsBase\u001b[39m\n",
      "\u001b[32m  ✓ \u001b[39m\u001b[90mLineSearches\u001b[39m\n",
      "\u001b[32m  ✓ \u001b[39m\u001b[90mGeometryBasics\u001b[39m\n",
      "\u001b[32m  ✓ \u001b[39m\u001b[90mExactPredicates\u001b[39m\n",
      "\u001b[32m  ✓ \u001b[39m\u001b[90mPacking\u001b[39m\n",
      "\u001b[32m  ✓ \u001b[39m\u001b[90mShaderAbstractions\u001b[39m\n",
      "\u001b[32m  ✓ \u001b[39m\u001b[90mFreeTypeAbstraction\u001b[39m\n",
      "\u001b[32m  ✓ \u001b[39m\u001b[90mOptim\u001b[39m\n",
      "\u001b[32m  ✓ \u001b[39m\u001b[90mDistributions\u001b[39m\n",
      "\u001b[32m  ✓ \u001b[39m\u001b[90mDistributions → DistributionsTestExt\u001b[39m\n",
      "\u001b[32m  ✓ \u001b[39m\u001b[90mDistributions → DistributionsChainRulesCoreExt\u001b[39m\n",
      "\u001b[32m  ✓ \u001b[39mAbstractAlgebra\n",
      "\u001b[32m  ✓ \u001b[39m\u001b[90mGridLayoutBase\u001b[39m\n",
      "\u001b[32m  ✓ \u001b[39m\u001b[90mSimpleRandom\u001b[39m\n",
      "\u001b[32m  ✓ \u001b[39m\u001b[90mKernelDensity\u001b[39m\n",
      "\u001b[32m  ✓ \u001b[39m\u001b[90mMathTeXEngine\u001b[39m\n",
      "\u001b[32m  ✓ \u001b[39mCSV\n",
      "\u001b[32m  ✓ \u001b[39m\u001b[90mPolynomials\u001b[39m\n",
      "\u001b[32m  ✓ \u001b[39m\u001b[90mPolynomials → PolynomialsFFTWExt\u001b[39m\n",
      "\u001b[32m  ✓ \u001b[39m\u001b[90mPolynomials → PolynomialsChainRulesCoreExt\u001b[39m\n",
      "\u001b[32m  ✓ \u001b[39m\u001b[90mImageCore\u001b[39m\n",
      "\u001b[32m  ✓ \u001b[39m\u001b[90mPolynomials → PolynomialsMakieCoreExt\u001b[39m\n",
      "\u001b[32m  ✓ \u001b[39m\u001b[90mSimplePolynomials\u001b[39m\n",
      "\u001b[32m  ✓ \u001b[39m\u001b[90mJpegTurbo\u001b[39m\n",
      "\u001b[32m  ✓ \u001b[39m\u001b[90mSixel\u001b[39m\n",
      "\u001b[32m  ✓ \u001b[39m\u001b[90mImageBase\u001b[39m\n",
      "\u001b[32m  ✓ \u001b[39m\u001b[90mLinearAlgebraX\u001b[39m\n",
      "\u001b[32m  ✓ \u001b[39m\u001b[90mPNGFiles\u001b[39m\n",
      "\u001b[32m  ✓ \u001b[39m\u001b[90mImageAxes\u001b[39m\n",
      "\u001b[32m  ✓ \u001b[39m\u001b[90mSimpleGraphs\u001b[39m\n",
      "\u001b[32m  ✓ \u001b[39m\u001b[90mImageMetadata\u001b[39m\n",
      "\u001b[32m  ✓ \u001b[39m\u001b[90mNetpbm\u001b[39m\n",
      "\u001b[32m  ✓ \u001b[39m\u001b[90mDelaunayTriangulation\u001b[39m\n",
      "\u001b[32m  ✓ \u001b[39m\u001b[90mTiffImages\u001b[39m\n",
      "\u001b[32m  ✓ \u001b[39mDataFrames\n",
      "\u001b[32m  ✓ \u001b[39m\u001b[90mMakie\u001b[39m\n",
      "\u001b[32m  ✓ \u001b[39mCairoMakie\n",
      "  69 dependencies successfully precompiled in 107 seconds. 203 already precompiled.\n",
      "  \u001b[33m1\u001b[39m dependency had output during precompilation:\u001b[33m\n",
      "┌ \u001b[39mFormatting\u001b[33m\n",
      "│  \u001b[39m\u001b[33m\u001b[1m┌ \u001b[22m\u001b[39m\u001b[33m\u001b[1mWarning: \u001b[22m\u001b[39mDEPRECATION NOTICE\u001b[33m\n",
      "│  \u001b[39m\u001b[33m\u001b[1m│ \u001b[22m\u001b[39m\u001b[33m\n",
      "│  \u001b[39m\u001b[33m\u001b[1m│ \u001b[22m\u001b[39mFormatting.jl has been unmaintained for a while, with some serious\u001b[33m\n",
      "│  \u001b[39m\u001b[33m\u001b[1m│ \u001b[22m\u001b[39mcorrectness bugs compromising the original purpose of the package. As a result,\u001b[33m\n",
      "│  \u001b[39m\u001b[33m\u001b[1m│ \u001b[22m\u001b[39mit has been deprecated - consider using an alternative, such as\u001b[33m\n",
      "│  \u001b[39m\u001b[33m\u001b[1m│ \u001b[22m\u001b[39m`Format.jl` (https://github.com/JuliaString/Format.jl) or the `Printf` stdlib directly.\u001b[33m\n",
      "│  \u001b[39m\u001b[33m\u001b[1m│ \u001b[22m\u001b[39m\u001b[33m\n",
      "│  \u001b[39m\u001b[33m\u001b[1m│ \u001b[22m\u001b[39mIf you are not using Formatting.jl as a direct dependency, please consider\u001b[33m\n",
      "│  \u001b[39m\u001b[33m\u001b[1m│ \u001b[22m\u001b[39mopening an issue on any packages you are using that do use it as a dependency.\u001b[33m\n",
      "│  \u001b[39m\u001b[33m\u001b[1m│ \u001b[22m\u001b[39mFrom Julia 1.9 onwards, you can query `]why Formatting` to figure out which\u001b[33m\n",
      "│  \u001b[39m\u001b[33m\u001b[1m│ \u001b[22m\u001b[39mpackage originally brings it in as a dependency.\u001b[33m\n",
      "│  \u001b[39m\u001b[33m\u001b[1m└ \u001b[22m\u001b[39m\u001b[90m@ Formatting ~/.julia/packages/Formatting/3VxOt/src/Formatting.jl:12\u001b[39m\u001b[33m\n",
      "└  \u001b[39m\n"
     ]
    }
   ],
   "source": [
    "Pkg.add(\"CairoMakie\")"
   ]
  },
  {
   "cell_type": "code",
   "execution_count": 23,
   "metadata": {},
   "outputs": [
    {
     "data": {
      "text/plain": [
       "\"Plots\""
      ]
     },
     "metadata": {},
     "output_type": "display_data"
    }
   ],
   "source": [
    "mkpath(\"Plots\")\n"
   ]
  },
  {
   "cell_type": "code",
   "execution_count": 1,
   "metadata": {},
   "outputs": [],
   "source": [
    "using CairoMakie"
   ]
  },
  {
   "cell_type": "code",
   "execution_count": 2,
   "metadata": {},
   "outputs": [
    {
     "data": {
      "text/plain": [
       "16"
      ]
     },
     "metadata": {},
     "output_type": "display_data"
    }
   ],
   "source": [
    "using AbstractAlgebra, Random\n",
    "using AbstractAlgebra: lift\n",
    "b=2\n",
    "F = GF(b)\n",
    "m = 4 \n",
    "s = 2\n",
    "ρ = m \n",
    "t = m - ρ \n",
    "N = b^m"
   ]
  },
  {
   "cell_type": "code",
   "execution_count": 3,
   "metadata": {},
   "outputs": [
    {
     "data": {
      "text/plain": [
       "Matrix space of 4 rows and 4 columns\n",
       "  over finite field F_2"
      ]
     },
     "metadata": {},
     "output_type": "display_data"
    }
   ],
   "source": [
    "S = matrix_space(F, m, m)"
   ]
  },
  {
   "cell_type": "markdown",
   "metadata": {},
   "source": [
    "Point generation digital and reduced digital nets"
   ]
  },
  {
   "cell_type": "code",
   "execution_count": 4,
   "metadata": {},
   "outputs": [
    {
     "data": {
      "text/plain": [
       "16-element Vector{NTuple{4, Int64}}:\n",
       " (0, 0, 0, 0)\n",
       " (1, 0, 0, 0)\n",
       " (0, 1, 0, 0)\n",
       " (1, 1, 0, 0)\n",
       " (0, 0, 1, 0)\n",
       " (1, 0, 1, 0)\n",
       " (0, 1, 1, 0)\n",
       " (1, 1, 1, 0)\n",
       " (0, 0, 0, 1)\n",
       " (1, 0, 0, 1)\n",
       " (0, 1, 0, 1)\n",
       " (1, 1, 0, 1)\n",
       " (0, 0, 1, 1)\n",
       " (1, 0, 1, 1)\n",
       " (0, 1, 1, 1)\n",
       " (1, 1, 1, 1)"
      ]
     },
     "metadata": {},
     "output_type": "display_data"
    }
   ],
   "source": [
    "badic = collect(Iterators.product(fill(0:b-1, m)...))[:]"
   ]
  },
  {
   "cell_type": "code",
   "execution_count": 5,
   "metadata": {},
   "outputs": [
    {
     "data": {
      "text/plain": [
       "norm_coord (generic function with 1 method)"
      ]
     },
     "metadata": {},
     "output_type": "display_data"
    }
   ],
   "source": [
    "function norm_coord(v,b)\n",
    "    v_1 = 0.0\n",
    "    bf = float(b)\n",
    "    for i in eachindex(v)\n",
    "        v_1 += v[i] * bf^(-i)\n",
    "    end\n",
    "    return v_1\n",
    "end\n"
   ]
  },
  {
   "cell_type": "code",
   "execution_count": 6,
   "metadata": {},
   "outputs": [
    {
     "data": {
      "text/plain": [
       "\u001b[32m\u001b[1mTest Passed\u001b[22m\u001b[39m"
      ]
     },
     "metadata": {},
     "output_type": "display_data"
    }
   ],
   "source": [
    "using Test\n",
    "@test norm_coord([1 1 0 1],2) == 13/16"
   ]
  },
  {
   "cell_type": "code",
   "execution_count": 7,
   "metadata": {},
   "outputs": [],
   "source": [
    "# norm_coord( AbstractAlgebra.lift.( C_2*collect(badic[4]) ),2)  # you need to convert Tuples to vectors matrix mult...\n",
    "# C_r2*collect(badic[4])\n",
    "\n",
    "# If you compute in a finite field, you need to apply the map from Fq to R to make this computation\n",
    "# work. This map is called 'lift'. So, you need to apply lift to the vector you want to compute with."
   ]
  },
  {
   "cell_type": "code",
   "execution_count": 8,
   "metadata": {},
   "outputs": [
    {
     "data": {
      "text/plain": [
       "point_gen (generic function with 1 method)"
      ]
     },
     "metadata": {},
     "output_type": "display_data"
    }
   ],
   "source": [
    "function point_gen(C,n,b)\n",
    "    v = [norm_coord(AbstractAlgebra.lift.(c*n),b) for c in C]   \n",
    "    return v\n",
    "end"
   ]
  },
  {
   "cell_type": "code",
   "execution_count": 10,
   "metadata": {},
   "outputs": [
    {
     "data": {
      "text/plain": [
       "2-element Vector{AbstractAlgebra.Generic.MatSpaceElem{AbstractAlgebra.GFElem{Int64}}}:\n",
       " [1 0 0 0; 0 1 0 0; 0 0 1 0; 0 0 0 1]\n",
       " [1 1 1 1; 0 1 0 1; 0 0 1 1; 0 0 0 1]"
      ]
     },
     "metadata": {},
     "output_type": "display_data"
    }
   ],
   "source": [
    "# m = 4 Use Ctrl+/ to comment out and back\n",
    "C_1 = [1 0 0 0; 0 1 0 0; 0 0 1 0; 0 0 0 1]\n",
    "C_2 = [1 1 1 1; 0 1 0 1; 0 0 1 1; 0 0 0 1]\n",
    "#C_3 = [0 0 2; 2 1 0; 1 1 0]\n",
    "C_1, C_2  = S(C_1), S(C_2) \n",
    "C = [C_1,C_2] "
   ]
  },
  {
   "cell_type": "code",
   "execution_count": 10,
   "metadata": {},
   "outputs": [],
   "source": [
    "# m = 5 Use Ctrl+/ to comment out\n",
    "# C_1 = [1 1 1 1 1; 0 1 0 1 0; 0 0 1 1 0; 0 0 0 1 0; 0 0 0 0 1]\n",
    "# C_2 = [1 0 0 0 0; 0 1 0 0 0; 0 0 1 0 0; 0 0 0 1 0; 0 0 0 0 1]\n",
    "# C_1, C_2  = S(C_1), S(C_2) \n",
    "# C = [C_1,C_2]"
   ]
  },
  {
   "cell_type": "code",
   "execution_count": 11,
   "metadata": {},
   "outputs": [],
   "source": [
    "#point_gen(C,collect(badic[8]),3)"
   ]
  },
  {
   "cell_type": "code",
   "execution_count": 12,
   "metadata": {},
   "outputs": [],
   "source": [
    "#K_1 = (inv(C_1)*(C_1))"
   ]
  },
  {
   "cell_type": "code",
   "execution_count": 11,
   "metadata": {},
   "outputs": [
    {
     "data": {
      "text/plain": [
       "gen_all_points (generic function with 1 method)"
      ]
     },
     "metadata": {},
     "output_type": "display_data"
    }
   ],
   "source": [
    "function gen_all_points(C,b)\n",
    "    badic = collect(Iterators.product(fill(0:b-1, m)...))[:]\n",
    "    pts = [point_gen(C,collect(n),b) for n in badic]\n",
    "    return pts\n",
    "end"
   ]
  },
  {
   "cell_type": "code",
   "execution_count": 12,
   "metadata": {},
   "outputs": [
    {
     "data": {
      "text/plain": [
       "16-element Vector{Vector{BigFloat}}:\n",
       " [0.0200000000000000004163336342344337026588618755340576171875, 0.0200000000000000004163336342344337026588618755340576171875]\n",
       " [0.0825000000000000004163336342344337026588618755340576171875, 0.9575000000000000004163336342344337026588618755340576171875]\n",
       " [0.1450000000000000004163336342344337026588618755340576171875, 0.6450000000000000004163336342344337026588618755340576171875]\n",
       " [0.2075000000000000004163336342344337026588618755340576171875, 0.3325000000000000004163336342344337026588618755340576171875]\n",
       " [0.2700000000000000004163336342344337026588618755340576171875, 0.7700000000000000004163336342344337026588618755340576171875]\n",
       " [0.3325000000000000004163336342344337026588618755340576171875, 0.2075000000000000004163336342344337026588618755340576171875]\n",
       " [0.3950000000000000004163336342344337026588618755340576171875, 0.3950000000000000004163336342344337026588618755340576171875]\n",
       " [0.4575000000000000004163336342344337026588618755340576171875, 0.5825000000000000004163336342344337026588618755340576171875]\n",
       " [0.5200000000000000004163336342344337026588618755340576171875, 0.5200000000000000004163336342344337026588618755340576171875]\n",
       " [0.5825000000000000004163336342344337026588618755340576171875, 0.4575000000000000004163336342344337026588618755340576171875]\n",
       " [0.6450000000000000004163336342344337026588618755340576171875, 0.1450000000000000004163336342344337026588618755340576171875]\n",
       " [0.7075000000000000004163336342344337026588618755340576171875, 0.8325000000000000004163336342344337026588618755340576171875]\n",
       " [0.7700000000000000004163336342344337026588618755340576171875, 0.2700000000000000004163336342344337026588618755340576171875]\n",
       " [0.8325000000000000004163336342344337026588618755340576171875, 0.7075000000000000004163336342344337026588618755340576171875]\n",
       " [0.8950000000000000004163336342344337026588618755340576171875, 0.8950000000000000004163336342344337026588618755340576171875]\n",
       " [0.9575000000000000004163336342344337026588618755340576171875, 0.0825000000000000004163336342344337026588618755340576171875]"
      ]
     },
     "metadata": {},
     "output_type": "display_data"
    }
   ],
   "source": [
    "gen_all_points(C,b)\n",
    "pts = sort(gen_all_points(C,b))\n",
    "pts_shift = [pts[i] .+ 0.02 for i in 1:length(pts)]\n"
   ]
  },
  {
   "cell_type": "code",
   "execution_count": 13,
   "metadata": {},
   "outputs": [
    {
     "data": {
      "text/plain": [
       "16-element Vector{BigFloat}:\n",
       " 0.0\n",
       " 0.9375\n",
       " 0.625\n",
       " 0.3125\n",
       " 0.75\n",
       " 0.1875\n",
       " 0.375\n",
       " 0.5625\n",
       " 0.5\n",
       " 0.4375\n",
       " 0.125\n",
       " 0.8125\n",
       " 0.25\n",
       " 0.6875\n",
       " 0.875\n",
       " 0.0625"
      ]
     },
     "metadata": {},
     "output_type": "display_data"
    }
   ],
   "source": [
    "pts_unq= unique(pts)\n",
    "nu_pts_unq=length(pts_unq)\n",
    "pts_j_unq = unique(pts[j][2] for j in 1:b^m)"
   ]
  },
  {
   "cell_type": "code",
   "execution_count": 14,
   "metadata": {},
   "outputs": [
    {
     "data": {
      "text/plain": [
       "2-element Vector{AbstractAlgebra.Generic.MatSpaceElem{AbstractAlgebra.GFElem{Int64}}}:\n",
       " [1 0 0 0; 0 1 0 0; 0 0 1 0; 0 0 0 1]\n",
       " [1 1 1 0; 0 1 0 0; 0 0 1 0; 0 0 0 0]"
      ]
     },
     "metadata": {},
     "output_type": "display_data"
    }
   ],
   "source": [
    "# w_1 = 0, w_2 =2\n",
    "C_cr1 = [1 0 0 0; 0 1 0 0; 0 0 1 0; 0 0 0 1]\n",
    "C_cr2 = [1 1 1 0; 0 1 0 0; 0 0 1 0; 0 0 0 0]\n",
    "C_cr1, C_cr2 = S(C_cr1), S(C_cr2)\n",
    "C_cr = [C_cr1,C_cr2]"
   ]
  },
  {
   "cell_type": "code",
   "execution_count": 15,
   "metadata": {},
   "outputs": [],
   "source": [
    "# w_1 = 1, w_2 = 2\n",
    "# C_cr1 = [1 1 1 1 0; 0 1 0 1 0; 0 0 1 1 0; 0 0 0 1 0; 0 0 0 0 0]\n",
    "# C_cr2 = [1 0 0 0 0; 0 1 0 0 0; 0 0 1 0 0; 0 0 0 0 0; 0 0 0 0 0]\n",
    "# C_cr1, C_cr2 = S(C_cr1), S(C_cr2)\n",
    "# C_cr = [C_cr1,C_cr2]"
   ]
  },
  {
   "cell_type": "code",
   "execution_count": 16,
   "metadata": {},
   "outputs": [
    {
     "data": {
      "text/plain": [
       "16-element Vector{Vector{BigFloat}}:\n",
       " [0.0200000000000000004163336342344337026588618755340576171875, 0.0200000000000000004163336342344337026588618755340576171875]\n",
       " [0.0825000000000000004163336342344337026588618755340576171875, 0.0200000000000000004163336342344337026588618755340576171875]\n",
       " [0.1450000000000000004163336342344337026588618755340576171875, 0.6450000000000000004163336342344337026588618755340576171875]\n",
       " [0.2075000000000000004163336342344337026588618755340576171875, 0.6450000000000000004163336342344337026588618755340576171875]\n",
       " [0.2700000000000000004163336342344337026588618755340576171875, 0.7700000000000000004163336342344337026588618755340576171875]\n",
       " [0.3325000000000000004163336342344337026588618755340576171875, 0.7700000000000000004163336342344337026588618755340576171875]\n",
       " [0.3950000000000000004163336342344337026588618755340576171875, 0.3950000000000000004163336342344337026588618755340576171875]\n",
       " [0.4575000000000000004163336342344337026588618755340576171875, 0.3950000000000000004163336342344337026588618755340576171875]\n",
       " [0.5200000000000000004163336342344337026588618755340576171875, 0.5200000000000000004163336342344337026588618755340576171875]\n",
       " [0.5825000000000000004163336342344337026588618755340576171875, 0.5200000000000000004163336342344337026588618755340576171875]\n",
       " [0.6450000000000000004163336342344337026588618755340576171875, 0.1450000000000000004163336342344337026588618755340576171875]\n",
       " [0.7075000000000000004163336342344337026588618755340576171875, 0.1450000000000000004163336342344337026588618755340576171875]\n",
       " [0.7700000000000000004163336342344337026588618755340576171875, 0.2700000000000000004163336342344337026588618755340576171875]\n",
       " [0.8325000000000000004163336342344337026588618755340576171875, 0.2700000000000000004163336342344337026588618755340576171875]\n",
       " [0.8950000000000000004163336342344337026588618755340576171875, 0.8950000000000000004163336342344337026588618755340576171875]\n",
       " [0.9575000000000000004163336342344337026588618755340576171875, 0.8950000000000000004163336342344337026588618755340576171875]"
      ]
     },
     "metadata": {},
     "output_type": "display_data"
    }
   ],
   "source": [
    "gen_all_points(C_cr,b)\n",
    "pts_cr = sort(gen_all_points(C_cr,b))\n",
    "pts_cr_shift = [pts_cr[i] .+ 0.02 for i in 1:length(pts_cr)]\n"
   ]
  },
  {
   "cell_type": "code",
   "execution_count": 18,
   "metadata": {},
   "outputs": [
    {
     "data": {
      "text/plain": [
       "2-element Vector{Int64}:\n",
       " 16\n",
       "  8"
      ]
     },
     "metadata": {},
     "output_type": "display_data"
    }
   ],
   "source": [
    "pts_unq_cr= unique(pts_cr)\n",
    "nu_pts_unq_cr=length(pts_unq_cr)\n",
    "pts_j_unq_cr_1 = unique(pts_cr[j][1] for j in 1:b^m)\n",
    "pts_j_unq_cr_2 = unique(pts_cr[j][2] for j in 1:b^m)\n",
    "unq_coord = [length(pts_j_unq_cr_1), length(pts_j_unq_cr_2)]"
   ]
  },
  {
   "cell_type": "code",
   "execution_count": 42,
   "metadata": {},
   "outputs": [
    {
     "data": {
      "text/plain": [
       "2-element Vector{AbstractAlgebra.Generic.MatSpaceElem{AbstractAlgebra.GFElem{Int64}}}:\n",
       " [1 1 0 0; 1 0 1 0; 0 1 0 0; 0 1 0 1]\n",
       " [0 1 0 0; 1 1 1 0; 0 0 0 0; 0 0 0 0]"
      ]
     },
     "metadata": {},
     "output_type": "display_data"
    }
   ],
   "source": [
    "C_rr1 = [1 1 0 0; 1 0 1 0; 0 1 0 0; 0 1 0 1]\n",
    "C_rr2 = [0 1 0 0; 1 1 1 0; 0 0 0 0; 0 0 0 0 ]\n",
    "C_rr1, C_rr2 = S(C_rr1), S(C_rr2)\n",
    "C_rr = [C_rr1,C_rr2]"
   ]
  },
  {
   "cell_type": "code",
   "execution_count": null,
   "metadata": {},
   "outputs": [],
   "source": [
    "# C_rr1 = [1 1 1 1 0; 0 1 0 1 0; 0 0 1 1 0; 0 0 0 1 0; 0 0 0 0 0]\n",
    "# C_rr2 = [1 0 0 0 0; 0 1 0 0 0; 0 0 1 0 0; 0 0 0 0 0; 0 0 0 0 0]\n",
    "# C_rr1, C_rr2 = S(C_rr1), S(C_rr2)\n",
    "# C_rr = [C_rr1,C_rr2]"
   ]
  },
  {
   "cell_type": "code",
   "execution_count": 43,
   "metadata": {},
   "outputs": [
    {
     "data": {
      "text/plain": [
       "16-element Vector{Vector{BigFloat}}:\n",
       " [0.0, 0.0]\n",
       " [0.0625, 0.0]\n",
       " [0.125, 0.75]\n",
       " [0.1875, 0.75]\n",
       " [0.25, 0.25]\n",
       " [0.3125, 0.25]\n",
       " [0.375, 0.5]\n",
       " [0.4375, 0.5]\n",
       " [0.5, 0.0]\n",
       " [0.5625, 0.0]\n",
       " [0.625, 0.75]\n",
       " [0.6875, 0.75]\n",
       " [0.75, 0.25]\n",
       " [0.8125, 0.25]\n",
       " [0.875, 0.5]\n",
       " [0.9375, 0.5]"
      ]
     },
     "metadata": {},
     "output_type": "display_data"
    }
   ],
   "source": [
    "gen_all_points(C_rr,b)\n",
    "pts_rr = sort(gen_all_points(C_rr,b))\n"
   ]
  },
  {
   "cell_type": "code",
   "execution_count": 49,
   "metadata": {},
   "outputs": [
    {
     "data": {
      "text/plain": [
       "2-element Vector{Int64}:\n",
       " 16\n",
       "  4"
      ]
     },
     "metadata": {},
     "output_type": "display_data"
    }
   ],
   "source": [
    "pts_unq_rr= unique(pts_rr)\n",
    "nu_pts_unq_rr=length(pts_unq_rr)\n",
    "pts_j_unq_rr_1 = unique(pts_rr[j][1] for j in 1:b^m)\n",
    "pts_j_unq_rr_2 = unique(pts_rr[j][2] for j in 1:b^m)\n",
    "unq_coord = [length(pts_j_unq_rr_1), length(pts_j_unq_rr_2)]"
   ]
  },
  {
   "cell_type": "code",
   "execution_count": 23,
   "metadata": {},
   "outputs": [],
   "source": []
  },
  {
   "cell_type": "code",
   "execution_count": 20,
   "metadata": {},
   "outputs": [],
   "source": [
    "#set_theme!(theme_ggplot2())"
   ]
  },
  {
   "cell_type": "code",
   "execution_count": 17,
   "metadata": {},
   "outputs": [
    {
     "data": {
      "image/png": "[encoded data removed]"
     },
     "metadata": {},
     "output_type": "display_data"
    }
   ],
   "source": [
    "fig = Figure(resolution = (800, 400))\n",
    "\n",
    "#kwargs = (; xminorticksvisible = true, xminorgridvisible = true)\n",
    "#xticks = [0.0, 0.5, 1.0], yticks = [0.0, 0.5, 1.0]\n",
    "#xminorticks = IntervalsBetween(4), xminorticksvisible = true, ygridvisible = false\n",
    "#limits = (nothing,nothing, -0.05, 1)\n",
    "\n",
    "#ax = Axis(fig[1,1], title = \"\", limits = (nothing,nothing, -0.05, 1))\n",
    "#scatter!( Point2.(pts) )\n",
    "\n",
    "ax = Axis(fig[1,1],title = \"(0,4,2)-net\",limits = (nothing,nothing, nothing, 1), xticks = [0.0, 0.25, 0.5, 0.75], yticks = [0.0, 0.25, 0.5, 0.75], xminorgridvisible = false, yminorticksvisible = false)\n",
    "scatter!( Point2.(pts_shift))\n",
    "\n",
    "#ax = Axis(fig[1,1], title = \"(0,4,2)- net\", limits = (nothing,nothing, nothing, 1),  xticks = [0.0, 0.25, 0.5, 0.75], xminorticks = IntervalsBetween(4), xminorticksvisible = true, yticks = [0.0, 0.25, 0.5, 0.75],  xminorgridvisible = true, yminorticksvisible = false, ygridvisible = false)\n",
    "#scatter!( Point2.(pts_shift) )\n",
    "\n",
    "ax = Axis(fig[1,2], title = \"(1,4,2)-column reduced net\", limits = (nothing,nothing, nothing, 1),  xticks = [0.0, 0.25, 0.5, 0.75], xminorticks = IntervalsBetween(2), xminorticksvisible = true, yticks = [0.0, 0.25, 0.5, 0.75],  xminorgridvisible = true, yminorticksvisible = false, ygridvisible = false)\n",
    "scatter!( Point2.(pts_cr_shift) )\n",
    "\n",
    "#ax = Axis(fig[1,3], title = \"col-row reduced point set\")\n",
    "#scatter!( Point2.(pts_rr) )\n",
    "\n",
    "save(\"Plots/Digital_seqnet_reduced_m4_shift.png\", fig)\n",
    "save(\"Plots/Digital_seqnet_reduced_m4_shift.svg\", fig)\n",
    "fig"
   ]
  },
  {
   "cell_type": "markdown",
   "metadata": {},
   "source": [
    "Computing the NRT-weight and Dual space"
   ]
  },
  {
   "cell_type": "code",
   "execution_count": 49,
   "metadata": {},
   "outputs": [
    {
     "data": {
      "text/plain": [
       "33825"
      ]
     },
     "metadata": {},
     "output_type": "display_data"
    }
   ],
   "source": [
    "1+2^5+2^10+2^15"
   ]
  },
  {
   "cell_type": "code",
   "execution_count": 19,
   "metadata": {},
   "outputs": [
    {
     "data": {
      "text/plain": [
       "729-element Vector{NTuple{6, Int64}}:\n",
       " (0, 0, 0, 0, 0, 0)\n",
       " (1, 0, 0, 0, 0, 0)\n",
       " (2, 0, 0, 0, 0, 0)\n",
       " (0, 1, 0, 0, 0, 0)\n",
       " (1, 1, 0, 0, 0, 0)\n",
       " (2, 1, 0, 0, 0, 0)\n",
       " (0, 2, 0, 0, 0, 0)\n",
       " (1, 2, 0, 0, 0, 0)\n",
       " (2, 2, 0, 0, 0, 0)\n",
       " (0, 0, 1, 0, 0, 0)\n",
       " ⋮\n",
       " (0, 0, 2, 2, 2, 2)\n",
       " (1, 0, 2, 2, 2, 2)\n",
       " (2, 0, 2, 2, 2, 2)\n",
       " (0, 1, 2, 2, 2, 2)\n",
       " (1, 1, 2, 2, 2, 2)\n",
       " (2, 1, 2, 2, 2, 2)\n",
       " (0, 2, 2, 2, 2, 2)\n",
       " (1, 2, 2, 2, 2, 2)\n",
       " (2, 2, 2, 2, 2, 2)"
      ]
     },
     "metadata": {},
     "output_type": "display_data"
    }
   ],
   "source": [
    "dual_badic = collect(Iterators.product(fill(0:b-1, m*s)...))[:]"
   ]
  },
  {
   "cell_type": "code",
   "execution_count": 20,
   "metadata": {},
   "outputs": [
    {
     "data": {
      "text/plain": [
       "nrt_wt (generic function with 1 method)"
      ]
     },
     "metadata": {},
     "output_type": "display_data"
    }
   ],
   "source": [
    "function nrt_wt(v,m,s,b)\n",
    "    wt = 0\n",
    "    for i in 0:m:(m*s -1)\n",
    "        for j in m:-1:1         #reverse(1:m)\n",
    "            if v[i+j] != 0\n",
    "                wt += j\n",
    "                break\n",
    "            end\n",
    "        end\n",
    "    end\n",
    "    return wt\n",
    "end"
   ]
  },
  {
   "cell_type": "code",
   "execution_count": 21,
   "metadata": {},
   "outputs": [
    {
     "data": {
      "text/plain": [
       "729-element Vector{Int64}:\n",
       " 0\n",
       " 1\n",
       " 1\n",
       " 2\n",
       " 2\n",
       " 2\n",
       " 2\n",
       " 2\n",
       " 2\n",
       " 3\n",
       " ⋮\n",
       " 6\n",
       " 6\n",
       " 6\n",
       " 6\n",
       " 6\n",
       " 6\n",
       " 6\n",
       " 6\n",
       " 6"
      ]
     },
     "metadata": {},
     "output_type": "display_data"
    }
   ],
   "source": [
    "nrt_wt.(dual_badic,3,2,3)"
   ]
  },
  {
   "cell_type": "code",
   "execution_count": 22,
   "metadata": {},
   "outputs": [],
   "source": [
    "wt_dict = Dict()\n",
    "    for x in dual_badic\n",
    "        wt = nrt_wt(x,m,s,b)\n",
    "        if haskey(wt_dict,wt)\n",
    "            push!(wt_dict[wt],x)\n",
    "        else \n",
    "            wt_dict[wt] = [x]\n",
    "        end\n",
    "    end "
   ]
  },
  {
   "cell_type": "code",
   "execution_count": 23,
   "metadata": {},
   "outputs": [
    {
     "data": {
      "text/plain": [
       "dual_C (generic function with 1 method)"
      ]
     },
     "metadata": {},
     "output_type": "display_data"
    }
   ],
   "source": [
    "function dual_C(M,b,m,s)\n",
    "    dual_elt = []\n",
    "    for n in dual_badic\n",
    "        if transpose(collect(n))*M == [0 0 0] \n",
    "            dual_elt = push!(dual_elt, n)\n",
    "        end\n",
    "    end\n",
    "    return dual_elt\n",
    "end"
   ]
  },
  {
   "cell_type": "code",
   "execution_count": 24,
   "metadata": {},
   "outputs": [
    {
     "data": {
      "text/plain": [
       "6×3 Matrix{AbstractAlgebra.GFElem{Int64}}:\n",
       " 1  1  1\n",
       " 0  1  2\n",
       " 0  0  1\n",
       " 1  2  1\n",
       " 0  1  1\n",
       " 0  0  1"
      ]
     },
     "metadata": {},
     "output_type": "display_data"
    }
   ],
   "source": [
    "M = [C_1;C_2]\n",
    "# transpose(collect(dual_badic[64]))*M == [0 0 0] "
   ]
  },
  {
   "cell_type": "code",
   "execution_count": 25,
   "metadata": {},
   "outputs": [
    {
     "data": {
      "text/plain": [
       "27-element Vector{Any}:\n",
       " (0, 0, 0, 0, 0, 0)\n",
       " (2, 2, 2, 1, 0, 0)\n",
       " (1, 1, 1, 2, 0, 0)\n",
       " (0, 2, 1, 0, 1, 0)\n",
       " (2, 1, 0, 1, 1, 0)\n",
       " (1, 0, 2, 2, 1, 0)\n",
       " (0, 1, 2, 0, 2, 0)\n",
       " (2, 0, 1, 1, 2, 0)\n",
       " (1, 2, 0, 2, 2, 0)\n",
       " (0, 0, 2, 0, 0, 1)\n",
       " ⋮\n",
       " (0, 0, 1, 0, 0, 2)\n",
       " (2, 2, 0, 1, 0, 2)\n",
       " (1, 1, 2, 2, 0, 2)\n",
       " (0, 2, 2, 0, 1, 2)\n",
       " (2, 1, 1, 1, 1, 2)\n",
       " (1, 0, 0, 2, 1, 2)\n",
       " (0, 1, 0, 0, 2, 2)\n",
       " (2, 0, 2, 1, 2, 2)\n",
       " (1, 2, 1, 2, 2, 2)"
      ]
     },
     "metadata": {},
     "output_type": "display_data"
    }
   ],
   "source": [
    "dual_pts = dual_C(M,3,3,2)"
   ]
  },
  {
   "cell_type": "code",
   "execution_count": 26,
   "metadata": {},
   "outputs": [
    {
     "data": {
      "text/plain": [
       "6×3 Matrix{AbstractAlgebra.GFElem{Int64}}:\n",
       " 1  1  0\n",
       " 0  1  0\n",
       " 0  0  0\n",
       " 1  2  0\n",
       " 0  1  0\n",
       " 0  0  0"
      ]
     },
     "metadata": {},
     "output_type": "display_data"
    }
   ],
   "source": [
    "M_r = [C_r1; C_r2]"
   ]
  },
  {
   "cell_type": "code",
   "execution_count": 27,
   "metadata": {},
   "outputs": [
    {
     "data": {
      "text/plain": [
       "81-element Vector{Any}:\n",
       " (0, 0, 0, 0, 0, 0)\n",
       " (0, 0, 1, 0, 0, 0)\n",
       " (0, 0, 2, 0, 0, 0)\n",
       " (2, 2, 0, 1, 0, 0)\n",
       " (2, 2, 1, 1, 0, 0)\n",
       " (2, 2, 2, 1, 0, 0)\n",
       " (1, 1, 0, 2, 0, 0)\n",
       " (1, 1, 1, 2, 0, 0)\n",
       " (1, 1, 2, 2, 0, 0)\n",
       " (0, 2, 0, 0, 1, 0)\n",
       " ⋮\n",
       " (0, 1, 0, 0, 2, 2)\n",
       " (0, 1, 1, 0, 2, 2)\n",
       " (0, 1, 2, 0, 2, 2)\n",
       " (2, 0, 0, 1, 2, 2)\n",
       " (2, 0, 1, 1, 2, 2)\n",
       " (2, 0, 2, 1, 2, 2)\n",
       " (1, 2, 0, 2, 2, 2)\n",
       " (1, 2, 1, 2, 2, 2)\n",
       " (1, 2, 2, 2, 2, 2)"
      ]
     },
     "metadata": {},
     "output_type": "display_data"
    }
   ],
   "source": [
    "dual_pts_r = dual_C(M_r,3,3,2)"
   ]
  },
  {
   "cell_type": "code",
   "execution_count": 28,
   "metadata": {},
   "outputs": [],
   "source": [
    "wt_dict_dual = Dict()\n",
    "    for x in dual_pts\n",
    "        wt = nrt_wt(x,m,s,b)\n",
    "        if haskey(wt_dict_dual,wt)\n",
    "            push!(wt_dict_dual[wt],x)\n",
    "        else \n",
    "            wt_dict_dual[wt] = [x]\n",
    "        end\n",
    "    end "
   ]
  },
  {
   "cell_type": "code",
   "execution_count": 34,
   "metadata": {},
   "outputs": [
    {
     "data": {
      "text/plain": [
       "6-element Vector{NTuple{6, Int64}}:\n",
       " (2, 2, 2, 1, 0, 0)\n",
       " (1, 1, 1, 2, 0, 0)\n",
       " (2, 1, 0, 1, 1, 0)\n",
       " (1, 2, 0, 2, 2, 0)\n",
       " (2, 0, 0, 1, 2, 1)\n",
       " (1, 0, 0, 2, 1, 2)"
      ]
     },
     "metadata": {},
     "output_type": "display_data"
    }
   ],
   "source": [
    "wt_dict_dual[4]"
   ]
  },
  {
   "cell_type": "code",
   "execution_count": 30,
   "metadata": {},
   "outputs": [],
   "source": [
    "wt_dict_dual_r = Dict()\n",
    "    for x in dual_pts_r\n",
    "        wt = nrt_wt(x,m,s,b)\n",
    "        if haskey(wt_dict_dual_r,wt)\n",
    "            push!(wt_dict_dual_r[wt],x)\n",
    "        else \n",
    "            wt_dict_dual_r[wt] = [x]\n",
    "        end\n",
    "    end "
   ]
  },
  {
   "cell_type": "code",
   "execution_count": 36,
   "metadata": {},
   "outputs": [
    {
     "data": {
      "text/plain": [
       "12-element Vector{NTuple{6, Int64}}:\n",
       " (2, 2, 1, 1, 0, 0)\n",
       " (2, 2, 2, 1, 0, 0)\n",
       " (1, 1, 1, 2, 0, 0)\n",
       " (1, 1, 2, 2, 0, 0)\n",
       " (0, 2, 0, 0, 1, 0)\n",
       " (2, 1, 0, 1, 1, 0)\n",
       " (0, 1, 0, 0, 2, 0)\n",
       " (1, 2, 0, 2, 2, 0)\n",
       " (1, 0, 0, 2, 1, 1)\n",
       " (2, 0, 0, 1, 2, 1)\n",
       " (1, 0, 0, 2, 1, 2)\n",
       " (2, 0, 0, 1, 2, 2)"
      ]
     },
     "metadata": {},
     "output_type": "display_data"
    }
   ],
   "source": [
    "wt_dict_dual_r[4]"
   ]
  },
  {
   "cell_type": "code",
   "execution_count": 32,
   "metadata": {},
   "outputs": [],
   "source": []
  },
  {
   "cell_type": "code",
   "execution_count": null,
   "metadata": {},
   "outputs": [],
   "source": []
  }
 ],
 "metadata": {
  "kernelspec": {
   "display_name": "Julia 1.10.2",
   "language": "julia",
   "name": "julia-1.10"
  },
  "language_info": {
   "file_extension": ".jl",
   "mimetype": "application/julia",
   "name": "julia",
   "version": "1.10.2"
  },
  "orig_nbformat": 4
 },
 "nbformat": 4,
 "nbformat_minor": 2
}
