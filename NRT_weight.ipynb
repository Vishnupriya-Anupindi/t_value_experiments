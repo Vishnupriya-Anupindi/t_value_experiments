{
 "cells": [
  {
   "cell_type": "code",
   "execution_count": 75,
   "metadata": {},
   "outputs": [],
   "source": [
    "#import Pkg "
   ]
  },
  {
   "cell_type": "code",
   "execution_count": 76,
   "metadata": {},
   "outputs": [],
   "source": [
    "#Pkg.add(\"CairoMakie\")"
   ]
  },
  {
   "cell_type": "code",
   "execution_count": 77,
   "metadata": {},
   "outputs": [],
   "source": [
    "#mkpath(\"Plots\")\n"
   ]
  },
  {
   "cell_type": "code",
   "execution_count": 1,
   "metadata": {},
   "outputs": [],
   "source": [
    "using CairoMakie"
   ]
  },
  {
   "cell_type": "code",
   "execution_count": 3,
   "metadata": {},
   "outputs": [
    {
     "data": {
      "text/plain": [
       "16"
      ]
     },
     "metadata": {},
     "output_type": "display_data"
    }
   ],
   "source": [
    "using AbstractAlgebra, Random\n",
    "using AbstractAlgebra: lift\n",
    "b=2\n",
    "F = GF(b)\n",
    "m = 4\n",
    "s = 2\n",
    "ρ = m \n",
    "t = m - ρ \n",
    "N = b^m"
   ]
  },
  {
   "cell_type": "code",
   "execution_count": 4,
   "metadata": {},
   "outputs": [
    {
     "data": {
      "text/plain": [
       "Matrix space of 4 rows and 4 columns\n",
       "  over finite field F_2"
      ]
     },
     "metadata": {},
     "output_type": "display_data"
    }
   ],
   "source": [
    "S = matrix_space(F, m, m)"
   ]
  },
  {
   "cell_type": "markdown",
   "metadata": {},
   "source": [
    "Point generation digital and reduced digital nets"
   ]
  },
  {
   "cell_type": "code",
   "execution_count": 5,
   "metadata": {},
   "outputs": [
    {
     "data": {
      "text/plain": [
       "16-element Vector{NTuple{4, Int64}}:\n",
       " (0, 0, 0, 0)\n",
       " (1, 0, 0, 0)\n",
       " (0, 1, 0, 0)\n",
       " (1, 1, 0, 0)\n",
       " (0, 0, 1, 0)\n",
       " (1, 0, 1, 0)\n",
       " (0, 1, 1, 0)\n",
       " (1, 1, 1, 0)\n",
       " (0, 0, 0, 1)\n",
       " (1, 0, 0, 1)\n",
       " (0, 1, 0, 1)\n",
       " (1, 1, 0, 1)\n",
       " (0, 0, 1, 1)\n",
       " (1, 0, 1, 1)\n",
       " (0, 1, 1, 1)\n",
       " (1, 1, 1, 1)"
      ]
     },
     "metadata": {},
     "output_type": "display_data"
    }
   ],
   "source": [
    "badic = collect(Iterators.product(fill(0:b-1, m)...))[:]"
   ]
  },
  {
   "cell_type": "code",
   "execution_count": 6,
   "metadata": {},
   "outputs": [
    {
     "data": {
      "text/plain": [
       "norm_coord (generic function with 1 method)"
      ]
     },
     "metadata": {},
     "output_type": "display_data"
    }
   ],
   "source": [
    "function norm_coord(v,b)\n",
    "    v_1 = 0.0\n",
    "    bf = float(b)\n",
    "    for i in eachindex(v)\n",
    "        v_1 += v[i] * bf^(-i)\n",
    "    end\n",
    "    return v_1\n",
    "end\n"
   ]
  },
  {
   "cell_type": "code",
   "execution_count": 7,
   "metadata": {},
   "outputs": [
    {
     "data": {
      "text/plain": [
       "\u001b[32m\u001b[1mTest Passed\u001b[22m\u001b[39m"
      ]
     },
     "metadata": {},
     "output_type": "display_data"
    }
   ],
   "source": [
    "using Test\n",
    "@test norm_coord([1 1 0 1],2) == 13/16"
   ]
  },
  {
   "cell_type": "code",
   "execution_count": 8,
   "metadata": {},
   "outputs": [],
   "source": [
    "# norm_coord( AbstractAlgebra.lift.( C_2*collect(badic[4]) ),2)  # you need to convert Tuples to vectors matrix mult...\n",
    "# C_r2*collect(badic[4])\n",
    "\n",
    "# If you compute in a finite field, you need to apply the map from Fq to R to make this computation\n",
    "# work. This map is called 'lift'. So, you need to apply lift to the vector you want to compute with."
   ]
  },
  {
   "cell_type": "code",
   "execution_count": 9,
   "metadata": {},
   "outputs": [
    {
     "data": {
      "text/plain": [
       "point_gen (generic function with 1 method)"
      ]
     },
     "metadata": {},
     "output_type": "display_data"
    }
   ],
   "source": [
    "function point_gen(C,n,b)\n",
    "    v = [norm_coord(AbstractAlgebra.lift.(c*n),b) for c in C]   \n",
    "    return v\n",
    "\n",
    "end"
   ]
  },
  {
   "cell_type": "code",
   "execution_count": 11,
   "metadata": {},
   "outputs": [
    {
     "data": {
      "text/plain": [
       "2-element Vector{AbstractAlgebra.Generic.MatSpaceElem{AbstractAlgebra.GFElem{Int64}}}:\n",
       " [1 0 0 0; 0 1 0 0; 0 0 1 0; 0 0 0 1]\n",
       " [0 0 0 1; 0 0 1 0; 0 1 0 0; 1 0 0 0]"
      ]
     },
     "metadata": {},
     "output_type": "display_data"
    }
   ],
   "source": [
    "#  Use Ctrl+/ to comment out and back\n",
    "if m == 2\n",
    "    C_1 = [1 0; 0 1]\n",
    "    C_2 = [0 1; 1 0]\n",
    "    C_up = [1 1; 1 0]\n",
    "elseif m == 3\n",
    "\n",
    "    C_1 = [1 0 0; 0 1 0; 0 0 1]\n",
    "    C_2 = [0 0 1; 0 1 0; 1 0 0]\n",
    "    C_up = [1 1 1; 1 1 0; 1 0 0]\n",
    "    #C_up = [0 0 1; 1 1 0; 1 0 1] # Observation/conj: all (0,3,2) nets have the same nrt_wts  \n",
    "\n",
    "elseif m == 4 \n",
    "    C_1 = [1 0 0 0; 0 1 0 0; 0 0 1 0; 0 0 0 1]\n",
    "    C_2 = [0 0 0 1; 0 0 1 0; 0 1 0 0; 1 0 0 0]\n",
    "    C_up = [1 1 1 1; 1 1 1 0; 1 1 0 0; 1 0 0 0]\n",
    "\n",
    "elseif m == 5 \n",
    "    C_1 = [1 0 0 0 0; 0 1 0 0 0; 0 0 1 0 0; 0 0 0 1 0; 0 0 0 0 1]\n",
    "    C_2 = [0 0 0 0 1; 0 0 0 1 0; 0 0 1 0 0; 0 1 0 0 0; 1 0 0 0 0]\n",
    "    C_up = [1 1 1 1 1; 1 1 1 1 0; 1 1 1 0 0; 1 1 0 0 0; 1 0 0 0 0]\n",
    "end\n",
    "    \n",
    "C_1, C_2, C_up  = S(C_1), S(C_2), S(C_up)\n",
    "C = [C_1,C_2] "
   ]
  },
  {
   "cell_type": "code",
   "execution_count": 135,
   "metadata": {},
   "outputs": [
    {
     "data": {
      "text/plain": [
       "2-element Vector{AbstractAlgebra.Generic.MatSpaceElem{AbstractAlgebra.GFElem{Int64}}}:\n",
       " [1 0 0; 0 1 0; 0 0 1]\n",
       " [1 1 1; 1 1 0; 1 0 0]"
      ]
     },
     "metadata": {},
     "output_type": "display_data"
    }
   ],
   "source": [
    "C_LP = [C_1, C_up]"
   ]
  },
  {
   "cell_type": "code",
   "execution_count": 136,
   "metadata": {},
   "outputs": [
    {
     "data": {
      "text/plain": [
       "3×3 Matrix{AbstractAlgebra.GFElem{Int64}}:\n",
       " 1  1  1\n",
       " 1  1  0\n",
       " 1  0  0"
      ]
     },
     "metadata": {},
     "output_type": "display_data"
    }
   ],
   "source": [
    "collect(C_up)"
   ]
  },
  {
   "cell_type": "code",
   "execution_count": 137,
   "metadata": {},
   "outputs": [],
   "source": [
    "# m = 5 Use Ctrl+/ to comment out\n",
    "# C_1 = [1 1 1 1 1; 0 1 0 1 0; 0 0 1 1 0; 0 0 0 1 0; 0 0 0 0 1]\n",
    "# C_2 = [1 0 0 0 0; 0 1 0 0 0; 0 0 1 0 0; 0 0 0 1 0; 0 0 0 0 1]\n",
    "# C_1, C_2  = S(C_1), S(C_2) \n",
    "# C = [C_1,C_2]"
   ]
  },
  {
   "cell_type": "code",
   "execution_count": 138,
   "metadata": {},
   "outputs": [],
   "source": [
    "#point_gen(C,collect(badic[8]),3)"
   ]
  },
  {
   "cell_type": "code",
   "execution_count": 139,
   "metadata": {},
   "outputs": [],
   "source": [
    "#K_1 = (inv(C_1)*(C_1))"
   ]
  },
  {
   "cell_type": "code",
   "execution_count": 140,
   "metadata": {},
   "outputs": [
    {
     "data": {
      "text/plain": [
       "gen_all_points (generic function with 1 method)"
      ]
     },
     "metadata": {},
     "output_type": "display_data"
    }
   ],
   "source": [
    "function gen_all_points(C,b)\n",
    "    badic = collect(Iterators.product(fill(0:b-1, m)...))[:]\n",
    "    pts = [point_gen(C,collect(n),b) for n in badic]\n",
    "    return pts\n",
    "end"
   ]
  },
  {
   "cell_type": "code",
   "execution_count": 144,
   "metadata": {},
   "outputs": [
    {
     "data": {
      "text/plain": [
       "8-element Vector{Vector{BigFloat}}:\n",
       " [0.0, 0.0]\n",
       " [0.5, 0.125]\n",
       " [0.25, 0.25]\n",
       " [0.75, 0.375]\n",
       " [0.125, 0.5]\n",
       " [0.625, 0.625]\n",
       " [0.375, 0.75]\n",
       " [0.875, 0.875]"
      ]
     },
     "metadata": {},
     "output_type": "display_data"
    }
   ],
   "source": [
    "gen_all_points(C,b)\n",
    "pts = gen_all_points(C,b)\n",
    "#pts = sort(gen_all_points(C,b))\n",
    "#pts_shift = [pts[i] .+ 0.02 for i in 1:length(pts)]\n"
   ]
  },
  {
   "cell_type": "code",
   "execution_count": 142,
   "metadata": {},
   "outputs": [
    {
     "data": {
      "text/plain": [
       "8-element Vector{Vector{BigFloat}}:\n",
       " [0.0, 0.0]\n",
       " [0.5, 0.875]\n",
       " [0.25, 0.75]\n",
       " [0.75, 0.125]\n",
       " [0.125, 0.5]\n",
       " [0.625, 0.375]\n",
       " [0.375, 0.25]\n",
       " [0.875, 0.625]"
      ]
     },
     "metadata": {},
     "output_type": "display_data"
    }
   ],
   "source": [
    "gen_all_points(C_LP,b)\n",
    "pts_lp = gen_all_points(C_LP,b)\n",
    "#pts_lp = sort(gen_all_points(C_LP,b))"
   ]
  },
  {
   "cell_type": "code",
   "execution_count": 143,
   "metadata": {},
   "outputs": [
    {
     "data": {
      "text/plain": [
       "8-element Vector{BigFloat}:\n",
       " 0.0\n",
       " 0.5\n",
       " 0.25\n",
       " 0.75\n",
       " 0.125\n",
       " 0.625\n",
       " 0.375\n",
       " 0.875"
      ]
     },
     "metadata": {},
     "output_type": "display_data"
    }
   ],
   "source": [
    "pts_unq= unique(pts)\n",
    "nu_pts_unq=length(pts_unq)\n",
    "pts_j_unq = unique(pts[j][2] for j in 1:b^m)"
   ]
  },
  {
   "cell_type": "code",
   "execution_count": 96,
   "metadata": {},
   "outputs": [],
   "source": [
    "# m = 5 Use Ctrl+/ to comment out and back\n",
    "# w_1 = 0, w_2 =1\n",
    "# C_cr1 = [1 0 0 0 0; 0 1 0 0 0; 0 0 1 0 0; 0 0 0 1 0; 0 0 0 0 1]\n",
    "# C_cr2 = [0 0 0 0 1; 0 1 0 0 0; 1 0 0 0 0; 0 0 1 0 0; 0 0 0 0 0]\n",
    "# C_cr1, C_cr2 = S(C_cr1), S(C_cr2)\n",
    "# C_cr = [C_cr1,C_cr2]"
   ]
  },
  {
   "cell_type": "code",
   "execution_count": 97,
   "metadata": {},
   "outputs": [],
   "source": [
    "# w_1 = 1, w_2 = 2\n",
    "# C_cr1 = [1 1 1 1 0; 0 1 0 1 0; 0 0 1 1 0; 0 0 0 1 0; 0 0 0 0 0]\n",
    "# C_cr2 = [1 0 0 0 0; 0 1 0 0 0; 0 0 1 0 0; 0 0 0 0 0; 0 0 0 0 0]\n",
    "# C_cr1, C_cr2 = S(C_cr1), S(C_cr2)\n",
    "# C_cr = [C_cr1,C_cr2]"
   ]
  },
  {
   "cell_type": "code",
   "execution_count": 98,
   "metadata": {},
   "outputs": [],
   "source": [
    "#set_theme!(theme_ggplot2())"
   ]
  },
  {
   "cell_type": "code",
   "execution_count": 99,
   "metadata": {},
   "outputs": [
    {
     "data": {
      "image/png": "[encoded data removed]"
     },
     "metadata": {},
     "output_type": "display_data"
    }
   ],
   "source": [
    "fig = Figure(resolution = (800, 400))\n",
    "\n",
    "#kwargs = (; xminorticksvisible = true, xminorgridvisible = true)\n",
    "#xticks = [0.0, 0.5, 1.0], yticks = [0.0, 0.5, 1.0]\n",
    "#xminorticks = IntervalsBetween(4), xminorticksvisible = true, ygridvisible = false\n",
    "#limits = (nothing,nothing, -0.05, 1)\n",
    "\n",
    "#ax = Axis(fig[1,1], title = \"\", limits = (nothing,nothing, -0.05, 1))\n",
    "#scatter!( Point2.(pts) )\n",
    "\n",
    "ax = Axis(fig[1,1],title = \"Hammersley\",limits = (nothing,nothing, nothing, 1), xticks = [0.0, 0.25, 0.5, 0.75], yticks = [0.0, 0.25, 0.5, 0.75], xminorgridvisible = false, yminorticksvisible = false)\n",
    "scatter!( Point2.(pts))\n",
    "\n",
    "#ax = Axis(fig[1,1], title = \"(0,4,2)- net\", limits = (nothing,nothing, nothing, 1),  xticks = [0.0, 0.25, 0.5, 0.75], xminorticks = IntervalsBetween(4), xminorticksvisible = true, yticks = [0.0, 0.25, 0.5, 0.75],  xminorgridvisible = true, yminorticksvisible = false, ygridvisible = false)\n",
    "#scatter!( Point2.(pts_shift) )\n",
    "\n",
    "ax = Axis(fig[1,2], title = \"Upper-1-mat\", limits = (nothing,nothing, nothing, 1), xticks = [0.0, 0.25, 0.5, 0.75], yticks = [0.0, 0.25, 0.5, 0.75],xminorgridvisible = false, yminorticksvisible = false)\n",
    "scatter!( Point2.(pts_lp) )\n",
    "\n",
    "#ax = Axis(fig[2,1], title = \"(2,5,2)-row reduced net, w_2 = 2\", limits = (nothing,nothing, nothing, 1), xticks = [0.0, 0.25, 0.5, 0.75], yticks = [0.0, 0.25, 0.5, 0.75],xminorgridvisible = false, yminorticksvisible = false)\n",
    "#scatter!( Point2.(pts_rr_shift) )\n",
    "\n",
    "#ax = Axis(fig[2,2], title = \"(2,5,2)-row reduced net, w_2 = 3\", limits = (nothing,nothing, nothing, 1), xticks = [0.0, 0.5, 1.0], yticks = [0.0, 0.5, 1.0],xminorgridvisible = false, yminorticksvisible = false)\n",
    "#scatter!( Point2.(pts_rrr_shift) )\n",
    "\n",
    "\n",
    "#ax = Axis(fig[1,2], title = \"(2,4,2)-row reduced net, w_2 = 1\", limits = (nothing,nothing, nothing, 1),  xticks = [0.0, 0.25, 0.5, 0.75], xminorticks = IntervalsBetween(2), xminorticksvisible = true, yticks = [0.0, 0.25, 0.5, 0.75],  xminorgridvisible = true, yminorticksvisible = false, ygridvisible = false)\n",
    "#scatter!( Point2.(pts_cr_shift) )\n",
    "\n",
    "#ax = Axis(fig[1,3], title = \"(2,4,2)-row reduced net, w_2 = 2\", limits = (nothing,nothing, nothing, 1),  xticks = [0.0, 0.25, 0.5, 0.75], xminorticks = IntervalsBetween(2), xminorticksvisible = true, yticks = [0.0, 0.25, 0.5, 0.75],  xminorgridvisible = true, yminorticksvisible = false, ygridvisible = false)\n",
    "#scatter!( Point2.(pts_rr_shift) )\n",
    "\n",
    "#ax = Axis(fig[1,3], title = \"col-row reduced point set\")\n",
    "#scatter!( Point2.(pts_rr) )\n",
    "\n",
    "#save(\"Plots/Digital_net_t2_w123_rowred_m5_shift.png\", fig)\n",
    "#save(\"Plots/Digital_net_t2_w123_rowred_m5_shift.svg\", fig)\n",
    "fig"
   ]
  },
  {
   "cell_type": "markdown",
   "metadata": {},
   "source": [
    "Computing the NRT-weight and Dual space"
   ]
  },
  {
   "cell_type": "code",
   "execution_count": 100,
   "metadata": {},
   "outputs": [
    {
     "data": {
      "text/plain": [
       "33825"
      ]
     },
     "metadata": {},
     "output_type": "display_data"
    }
   ],
   "source": [
    "1+2^5+2^10+2^15"
   ]
  },
  {
   "cell_type": "code",
   "execution_count": 101,
   "metadata": {},
   "outputs": [
    {
     "data": {
      "text/plain": [
       "256-element Vector{NTuple{8, Int64}}:\n",
       " (0, 0, 0, 0, 0, 0, 0, 0)\n",
       " (1, 0, 0, 0, 0, 0, 0, 0)\n",
       " (0, 1, 0, 0, 0, 0, 0, 0)\n",
       " (1, 1, 0, 0, 0, 0, 0, 0)\n",
       " (0, 0, 1, 0, 0, 0, 0, 0)\n",
       " (1, 0, 1, 0, 0, 0, 0, 0)\n",
       " (0, 1, 1, 0, 0, 0, 0, 0)\n",
       " (1, 1, 1, 0, 0, 0, 0, 0)\n",
       " (0, 0, 0, 1, 0, 0, 0, 0)\n",
       " (1, 0, 0, 1, 0, 0, 0, 0)\n",
       " ⋮\n",
       " (1, 1, 1, 0, 1, 1, 1, 1)\n",
       " (0, 0, 0, 1, 1, 1, 1, 1)\n",
       " (1, 0, 0, 1, 1, 1, 1, 1)\n",
       " (0, 1, 0, 1, 1, 1, 1, 1)\n",
       " (1, 1, 0, 1, 1, 1, 1, 1)\n",
       " (0, 0, 1, 1, 1, 1, 1, 1)\n",
       " (1, 0, 1, 1, 1, 1, 1, 1)\n",
       " (0, 1, 1, 1, 1, 1, 1, 1)\n",
       " (1, 1, 1, 1, 1, 1, 1, 1)"
      ]
     },
     "metadata": {},
     "output_type": "display_data"
    }
   ],
   "source": [
    "dual_badic = collect(Iterators.product(fill(0:b-1, m*s)...))[:]"
   ]
  },
  {
   "cell_type": "code",
   "execution_count": 102,
   "metadata": {},
   "outputs": [
    {
     "data": {
      "text/plain": [
       "nrt_wt (generic function with 1 method)"
      ]
     },
     "metadata": {},
     "output_type": "display_data"
    }
   ],
   "source": [
    "function nrt_wt(v,b,m,s)\n",
    "    wt = 0\n",
    "    for i in 0:m:(m*s -1)\n",
    "        for j in m:-1:1         #reverse(1:m)\n",
    "            if v[i+j] != 0\n",
    "                wt += j\n",
    "                break\n",
    "            end\n",
    "        end\n",
    "    end\n",
    "    return wt\n",
    "end"
   ]
  },
  {
   "cell_type": "code",
   "execution_count": 103,
   "metadata": {},
   "outputs": [
    {
     "data": {
      "text/plain": [
       "256-element Vector{Int64}:\n",
       " 0\n",
       " 1\n",
       " 2\n",
       " 2\n",
       " 3\n",
       " 3\n",
       " 3\n",
       " 3\n",
       " 4\n",
       " 4\n",
       " ⋮\n",
       " 7\n",
       " 8\n",
       " 8\n",
       " 8\n",
       " 8\n",
       " 8\n",
       " 8\n",
       " 8\n",
       " 8"
      ]
     },
     "metadata": {},
     "output_type": "display_data"
    }
   ],
   "source": [
    "nrt_wt.(dual_badic,b,m,s)"
   ]
  },
  {
   "cell_type": "code",
   "execution_count": 104,
   "metadata": {},
   "outputs": [],
   "source": [
    "wt_dict = Dict()\n",
    "    for x in dual_badic\n",
    "        wt = nrt_wt(x,b,m,s)\n",
    "        if haskey(wt_dict,wt)\n",
    "            push!(wt_dict[wt],x)\n",
    "        else \n",
    "            wt_dict[wt] = [x]\n",
    "        end\n",
    "    end "
   ]
  },
  {
   "cell_type": "code",
   "execution_count": 105,
   "metadata": {},
   "outputs": [
    {
     "data": {
      "text/plain": [
       "true"
      ]
     },
     "metadata": {},
     "output_type": "display_data"
    }
   ],
   "source": [
    "#Test for m=2\n",
    "zeros(Int64,1,2) == [0 0]\n"
   ]
  },
  {
   "cell_type": "code",
   "execution_count": 106,
   "metadata": {},
   "outputs": [
    {
     "data": {
      "text/plain": [
       "dual_C (generic function with 1 method)"
      ]
     },
     "metadata": {},
     "output_type": "display_data"
    }
   ],
   "source": [
    "function dual_C(M,b,m,s)\n",
    "    dual_elt = []\n",
    "    for n in dual_badic\n",
    "        if transpose(collect(n))*M == zeros(Int64,1,m)\n",
    "            dual_elt = push!(dual_elt, n)\n",
    "        end\n",
    "    end\n",
    "    return dual_elt\n",
    "end"
   ]
  },
  {
   "cell_type": "code",
   "execution_count": 107,
   "metadata": {},
   "outputs": [
    {
     "data": {
      "text/plain": [
       "8×4 Matrix{AbstractAlgebra.GFElem{Int64}}:\n",
       " 1  0  0  0\n",
       " 0  1  0  0\n",
       " 0  0  1  0\n",
       " 0  0  0  1\n",
       " 0  0  0  1\n",
       " 0  0  1  0\n",
       " 0  1  0  0\n",
       " 1  0  0  0"
      ]
     },
     "metadata": {},
     "output_type": "display_data"
    }
   ],
   "source": [
    "M = [collect(C_1);collect(C_2)]\n",
    "# transpose(collect(dual_badic[64]))*M == [0 0 0] "
   ]
  },
  {
   "cell_type": "code",
   "execution_count": 108,
   "metadata": {},
   "outputs": [
    {
     "data": {
      "text/plain": [
       "8×4 Matrix{AbstractAlgebra.GFElem{Int64}}:\n",
       " 1  0  0  0\n",
       " 0  1  0  0\n",
       " 0  0  1  0\n",
       " 0  0  0  1\n",
       " 1  1  1  1\n",
       " 1  1  1  0\n",
       " 1  1  0  0\n",
       " 1  0  0  0"
      ]
     },
     "metadata": {},
     "output_type": "display_data"
    }
   ],
   "source": [
    "M_lp = [collect(C_1);collect(C_up)]"
   ]
  },
  {
   "cell_type": "code",
   "execution_count": 109,
   "metadata": {},
   "outputs": [
    {
     "data": {
      "text/plain": [
       "16-element Vector{Any}:\n",
       " (0, 0, 0, 0, 0, 0, 0, 0)\n",
       " (0, 0, 0, 1, 1, 0, 0, 0)\n",
       " (0, 0, 1, 0, 0, 1, 0, 0)\n",
       " (0, 0, 1, 1, 1, 1, 0, 0)\n",
       " (0, 1, 0, 0, 0, 0, 1, 0)\n",
       " (0, 1, 0, 1, 1, 0, 1, 0)\n",
       " (0, 1, 1, 0, 0, 1, 1, 0)\n",
       " (0, 1, 1, 1, 1, 1, 1, 0)\n",
       " (1, 0, 0, 0, 0, 0, 0, 1)\n",
       " (1, 0, 0, 1, 1, 0, 0, 1)\n",
       " (1, 0, 1, 0, 0, 1, 0, 1)\n",
       " (1, 0, 1, 1, 1, 1, 0, 1)\n",
       " (1, 1, 0, 0, 0, 0, 1, 1)\n",
       " (1, 1, 0, 1, 1, 0, 1, 1)\n",
       " (1, 1, 1, 0, 0, 1, 1, 1)\n",
       " (1, 1, 1, 1, 1, 1, 1, 1)"
      ]
     },
     "metadata": {},
     "output_type": "display_data"
    }
   ],
   "source": [
    "dual_pts = dual_C(M,b,m,s)"
   ]
  },
  {
   "cell_type": "code",
   "execution_count": 110,
   "metadata": {},
   "outputs": [
    {
     "data": {
      "text/plain": [
       "16-element Vector{Any}:\n",
       " (0, 0, 0, 0, 0, 0, 0, 0)\n",
       " (1, 1, 1, 1, 1, 0, 0, 0)\n",
       " (1, 1, 1, 0, 0, 1, 0, 0)\n",
       " (0, 0, 0, 1, 1, 1, 0, 0)\n",
       " (1, 1, 0, 0, 0, 0, 1, 0)\n",
       " (0, 0, 1, 1, 1, 0, 1, 0)\n",
       " (0, 0, 1, 0, 0, 1, 1, 0)\n",
       " (1, 1, 0, 1, 1, 1, 1, 0)\n",
       " (1, 0, 0, 0, 0, 0, 0, 1)\n",
       " (0, 1, 1, 1, 1, 0, 0, 1)\n",
       " (0, 1, 1, 0, 0, 1, 0, 1)\n",
       " (1, 0, 0, 1, 1, 1, 0, 1)\n",
       " (0, 1, 0, 0, 0, 0, 1, 1)\n",
       " (1, 0, 1, 1, 1, 0, 1, 1)\n",
       " (1, 0, 1, 0, 0, 1, 1, 1)\n",
       " (0, 1, 0, 1, 1, 1, 1, 1)"
      ]
     },
     "metadata": {},
     "output_type": "display_data"
    }
   ],
   "source": [
    "dual_pts_lp = dual_C(M_lp,b,m,s)"
   ]
  },
  {
   "cell_type": "code",
   "execution_count": 111,
   "metadata": {},
   "outputs": [
    {
     "data": {
      "text/plain": [
       "16-element Vector{Int64}:\n",
       " 0\n",
       " 5\n",
       " 5\n",
       " 6\n",
       " 5\n",
       " 7\n",
       " 6\n",
       " 7\n",
       " 5\n",
       " 8\n",
       " 7\n",
       " 8\n",
       " 6\n",
       " 8\n",
       " 7\n",
       " 8"
      ]
     },
     "metadata": {},
     "output_type": "display_data"
    }
   ],
   "source": [
    "nrt_wt.(dual_pts,b,m,s)"
   ]
  },
  {
   "cell_type": "code",
   "execution_count": 112,
   "metadata": {},
   "outputs": [
    {
     "data": {
      "text/plain": [
       "16-element Vector{Int64}:\n",
       " 0\n",
       " 5\n",
       " 5\n",
       " 6\n",
       " 5\n",
       " 7\n",
       " 6\n",
       " 7\n",
       " 5\n",
       " 8\n",
       " 7\n",
       " 8\n",
       " 6\n",
       " 8\n",
       " 7\n",
       " 8"
      ]
     },
     "metadata": {},
     "output_type": "display_data"
    }
   ],
   "source": [
    "nrt_wt.(dual_pts_lp,b,m,s)"
   ]
  },
  {
   "cell_type": "code",
   "execution_count": 113,
   "metadata": {},
   "outputs": [
    {
     "data": {
      "text/plain": [
       "true"
      ]
     },
     "metadata": {},
     "output_type": "display_data"
    }
   ],
   "source": [
    "nrt_wt.(dual_pts,b,m,s) == nrt_wt.(dual_pts_lp,b,m,s)"
   ]
  },
  {
   "cell_type": "code",
   "execution_count": 114,
   "metadata": {},
   "outputs": [
    {
     "data": {
      "text/plain": [
       "total_wt (generic function with 1 method)"
      ]
     },
     "metadata": {},
     "output_type": "display_data"
    }
   ],
   "source": [
    "function total_wt(v,b,m,s)\n",
    "    wt_t = 0\n",
    "    for i in 0:m:(m*s -1)\n",
    "        for j in 1:m       \n",
    "            if v[i+j] != 0\n",
    "                    wt_t += j\n",
    "            end\n",
    "        end\n",
    "    end\n",
    "    return wt_t\n",
    "end"
   ]
  },
  {
   "cell_type": "code",
   "execution_count": 115,
   "metadata": {},
   "outputs": [
    {
     "data": {
      "text/plain": [
       "sumtotal_wt (generic function with 1 method)"
      ]
     },
     "metadata": {},
     "output_type": "display_data"
    }
   ],
   "source": [
    "function sumtotal_wt(W)\n",
    "    wt_total = 0\n",
    "    for i in 1:length(W)\n",
    "        wt_total += W[i]\n",
    "    end\n",
    "    return wt_total\n",
    "end"
   ]
  },
  {
   "cell_type": "code",
   "execution_count": 116,
   "metadata": {},
   "outputs": [
    {
     "data": {
      "text/plain": [
       "16-element Vector{Int64}:\n",
       "  0\n",
       "  5\n",
       "  5\n",
       " 10\n",
       "  5\n",
       " 10\n",
       " 10\n",
       " 15\n",
       "  5\n",
       " 10\n",
       " 10\n",
       " 15\n",
       " 10\n",
       " 15\n",
       " 15\n",
       " 20"
      ]
     },
     "metadata": {},
     "output_type": "display_data"
    }
   ],
   "source": [
    "W_1 = total_wt.(dual_pts,b,m,s)"
   ]
  },
  {
   "cell_type": "code",
   "execution_count": 117,
   "metadata": {},
   "outputs": [
    {
     "name": "stdout",
     "output_type": "stream",
     "text": [
      "[0, 16, 12, 8, 9, 13, 9, 17, 7, 17, 13, 15, 10, 20, 16, 18, 6, 20, 16, 14, 13, 19, 15, 21, 11, 23, 19, 19, 16, 24, 20, 24]\n"
     ]
    }
   ],
   "source": [
    "println(W_2)"
   ]
  },
  {
   "cell_type": "code",
   "execution_count": 118,
   "metadata": {},
   "outputs": [
    {
     "data": {
      "text/plain": [
       "16-element Vector{Int64}:\n",
       "  0\n",
       " 11\n",
       "  8\n",
       "  7\n",
       "  6\n",
       " 11\n",
       "  8\n",
       " 13\n",
       "  5\n",
       " 14\n",
       " 11\n",
       " 12\n",
       "  9\n",
       " 16\n",
       " 13\n",
       " 16"
      ]
     },
     "metadata": {},
     "output_type": "display_data"
    }
   ],
   "source": [
    "W_2 = total_wt.(dual_pts_lp,b,m,s)"
   ]
  },
  {
   "cell_type": "code",
   "execution_count": 119,
   "metadata": {},
   "outputs": [
    {
     "data": {
      "text/plain": [
       "160"
      ]
     },
     "metadata": {},
     "output_type": "display_data"
    }
   ],
   "source": [
    "sumtotal_wt(W_1)"
   ]
  },
  {
   "cell_type": "code",
   "execution_count": 120,
   "metadata": {},
   "outputs": [
    {
     "data": {
      "text/plain": [
       "160"
      ]
     },
     "metadata": {},
     "output_type": "display_data"
    }
   ],
   "source": [
    "sumtotal_wt(W_2)"
   ]
  },
  {
   "cell_type": "code",
   "execution_count": 121,
   "metadata": {},
   "outputs": [],
   "source": [
    "wt_dict_dual = Dict()\n",
    "    for x in dual_pts\n",
    "        wt = nrt_wt(x,b,m,s)\n",
    "        if haskey(wt_dict_dual,wt)\n",
    "            push!(wt_dict_dual[wt],x)\n",
    "        else \n",
    "            wt_dict_dual[wt] = [x]\n",
    "        end\n",
    "    end "
   ]
  },
  {
   "cell_type": "code",
   "execution_count": 122,
   "metadata": {},
   "outputs": [],
   "source": [
    "#wt_dict_dual[8]"
   ]
  },
  {
   "cell_type": "code",
   "execution_count": 123,
   "metadata": {},
   "outputs": [],
   "source": [
    "wt_dict_dual_lp = Dict()\n",
    "    for x in dual_pts_lp\n",
    "        wt = nrt_wt(x,b,m,s)\n",
    "        if haskey(wt_dict_dual_lp,wt)\n",
    "            push!(wt_dict_dual_lp[wt],x)\n",
    "        else \n",
    "            wt_dict_dual_lp[wt] = [x]\n",
    "        end\n",
    "    end "
   ]
  },
  {
   "cell_type": "code",
   "execution_count": 124,
   "metadata": {},
   "outputs": [],
   "source": [
    "#wt_dict_dual_lp[8]"
   ]
  },
  {
   "cell_type": "code",
   "execution_count": 125,
   "metadata": {},
   "outputs": [],
   "source": []
  },
  {
   "cell_type": "code",
   "execution_count": 126,
   "metadata": {},
   "outputs": [],
   "source": []
  }
 ],
 "metadata": {
  "kernelspec": {
   "display_name": "Julia 1.10.2",
   "language": "julia",
   "name": "julia-1.10"
  },
  "language_info": {
   "file_extension": ".jl",
   "mimetype": "application/julia",
   "name": "julia",
   "version": "1.10.2"
  },
  "orig_nbformat": 4
 },
 "nbformat": 4,
 "nbformat_minor": 2
}
