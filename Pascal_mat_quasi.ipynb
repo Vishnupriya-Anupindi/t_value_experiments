{
 "cells": [
  {
   "cell_type": "code",
   "execution_count": 1,
   "metadata": {},
   "outputs": [],
   "source": [
    "import Pkg "
   ]
  },
  {
   "cell_type": "code",
   "execution_count": 45,
   "metadata": {},
   "outputs": [
    {
     "data": {
      "text/plain": [
       "823543"
      ]
     },
     "metadata": {},
     "output_type": "display_data"
    }
   ],
   "source": [
    "using AbstractAlgebra, Random\n",
    "using AbstractAlgebra: lift\n",
    "b=7\n",
    "F = GF(b)\n",
    "m = 7\n",
    "s = 2\n",
    "ρ = m \n",
    "t = m - ρ \n",
    "N = b^m"
   ]
  },
  {
   "cell_type": "code",
   "execution_count": 46,
   "metadata": {},
   "outputs": [
    {
     "data": {
      "text/plain": [
       "Matrix space of 7 rows and 7 columns\n",
       "  over finite field F_7"
      ]
     },
     "metadata": {},
     "output_type": "display_data"
    }
   ],
   "source": [
    "S = matrix_space(F, m, m)"
   ]
  },
  {
   "cell_type": "code",
   "execution_count": 47,
   "metadata": {},
   "outputs": [
    {
     "data": {
      "text/plain": [
       "7×7 Matrix{Int64}:\n",
       " 1  1  1  1  1  1  1\n",
       " 0  1  2  3  4  5  6\n",
       " 0  0  1  3  6  3  1\n",
       " 0  0  0  1  4  3  6\n",
       " 0  0  0  0  1  5  1\n",
       " 0  0  0  0  0  1  6\n",
       " 0  0  0  0  0  0  1"
      ]
     },
     "metadata": {},
     "output_type": "display_data"
    }
   ],
   "source": [
    "P_m = [binomial(j,i) %b for i in 0:m-1, j in 0:m-1]\n"
   ]
  },
  {
   "cell_type": "code",
   "execution_count": 48,
   "metadata": {},
   "outputs": [
    {
     "data": {
      "text/html": [
       "[1 1 1 1 1 1 1; 0 1 2 3 4 5 6; 0 0 1 3 6 3 1; 0 0 0 1 4 3 6; 0 0 0 0 1 5 1; 0 0 0 0 0 1 6; 0 0 0 0 0 0 1]"
      ],
      "text/latex": [
       "\\begin{array}{ccccccc}\n",
       "1 & 1 & 1 & 1 & 1 & 1 & 1 \\\\\n",
       "0 & 1 & 2 & 3 & 4 & 5 & 6 \\\\\n",
       "0 & 0 & 1 & 3 & 6 & 3 & 1 \\\\\n",
       "0 & 0 & 0 & 1 & 4 & 3 & 6 \\\\\n",
       "0 & 0 & 0 & 0 & 1 & 5 & 1 \\\\\n",
       "0 & 0 & 0 & 0 & 0 & 1 & 6 \\\\\n",
       "0 & 0 & 0 & 0 & 0 & 0 & 1\n",
       "\\end{array}"
      ],
      "text/plain": [
       "[1   1   1   1   1   1   1]\n",
       "[0   1   2   3   4   5   6]\n",
       "[0   0   1   3   6   3   1]\n",
       "[0   0   0   1   4   3   6]\n",
       "[0   0   0   0   1   5   1]\n",
       "[0   0   0   0   0   1   6]\n",
       "[0   0   0   0   0   0   1]"
      ]
     },
     "metadata": {},
     "output_type": "display_data"
    }
   ],
   "source": [
    "P_m = S(P_m)"
   ]
  },
  {
   "cell_type": "code",
   "execution_count": 49,
   "metadata": {},
   "outputs": [
    {
     "data": {
      "text/html": [
       "[1 6 1 6 1 6 1; 0 1 5 3 3 5 1; 0 0 1 4 6 4 1; 0 0 0 1 3 3 1; 0 0 0 0 1 2 1; 0 0 0 0 0 1 1; 0 0 0 0 0 0 1]"
      ],
      "text/latex": [
       "\\begin{array}{ccccccc}\n",
       "1 & 6 & 1 & 6 & 1 & 6 & 1 \\\\\n",
       "0 & 1 & 5 & 3 & 3 & 5 & 1 \\\\\n",
       "0 & 0 & 1 & 4 & 6 & 4 & 1 \\\\\n",
       "0 & 0 & 0 & 1 & 3 & 3 & 1 \\\\\n",
       "0 & 0 & 0 & 0 & 1 & 2 & 1 \\\\\n",
       "0 & 0 & 0 & 0 & 0 & 1 & 1 \\\\\n",
       "0 & 0 & 0 & 0 & 0 & 0 & 1\n",
       "\\end{array}"
      ],
      "text/plain": [
       "[1   6   1   6   1   6   1]\n",
       "[0   1   5   3   3   5   1]\n",
       "[0   0   1   4   6   4   1]\n",
       "[0   0   0   1   3   3   1]\n",
       "[0   0   0   0   1   2   1]\n",
       "[0   0   0   0   0   1   1]\n",
       "[0   0   0   0   0   0   1]"
      ]
     },
     "metadata": {},
     "output_type": "display_data"
    }
   ],
   "source": [
    "P_inv = inv(P_m)"
   ]
  },
  {
   "cell_type": "code",
   "execution_count": 53,
   "metadata": {},
   "outputs": [
    {
     "data": {
      "text/html": [
       "[1 0 0 0 0 0 0; 0 1 0 0 0 0 0; 0 0 1 0 0 0 0; 0 0 0 1 0 0 0; 0 0 0 0 1 0 0; 0 0 0 0 0 1 0; 0 0 0 0 0 0 1]"
      ],
      "text/latex": [
       "\\begin{array}{ccccccc}\n",
       "1 & 0 & 0 & 0 & 0 & 0 & 0 \\\\\n",
       "0 & 1 & 0 & 0 & 0 & 0 & 0 \\\\\n",
       "0 & 0 & 1 & 0 & 0 & 0 & 0 \\\\\n",
       "0 & 0 & 0 & 1 & 0 & 0 & 0 \\\\\n",
       "0 & 0 & 0 & 0 & 1 & 0 & 0 \\\\\n",
       "0 & 0 & 0 & 0 & 0 & 1 & 0 \\\\\n",
       "0 & 0 & 0 & 0 & 0 & 0 & 1\n",
       "\\end{array}"
      ],
      "text/plain": [
       "[1   0   0   0   0   0   0]\n",
       "[0   1   0   0   0   0   0]\n",
       "[0   0   1   0   0   0   0]\n",
       "[0   0   0   1   0   0   0]\n",
       "[0   0   0   0   1   0   0]\n",
       "[0   0   0   0   0   1   0]\n",
       "[0   0   0   0   0   0   1]"
      ]
     },
     "metadata": {},
     "output_type": "display_data"
    }
   ],
   "source": [
    "P_m ^ 7"
   ]
  },
  {
   "cell_type": "code",
   "execution_count": 62,
   "metadata": {},
   "outputs": [
    {
     "data": {
      "text/plain": [
       "false"
      ]
     },
     "metadata": {},
     "output_type": "display_data"
    }
   ],
   "source": [
    " P_m == inv(P_m)\n"
   ]
  },
  {
   "cell_type": "code",
   "execution_count": 63,
   "metadata": {},
   "outputs": [],
   "source": [
    "# Test\n",
    "# C_2 = [1 0 0 0 0; 0 1 0 0 0; 0 0 1 0 0; 0 0 0 1 0; 0 0 0 0 1]\n",
    "# C_2 = S(C_2)\n",
    "# P_m == C_2"
   ]
  },
  {
   "cell_type": "code",
   "execution_count": 64,
   "metadata": {},
   "outputs": [
    {
     "data": {
      "text/plain": [
       "27-element Vector{Tuple{Int64, Int64, Int64}}:\n",
       " (0, 0, 0)\n",
       " (1, 0, 0)\n",
       " (2, 0, 0)\n",
       " (0, 1, 0)\n",
       " (1, 1, 0)\n",
       " (2, 1, 0)\n",
       " (0, 2, 0)\n",
       " (1, 2, 0)\n",
       " (2, 2, 0)\n",
       " (0, 0, 1)\n",
       " ⋮\n",
       " (0, 0, 2)\n",
       " (1, 0, 2)\n",
       " (2, 0, 2)\n",
       " (0, 1, 2)\n",
       " (1, 1, 2)\n",
       " (2, 1, 2)\n",
       " (0, 2, 2)\n",
       " (1, 2, 2)\n",
       " (2, 2, 2)"
      ]
     },
     "metadata": {},
     "output_type": "display_data"
    }
   ],
   "source": [
    "badic = collect(Iterators.product(fill(0:b-1, m)...))[:]"
   ]
  },
  {
   "cell_type": "code",
   "execution_count": 70,
   "metadata": {},
   "outputs": [
    {
     "data": {
      "text/plain": [
       "(0, 2, 2)"
      ]
     },
     "metadata": {},
     "output_type": "display_data"
    }
   ],
   "source": [
    "badic[b^m-b+1]"
   ]
  },
  {
   "cell_type": "code",
   "execution_count": 77,
   "metadata": {},
   "outputs": [
    {
     "data": {
      "text/plain": [
       "3-element Vector{AbstractAlgebra.GFElem{Int64}}:\n",
       " 0\n",
       " 1\n",
       " 2"
      ]
     },
     "metadata": {},
     "output_type": "display_data"
    }
   ],
   "source": [
    "v_sp = P_inv * collect(badic[b^m-b+1])"
   ]
  },
  {
   "cell_type": "code",
   "execution_count": 71,
   "metadata": {},
   "outputs": [
    {
     "data": {
      "text/plain": [
       "3-element Vector{AbstractAlgebra.GFElem{Int64}}:\n",
       " 1\n",
       " 0\n",
       " 2"
      ]
     },
     "metadata": {},
     "output_type": "display_data"
    }
   ],
   "source": [
    "P_m * collect(badic[b^m-b+1])"
   ]
  },
  {
   "cell_type": "code",
   "execution_count": 74,
   "metadata": {},
   "outputs": [
    {
     "data": {
      "text/plain": [
       "norm_coord (generic function with 1 method)"
      ]
     },
     "metadata": {},
     "output_type": "display_data"
    }
   ],
   "source": [
    "function norm_coord(v,b)\n",
    "    v_1 = 0.0\n",
    "    bf = float(b)\n",
    "    for i in eachindex(v)\n",
    "        v_1 += v[i] * bf^(-i)\n",
    "    end\n",
    "    return v_1\n",
    "end\n"
   ]
  },
  {
   "cell_type": "code",
   "execution_count": 75,
   "metadata": {},
   "outputs": [
    {
     "data": {
      "text/plain": [
       "\u001b[32m\u001b[1mTest Passed\u001b[22m\u001b[39m"
      ]
     },
     "metadata": {},
     "output_type": "display_data"
    }
   ],
   "source": [
    "using Test\n",
    "@test norm_coord([1 1 0 1],2) == 13/16"
   ]
  },
  {
   "cell_type": "code",
   "execution_count": 79,
   "metadata": {},
   "outputs": [
    {
     "data": {
      "text/plain": [
       "0.18518518518518518878313017239634064026176929473876953125"
      ]
     },
     "metadata": {},
     "output_type": "display_data"
    }
   ],
   "source": [
    "norm_coord(AbstractAlgebra.lift.(v_sp),b)"
   ]
  },
  {
   "cell_type": "code",
   "execution_count": null,
   "metadata": {},
   "outputs": [],
   "source": [
    "function point_gen(C,n,b)\n",
    "    v = [norm_coord(AbstractAlgebra.lift.(c*n),b) for c in C]   \n",
    "    return v\n",
    "end"
   ]
  },
  {
   "cell_type": "code",
   "execution_count": null,
   "metadata": {},
   "outputs": [],
   "source": [
    "function gen_all_points(C,b)\n",
    "    badic = collect(Iterators.product(fill(0:b-1, m)...))[:]\n",
    "    pts = [point_gen(C,collect(n),b) for n in badic]\n",
    "    return pts\n",
    "end"
   ]
  },
  {
   "cell_type": "code",
   "execution_count": null,
   "metadata": {},
   "outputs": [],
   "source": [
    "gen_all_points(C,b)\n",
    "pts = sort(gen_all_points(C,b))"
   ]
  },
  {
   "cell_type": "code",
   "execution_count": null,
   "metadata": {},
   "outputs": [],
   "source": [
    "pts_unq= unique(pts)"
   ]
  }
 ],
 "metadata": {
  "kernelspec": {
   "display_name": "Julia 1.9.3",
   "language": "julia",
   "name": "julia-1.9"
  },
  "language_info": {
   "file_extension": ".jl",
   "mimetype": "application/julia",
   "name": "julia",
   "version": "1.9.3"
  }
 },
 "nbformat": 4,
 "nbformat_minor": 2
}
