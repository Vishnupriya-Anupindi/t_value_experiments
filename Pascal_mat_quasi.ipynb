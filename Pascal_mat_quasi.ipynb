{
 "cells": [
  {
   "cell_type": "code",
   "execution_count": 1,
   "metadata": {},
   "outputs": [],
   "source": [
    "import Pkg "
   ]
  },
  {
   "cell_type": "code",
   "execution_count": 1,
   "metadata": {},
   "outputs": [
    {
     "data": {
      "text/plain": [
       "823543"
      ]
     },
     "metadata": {},
     "output_type": "display_data"
    }
   ],
   "source": [
    "using AbstractAlgebra, Random\n",
    "using AbstractAlgebra: lift\n",
    "b=7\n",
    "F = GF(b)\n",
    "m = 7\n",
    "s = 2\n",
    "ρ = m \n",
    "t = m - ρ \n",
    "N = b^m"
   ]
  },
  {
   "cell_type": "code",
   "execution_count": 2,
   "metadata": {},
   "outputs": [
    {
     "data": {
      "text/plain": [
       "Matrix space of 7 rows and 7 columns\n",
       "  over finite field F_7"
      ]
     },
     "metadata": {},
     "output_type": "display_data"
    }
   ],
   "source": [
    "S = matrix_space(F, m, m)"
   ]
  },
  {
   "cell_type": "code",
   "execution_count": 3,
   "metadata": {},
   "outputs": [
    {
     "data": {
      "text/plain": [
       "7×7 Matrix{Int64}:\n",
       " 1  1  1  1  1  1  1\n",
       " 0  1  2  3  4  5  6\n",
       " 0  0  1  3  6  3  1\n",
       " 0  0  0  1  4  3  6\n",
       " 0  0  0  0  1  5  1\n",
       " 0  0  0  0  0  1  6\n",
       " 0  0  0  0  0  0  1"
      ]
     },
     "metadata": {},
     "output_type": "display_data"
    }
   ],
   "source": [
    "P_m = [binomial(j,i) %b for i in 0:m-1, j in 0:m-1]\n"
   ]
  },
  {
   "cell_type": "code",
   "execution_count": 4,
   "metadata": {},
   "outputs": [
    {
     "data": {
      "text/html": [
       "[1 1 1 1 1 1 1; 0 1 2 3 4 5 6; 0 0 1 3 6 3 1; 0 0 0 1 4 3 6; 0 0 0 0 1 5 1; 0 0 0 0 0 1 6; 0 0 0 0 0 0 1]"
      ],
      "text/latex": [
       "\\begin{array}{ccccccc}\n",
       "1 & 1 & 1 & 1 & 1 & 1 & 1 \\\\\n",
       "0 & 1 & 2 & 3 & 4 & 5 & 6 \\\\\n",
       "0 & 0 & 1 & 3 & 6 & 3 & 1 \\\\\n",
       "0 & 0 & 0 & 1 & 4 & 3 & 6 \\\\\n",
       "0 & 0 & 0 & 0 & 1 & 5 & 1 \\\\\n",
       "0 & 0 & 0 & 0 & 0 & 1 & 6 \\\\\n",
       "0 & 0 & 0 & 0 & 0 & 0 & 1\n",
       "\\end{array}"
      ],
      "text/plain": [
       "[1   1   1   1   1   1   1]\n",
       "[0   1   2   3   4   5   6]\n",
       "[0   0   1   3   6   3   1]\n",
       "[0   0   0   1   4   3   6]\n",
       "[0   0   0   0   1   5   1]\n",
       "[0   0   0   0   0   1   6]\n",
       "[0   0   0   0   0   0   1]"
      ]
     },
     "metadata": {},
     "output_type": "display_data"
    }
   ],
   "source": [
    "P_m = S(P_m)"
   ]
  },
  {
   "cell_type": "code",
   "execution_count": 5,
   "metadata": {},
   "outputs": [
    {
     "data": {
      "text/html": [
       "[1 6 1 6 1 6 1; 0 1 5 3 3 5 1; 0 0 1 4 6 4 1; 0 0 0 1 3 3 1; 0 0 0 0 1 2 1; 0 0 0 0 0 1 1; 0 0 0 0 0 0 1]"
      ],
      "text/latex": [
       "\\begin{array}{ccccccc}\n",
       "1 & 6 & 1 & 6 & 1 & 6 & 1 \\\\\n",
       "0 & 1 & 5 & 3 & 3 & 5 & 1 \\\\\n",
       "0 & 0 & 1 & 4 & 6 & 4 & 1 \\\\\n",
       "0 & 0 & 0 & 1 & 3 & 3 & 1 \\\\\n",
       "0 & 0 & 0 & 0 & 1 & 2 & 1 \\\\\n",
       "0 & 0 & 0 & 0 & 0 & 1 & 1 \\\\\n",
       "0 & 0 & 0 & 0 & 0 & 0 & 1\n",
       "\\end{array}"
      ],
      "text/plain": [
       "[1   6   1   6   1   6   1]\n",
       "[0   1   5   3   3   5   1]\n",
       "[0   0   1   4   6   4   1]\n",
       "[0   0   0   1   3   3   1]\n",
       "[0   0   0   0   1   2   1]\n",
       "[0   0   0   0   0   1   1]\n",
       "[0   0   0   0   0   0   1]"
      ]
     },
     "metadata": {},
     "output_type": "display_data"
    }
   ],
   "source": [
    "P_inv = inv(P_m)"
   ]
  },
  {
   "cell_type": "code",
   "execution_count": 7,
   "metadata": {},
   "outputs": [
    {
     "data": {
      "text/html": [
       "[1 0 0 0 0 0 0; 0 1 0 0 0 0 0; 0 0 1 0 0 0 0; 0 0 0 1 0 0 0; 0 0 0 0 1 0 0; 0 0 0 0 0 1 0; 0 0 0 0 0 0 1]"
      ],
      "text/latex": [
       "\\begin{array}{ccccccc}\n",
       "1 & 0 & 0 & 0 & 0 & 0 & 0 \\\\\n",
       "0 & 1 & 0 & 0 & 0 & 0 & 0 \\\\\n",
       "0 & 0 & 1 & 0 & 0 & 0 & 0 \\\\\n",
       "0 & 0 & 0 & 1 & 0 & 0 & 0 \\\\\n",
       "0 & 0 & 0 & 0 & 1 & 0 & 0 \\\\\n",
       "0 & 0 & 0 & 0 & 0 & 1 & 0 \\\\\n",
       "0 & 0 & 0 & 0 & 0 & 0 & 1\n",
       "\\end{array}"
      ],
      "text/plain": [
       "[1   0   0   0   0   0   0]\n",
       "[0   1   0   0   0   0   0]\n",
       "[0   0   1   0   0   0   0]\n",
       "[0   0   0   1   0   0   0]\n",
       "[0   0   0   0   1   0   0]\n",
       "[0   0   0   0   0   1   0]\n",
       "[0   0   0   0   0   0   1]"
      ]
     },
     "metadata": {},
     "output_type": "display_data"
    }
   ],
   "source": [
    "P_m ^ 7"
   ]
  },
  {
   "cell_type": "code",
   "execution_count": 109,
   "metadata": {},
   "outputs": [
    {
     "data": {
      "text/plain": [
       "false"
      ]
     },
     "metadata": {},
     "output_type": "display_data"
    }
   ],
   "source": [
    " P_m == inv(P_m)\n"
   ]
  },
  {
   "cell_type": "code",
   "execution_count": 110,
   "metadata": {},
   "outputs": [],
   "source": [
    "# Test\n",
    "# C_2 = [1 0 0 0 0; 0 1 0 0 0; 0 0 1 0 0; 0 0 0 1 0; 0 0 0 0 1]\n",
    "# C_2 = S(C_2)\n",
    "# P_m == C_2"
   ]
  },
  {
   "cell_type": "code",
   "execution_count": 8,
   "metadata": {},
   "outputs": [
    {
     "data": {
      "text/plain": [
       "823543-element Vector{NTuple{7, Int64}}:\n",
       " (0, 0, 0, 0, 0, 0, 0)\n",
       " (1, 0, 0, 0, 0, 0, 0)\n",
       " (2, 0, 0, 0, 0, 0, 0)\n",
       " (3, 0, 0, 0, 0, 0, 0)\n",
       " (4, 0, 0, 0, 0, 0, 0)\n",
       " (5, 0, 0, 0, 0, 0, 0)\n",
       " (6, 0, 0, 0, 0, 0, 0)\n",
       " (0, 1, 0, 0, 0, 0, 0)\n",
       " (1, 1, 0, 0, 0, 0, 0)\n",
       " (2, 1, 0, 0, 0, 0, 0)\n",
       " ⋮\n",
       " (5, 5, 6, 6, 6, 6, 6)\n",
       " (6, 5, 6, 6, 6, 6, 6)\n",
       " (0, 6, 6, 6, 6, 6, 6)\n",
       " (1, 6, 6, 6, 6, 6, 6)\n",
       " (2, 6, 6, 6, 6, 6, 6)\n",
       " (3, 6, 6, 6, 6, 6, 6)\n",
       " (4, 6, 6, 6, 6, 6, 6)\n",
       " (5, 6, 6, 6, 6, 6, 6)\n",
       " (6, 6, 6, 6, 6, 6, 6)"
      ]
     },
     "metadata": {},
     "output_type": "display_data"
    }
   ],
   "source": [
    "badic = collect(Iterators.product(fill(0:b-1, m)...))[:]"
   ]
  },
  {
   "cell_type": "code",
   "execution_count": 9,
   "metadata": {},
   "outputs": [
    {
     "data": {
      "text/plain": [
       "(0, 6, 6, 6, 6, 6, 6)"
      ]
     },
     "metadata": {},
     "output_type": "display_data"
    }
   ],
   "source": [
    "badic[b^m-b+1]"
   ]
  },
  {
   "cell_type": "code",
   "execution_count": 113,
   "metadata": {},
   "outputs": [
    {
     "name": "stdout",
     "output_type": "stream",
     "text": [
      "Vector{AbstractAlgebra.GFElem{Int64}}[[0, 3, 5, 6, 3, 5, 6], [0, 6, 6, 6, 6, 6, 6]]"
     ]
    }
   ],
   "source": [
    "v_sp = P_inv * collect(badic[b^m-b+1])\n",
    "print([v_sp, P_m * v_sp])"
   ]
  },
  {
   "cell_type": "code",
   "execution_count": 10,
   "metadata": {},
   "outputs": [
    {
     "data": {
      "text/plain": [
       "7-element Vector{AbstractAlgebra.GFElem{Int64}}:\n",
       " 1\n",
       " 0\n",
       " 0\n",
       " 0\n",
       " 0\n",
       " 0\n",
       " 6"
      ]
     },
     "metadata": {},
     "output_type": "display_data"
    }
   ],
   "source": [
    "v_x2 = P_m * collect(badic[b^m-b+1])"
   ]
  },
  {
   "cell_type": "code",
   "execution_count": 101,
   "metadata": {},
   "outputs": [
    {
     "data": {
      "text/plain": [
       "25-element Vector{AbstractAlgebra.GFElem{Int64}}:\n",
       " 1\n",
       " 0\n",
       " 0\n",
       " 0\n",
       " 0\n",
       " 0\n",
       " 0\n",
       " 0\n",
       " 0\n",
       " 0\n",
       " ⋮\n",
       " 0\n",
       " 0\n",
       " 0\n",
       " 0\n",
       " 0\n",
       " 0\n",
       " 0\n",
       " 0\n",
       " 4"
      ]
     },
     "metadata": {},
     "output_type": "display_data"
    }
   ],
   "source": [
    "v_x3 = P_m * [0,4,4,4,4,4,4,4,4,4,4,4,4,4,4,4,4,4,4,4,4,4,4,4,4]"
   ]
  },
  {
   "cell_type": "code",
   "execution_count": null,
   "metadata": {},
   "outputs": [],
   "source": []
  },
  {
   "cell_type": "code",
   "execution_count": 68,
   "metadata": {},
   "outputs": [
    {
     "data": {
      "text/plain": [
       "norm_coord (generic function with 1 method)"
      ]
     },
     "metadata": {},
     "output_type": "display_data"
    }
   ],
   "source": [
    "function norm_coord(v,b)\n",
    "    v_1 = 0.0\n",
    "    bf = float(b)\n",
    "    for i in eachindex(v)\n",
    "        v_1 += v[i] * bf^(-i)\n",
    "    end\n",
    "    return v_1\n",
    "end\n"
   ]
  },
  {
   "cell_type": "code",
   "execution_count": 69,
   "metadata": {},
   "outputs": [
    {
     "data": {
      "text/plain": [
       "\u001b[32m\u001b[1mTest Passed\u001b[22m\u001b[39m"
      ]
     },
     "metadata": {},
     "output_type": "display_data"
    }
   ],
   "source": [
    "using Test\n",
    "@test norm_coord([1 1 0 1],2) == 13/16"
   ]
  },
  {
   "cell_type": "code",
   "execution_count": 70,
   "metadata": {},
   "outputs": [
    {
     "data": {
      "text/plain": [
       "0.208301580043692516146756898987035810932866297662258148193359375"
      ]
     },
     "metadata": {},
     "output_type": "display_data"
    }
   ],
   "source": [
    "norm_coord(AbstractAlgebra.lift.(v_sp),b)"
   ]
  },
  {
   "cell_type": "code",
   "execution_count": null,
   "metadata": {},
   "outputs": [],
   "source": [
    "function point_gen(C,n,b)\n",
    "    v = [norm_coord(AbstractAlgebra.lift.(c*n),b) for c in C]   \n",
    "    return v\n",
    "end"
   ]
  },
  {
   "cell_type": "code",
   "execution_count": null,
   "metadata": {},
   "outputs": [],
   "source": [
    "function gen_all_points(C,b)\n",
    "    badic = collect(Iterators.product(fill(0:b-1, m)...))[:]\n",
    "    pts = [point_gen(C,collect(n),b) for n in badic]\n",
    "    return pts\n",
    "end"
   ]
  },
  {
   "cell_type": "code",
   "execution_count": null,
   "metadata": {},
   "outputs": [],
   "source": [
    "gen_all_points(C,b)\n",
    "pts = sort(gen_all_points(C,b))"
   ]
  },
  {
   "cell_type": "code",
   "execution_count": null,
   "metadata": {},
   "outputs": [],
   "source": [
    "pts_unq= unique(pts)"
   ]
  }
 ],
 "metadata": {
  "kernelspec": {
   "display_name": "Julia 1.10.2",
   "language": "julia",
   "name": "julia-1.10"
  },
  "language_info": {
   "file_extension": ".jl",
   "mimetype": "application/julia",
   "name": "julia",
   "version": "1.10.2"
  }
 },
 "nbformat": 4,
 "nbformat_minor": 2
}
