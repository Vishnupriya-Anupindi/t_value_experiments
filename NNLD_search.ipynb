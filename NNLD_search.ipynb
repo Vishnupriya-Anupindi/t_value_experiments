{
 "cells": [
  {
   "cell_type": "code",
   "execution_count": 1,
   "metadata": {},
   "outputs": [],
   "source": [
    "import Pkg "
   ]
  },
  {
   "cell_type": "code",
   "execution_count": 2,
   "metadata": {},
   "outputs": [
    {
     "name": "stderr",
     "output_type": "stream",
     "text": [
      "\u001b[32m\u001b[1m    Updating\u001b[22m\u001b[39m registry at `~/.julia/registries/General.toml`\n",
      "\u001b[32m\u001b[1m   Resolving\u001b[22m\u001b[39m package versions...\n",
      "\u001b[32m\u001b[1m  No Changes\u001b[22m\u001b[39m to `~/Documents/Programming/t_value_experiments/Project.toml`\n",
      "\u001b[32m\u001b[1m  No Changes\u001b[22m\u001b[39m to `~/Documents/Programming/t_value_experiments/Manifest.toml`\n"
     ]
    }
   ],
   "source": [
    "Pkg.add(\"AbstractAlgebra\")"
   ]
  },
  {
   "cell_type": "code",
   "execution_count": 3,
   "metadata": {},
   "outputs": [
    {
     "name": "stderr",
     "output_type": "stream",
     "text": [
      "\u001b[32m\u001b[1m   Resolving\u001b[22m\u001b[39m package versions...\n",
      "\u001b[32m\u001b[1m    Updating\u001b[22m\u001b[39m `~/Documents/Programming/t_value_experiments/Project.toml`\n",
      "  \u001b[90m[9a3f8284] \u001b[39m\u001b[92m+ Random\u001b[39m\n",
      "\u001b[32m\u001b[1m  No Changes\u001b[22m\u001b[39m to `~/Documents/Programming/t_value_experiments/Manifest.toml`\n"
     ]
    }
   ],
   "source": [
    "Pkg.add(\"Random\")"
   ]
  },
  {
   "cell_type": "code",
   "execution_count": 4,
   "metadata": {},
   "outputs": [
    {
     "name": "stderr",
     "output_type": "stream",
     "text": [
      "\u001b[32m\u001b[1m   Resolving\u001b[22m\u001b[39m package versions...\n",
      "\u001b[32m\u001b[1m    Updating\u001b[22m\u001b[39m `~/Documents/Programming/t_value_experiments/Project.toml`\n",
      "  \u001b[90m[2ae35dd2] \u001b[39m\u001b[92m+ Permutations v0.4.21\u001b[39m\n",
      "\u001b[32m\u001b[1m  No Changes\u001b[22m\u001b[39m to `~/Documents/Programming/t_value_experiments/Manifest.toml`\n"
     ]
    }
   ],
   "source": [
    "Pkg.add(\"Permutations\")"
   ]
  },
  {
   "cell_type": "code",
   "execution_count": 5,
   "metadata": {},
   "outputs": [
    {
     "name": "stderr",
     "output_type": "stream",
     "text": [
      "\u001b[32m\u001b[1m   Resolving\u001b[22m\u001b[39m package versions...\n",
      "\u001b[32m\u001b[1m  No Changes\u001b[22m\u001b[39m to `~/Documents/Programming/t_value_experiments/Project.toml`\n",
      "\u001b[32m\u001b[1m  No Changes\u001b[22m\u001b[39m to `~/Documents/Programming/t_value_experiments/Manifest.toml`\n"
     ]
    }
   ],
   "source": [
    "Pkg.add(\"CairoMakie\")"
   ]
  },
  {
   "cell_type": "code",
   "execution_count": 3,
   "metadata": {},
   "outputs": [
    {
     "data": {
      "text/plain": [
       "16"
      ]
     },
     "metadata": {},
     "output_type": "display_data"
    }
   ],
   "source": [
    "using AbstractAlgebra, Random, Permutations\n",
    "b= 2\n",
    "F = GF(b)\n",
    "m = 4 \n",
    "s = 2\n",
    "ρ = m \n",
    "t = m - ρ \n",
    "N = b^m"
   ]
  },
  {
   "cell_type": "code",
   "execution_count": 60,
   "metadata": {},
   "outputs": [],
   "source": [
    "#all_perms = collect(PermGen(m)) \n",
    "#number_perm = length(all_perms)\n",
    "#@show number_perm\n",
    "# inds = rand(1:length(all_perms), s)\n",
    "#@show inds = (1,120)\n",
    "#C = [Matrix(all_perms[i]) for i in inds]\n"
   ]
  },
  {
   "cell_type": "code",
   "execution_count": 4,
   "metadata": {},
   "outputs": [
    {
     "data": {
      "text/plain": [
       "16-element Vector{NTuple{4, Int64}}:\n",
       " (0, 0, 0, 0)\n",
       " (1, 0, 0, 0)\n",
       " (0, 1, 0, 0)\n",
       " (1, 1, 0, 0)\n",
       " (0, 0, 1, 0)\n",
       " (1, 0, 1, 0)\n",
       " (0, 1, 1, 0)\n",
       " (1, 1, 1, 0)\n",
       " (0, 0, 0, 1)\n",
       " (1, 0, 0, 1)\n",
       " (0, 1, 0, 1)\n",
       " (1, 1, 0, 1)\n",
       " (0, 0, 1, 1)\n",
       " (1, 0, 1, 1)\n",
       " (0, 1, 1, 1)\n",
       " (1, 1, 1, 1)"
      ]
     },
     "metadata": {},
     "output_type": "display_data"
    }
   ],
   "source": [
    "badic = collect(Iterators.product(fill(0:b-1, m)...))[:]"
   ]
  },
  {
   "cell_type": "code",
   "execution_count": 5,
   "metadata": {},
   "outputs": [
    {
     "data": {
      "text/plain": [
       "norm_coord (generic function with 1 method)"
      ]
     },
     "metadata": {},
     "output_type": "display_data"
    }
   ],
   "source": [
    "function norm_coord(v,b)\n",
    "    v_1 = 0.0\n",
    "    bf = float(b)\n",
    "    for i in eachindex(v)\n",
    "        v_1 += v[i] * bf^(-i)\n",
    "    end\n",
    "    return v_1\n",
    "end\n"
   ]
  },
  {
   "cell_type": "code",
   "execution_count": 6,
   "metadata": {},
   "outputs": [
    {
     "data": {
      "text/plain": [
       "\u001b[32m\u001b[1mTest Passed\u001b[22m\u001b[39m"
      ]
     },
     "metadata": {},
     "output_type": "display_data"
    }
   ],
   "source": [
    "using Test\n",
    "@test norm_coord([1 1 0 1],2) == 13/16"
   ]
  },
  {
   "cell_type": "code",
   "execution_count": 7,
   "metadata": {},
   "outputs": [],
   "source": [
    "# norm_coord( AbstractAlgebra.lift.( C_2*collect(badic[4]) ),2)  # you need to convert Tuples to vectors matrix mult...\n",
    "# C_r2*collect(badic[4])\n",
    "\n",
    "# If you compute in a finite field, you need to apply the map from Fq to R to make this computation\n",
    "# work. This map is called 'lift'. So, you need to apply lift to the vector you want to compute with."
   ]
  },
  {
   "cell_type": "code",
   "execution_count": 8,
   "metadata": {},
   "outputs": [
    {
     "data": {
      "text/plain": [
       "point_gen (generic function with 1 method)"
      ]
     },
     "metadata": {},
     "output_type": "display_data"
    }
   ],
   "source": [
    "function point_gen(C,n,b)\n",
    "    #v = [norm_coord(c*n,b) for c in C]\n",
    "    v = [norm_coord(AbstractAlgebra.lift.(c*n),b) for c in C]  # you need to apply lift here! Like this? yes! Yay now the plot looks correct! Juhu! \n",
    "    return v\n",
    "end"
   ]
  },
  {
   "cell_type": "code",
   "execution_count": 9,
   "metadata": {},
   "outputs": [
    {
     "data": {
      "text/plain": [
       "gen_all_points (generic function with 1 method)"
      ]
     },
     "metadata": {},
     "output_type": "display_data"
    }
   ],
   "source": [
    "function gen_all_points(C,b)\n",
    "    badic = collect(Iterators.product(fill(0:b-1, m)...))[:]\n",
    "    pts = [point_gen(C,collect(n),b) for n in badic]\n",
    "    return pts\n",
    "end"
   ]
  },
  {
   "cell_type": "code",
   "execution_count": 10,
   "metadata": {},
   "outputs": [
    {
     "data": {
      "text/plain": [
       "δ (generic function with 1 method)"
      ]
     },
     "metadata": {},
     "output_type": "display_data"
    }
   ],
   "source": [
    "vol(z) = prod(z)\n",
    "vol_h(z, pts) = count( all(p .< z) for p in pts ) / length(pts)\n",
    "δ(z,pts) = vol_h(z, pts) - vol(z)"
   ]
  },
  {
   "cell_type": "code",
   "execution_count": 11,
   "metadata": {},
   "outputs": [
    {
     "data": {
      "text/plain": [
       "is_NNLD (generic function with 1 method)"
      ]
     },
     "metadata": {},
     "output_type": "display_data"
    }
   ],
   "source": [
    "function is_NNLD(c_z, s, pts)\n",
    "    NNLD = true\n",
    "    for i in 1:c_z \n",
    "        z = rand(s)\n",
    "        if δ(z,pts) < 0\n",
    "            @show z\n",
    "            NNLD = false\n",
    "            break\n",
    "        end\n",
    "    end\n",
    "    return NNLD\n",
    "end\n"
   ]
  },
  {
   "cell_type": "code",
   "execution_count": 10,
   "metadata": {},
   "outputs": [
    {
     "data": {
      "text/plain": [
       "2-element Vector{Matrix{AbstractAlgebra.GFElem{Int64}}}:\n",
       " [1 0; 0 1]\n",
       " [0 1; 1 0]"
      ]
     },
     "metadata": {},
     "output_type": "display_data"
    }
   ],
   "source": [
    "C_1 = [[1 0];[0 1]]\n",
    "C_2 = [[0 1];[1 0]]\n",
    "C_1, C_2 = F.(C_1), F.(C_2)\n",
    "C = [C_1,C_2]"
   ]
  },
  {
   "cell_type": "code",
   "execution_count": 69,
   "metadata": {},
   "outputs": [
    {
     "data": {
      "text/plain": [
       "2-element Vector{Matrix{AbstractAlgebra.GFElem{Int64}}}:\n",
       " [2 1 1; 1 1 0; 1 0 0]\n",
       " [0 1 1; 1 1 0; 1 0 0]"
      ]
     },
     "metadata": {},
     "output_type": "display_data"
    }
   ],
   "source": [
    "#Testing 851,849\n",
    "C_1 = [[2 1 1];[1 1 0]; [1 0 0]]\n",
    "C_2 = [[0 1 1];[1 1 0]; [1 0 0]]\n",
    "C_1, C_2 = F.(C_1), F.(C_2)\n",
    "C = [C_1,C_2]"
   ]
  },
  {
   "cell_type": "code",
   "execution_count": 70,
   "metadata": {},
   "outputs": [
    {
     "data": {
      "text/plain": [
       "2-element Vector{Matrix{AbstractAlgebra.GFElem{Int64}}}:\n",
       " [1 0 0; 0 2 0; 0 0 1]\n",
       " [0 0 1; 1 0 0; 1 1 0]"
      ]
     },
     "metadata": {},
     "output_type": "display_data"
    }
   ],
   "source": [
    "\n",
    "C_r1 = [[1 0 0];[0 2 0]; [0 0 1]]\n",
    "C_r2 = [[0 0 1];[1 0 0];[1 1 0] ]\n",
    "C_r1, C_r2 = F.(C_r1), F.(C_r2)\n",
    "C_r = [C_r1,C_r2]"
   ]
  },
  {
   "cell_type": "code",
   "execution_count": 104,
   "metadata": {},
   "outputs": [
    {
     "data": {
      "text/plain": [
       "2-element Vector{Matrix{AbstractAlgebra.GFElem{Int64}}}:\n",
       " [1 0 0; 0 1 0; 0 0 1]\n",
       " [1 0 0; 1 1 0; 0 1 1]"
      ]
     },
     "metadata": {},
     "output_type": "display_data"
    }
   ],
   "source": [
    "C_tr1 = [[1 0 0];[0 1 0]; [0 0 1]]\n",
    "C_tr2 = [[1 0 0];[1 1 0];[0 1 1] ]\n",
    "C_tr1, C_tr2 = F.(C_tr1), F.(C_tr2)\n",
    "C_tr = [C_tr1,C_tr2]"
   ]
  },
  {
   "cell_type": "code",
   "execution_count": 91,
   "metadata": {},
   "outputs": [],
   "source": [
    "# Faure sequence net for s=2, m=5 and b=2. This is not an NNLD net.\n",
    "#C_1 = [[1 0 0 0 0];[0 1 0 0 0]; [0 0 1 0 0]; [0 0 0 1 0]; [0 0 0 0 1]]\n",
    "#C_2 = [[1 1 1 1 1]; [0 1 0 1 0]; [0 0 1 1 0]; [0 0 0 1 0]; [0 0 0 0 1]]\n",
    "#C_1, C_2 = F.(C_1), F.(C_2)\n",
    "#C = [C_1,C_2]"
   ]
  },
  {
   "cell_type": "code",
   "execution_count": 37,
   "metadata": {},
   "outputs": [
    {
     "data": {
      "text/plain": [
       "4-element Vector{Vector{BigFloat}}:\n",
       " [0.0, 0.0]\n",
       " [0.5, 0.25]\n",
       " [0.25, 0.5]\n",
       " [0.75, 0.75]"
      ]
     },
     "metadata": {},
     "output_type": "display_data"
    }
   ],
   "source": [
    "gen_all_points(C,b)\n",
    "pts = gen_all_points(C,b)"
   ]
  },
  {
   "cell_type": "code",
   "execution_count": 12,
   "metadata": {},
   "outputs": [
    {
     "data": {
      "text/plain": [
       "4-element Vector{Vector{Float64}}:\n",
       " [0.0, 0.0]\n",
       " [0.25, 0.25]\n",
       " [0.75, 0.5]\n",
       " [0.5, 0.75]"
      ]
     },
     "metadata": {},
     "output_type": "display_data"
    }
   ],
   "source": [
    "pts = [[0.0, 0.0],[0.25, 0.25], [0.75,0.5], [0.5, 0.75]]\n",
    "\n"
   ]
  },
  {
   "cell_type": "code",
   "execution_count": 93,
   "metadata": {},
   "outputs": [
    {
     "data": {
      "text/plain": [
       "27"
      ]
     },
     "metadata": {},
     "output_type": "display_data"
    }
   ],
   "source": [
    "pts_unq= unique(pts)\n",
    "nu_pts_unq=length(pts_unq)"
   ]
  },
  {
   "cell_type": "code",
   "execution_count": 94,
   "metadata": {},
   "outputs": [
    {
     "data": {
      "text/plain": [
       "27-element Vector{Vector{BigFloat}}:\n",
       " [0.0, 0.0]\n",
       " [0.333333333333333314829616256247390992939472198486328125, 0.148148148148148146863167795572735485620796680450439453125]\n",
       " [0.66666666666666662965923251249478198587894439697265625, 0.29629629629629629372633559114547097124159336090087890625]\n",
       " [0.22222222222222220988641083749826066195964813232421875, 0.037037037037037041919962376823605154640972614288330078125]\n",
       " [0.555555555555555524716027093745651654899120330810546875, 0.18518518518518518878313017239634064026176929473876953125]\n",
       " [0.888888888888888839545643349993042647838592529296875, 0.22222222222222220988641083749826066195964813232421875]\n",
       " [0.111111111111111104943205418749130330979824066162109375, 0.07407407407407408383992475364721030928194522857666015625]\n",
       " [0.4444444444444444197728216749965213239192962646484375, 0.111111111111111104943205418749130330979824066162109375]\n",
       " [0.777777777777777734602437931243912316858768463134765625, 0.259259259259259251806373214321865816600620746612548828125]\n",
       " [0.037037037037037041919962376823605154640972614288330078125, 0.333333333333333314829616256247390992939472198486328125]\n",
       " ⋮\n",
       " [0.07407407407407408383992475364721030928194522857666015625, 0.66666666666666662965923251249478198587894439697265625]\n",
       " [0.40740740740740739866954100989460130222141742706298828125, 0.814814814814814776522400308067517471499741077423095703125]\n",
       " [0.74074074074074071349915726614199229516088962554931640625, 0.96296296296296292338556810364025295712053775787353515625]\n",
       " [0.29629629629629629372633559114547097124159336090087890625, 0.703703703703703671579194889318387140519917011260986328125]\n",
       " [0.62962962962962960855595184739286196418106555938720703125, 0.85185185185185181844236268489112262614071369171142578125]\n",
       " [0.96296296296296292338556810364025295712053775787353515625, 0.888888888888888839545643349993042647838592529296875]\n",
       " [0.18518518518518518878313017239634064026176929473876953125, 0.74074074074074071349915726614199229516088962554931640625]\n",
       " [0.51851851851851850361274642864373163320124149322509765625, 0.777777777777777734602437931243912316858768463134765625]\n",
       " [0.85185185185185181844236268489112262614071369171142578125, 0.925925925925925881465605726816647802479565143585205078125]"
      ]
     },
     "metadata": {},
     "output_type": "display_data"
    }
   ],
   "source": [
    "gen_all_points(C_r,b)\n",
    "pts_r = gen_all_points(C_r,b)"
   ]
  },
  {
   "cell_type": "code",
   "execution_count": 105,
   "metadata": {},
   "outputs": [
    {
     "data": {
      "text/plain": [
       "27-element Vector{Vector{BigFloat}}:\n",
       " [0.0, 0.0]\n",
       " [0.333333333333333314829616256247390992939472198486328125, 0.4444444444444444197728216749965213239192962646484375]\n",
       " [0.66666666666666662965923251249478198587894439697265625, 0.888888888888888839545643349993042647838592529296875]\n",
       " [0.111111111111111104943205418749130330979824066162109375, 0.148148148148148146863167795572735485620796680450439453125]\n",
       " [0.4444444444444444197728216749965213239192962646484375, 0.592592592592592566635989470569256809540092945098876953125]\n",
       " [0.777777777777777734602437931243912316858768463134765625, 0.703703703703703671579194889318387140519917011260986328125]\n",
       " [0.22222222222222220988641083749826066195964813232421875, 0.29629629629629629372633559114547097124159336090087890625]\n",
       " [0.555555555555555524716027093745651654899120330810546875, 0.40740740740740739866954100989460130222141742706298828125]\n",
       " [0.888888888888888839545643349993042647838592529296875, 0.85185185185185181844236268489112262614071369171142578125]\n",
       " [0.037037037037037041919962376823605154640972614288330078125, 0.037037037037037041919962376823605154640972614288330078125]\n",
       " ⋮\n",
       " [0.07407407407407408383992475364721030928194522857666015625, 0.07407407407407408383992475364721030928194522857666015625]\n",
       " [0.40740740740740739866954100989460130222141742706298828125, 0.51851851851851850361274642864373163320124149322509765625]\n",
       " [0.74074074074074071349915726614199229516088962554931640625, 0.96296296296296292338556810364025295712053775787353515625]\n",
       " [0.18518518518518518878313017239634064026176929473876953125, 0.111111111111111104943205418749130330979824066162109375]\n",
       " [0.51851851851851850361274642864373163320124149322509765625, 0.555555555555555524716027093745651654899120330810546875]\n",
       " [0.85185185185185181844236268489112262614071369171142578125, 0.66666666666666662965923251249478198587894439697265625]\n",
       " [0.29629629629629629372633559114547097124159336090087890625, 0.259259259259259251806373214321865816600620746612548828125]\n",
       " [0.62962962962962960855595184739286196418106555938720703125, 0.370370370370370356749578633070996147580444812774658203125]\n",
       " [0.96296296296296292338556810364025295712053775787353515625, 0.814814814814814776522400308067517471499741077423095703125]"
      ]
     },
     "metadata": {},
     "output_type": "display_data"
    }
   ],
   "source": [
    "gen_all_points(C_tr,b)\n",
    "pts_tr = gen_all_points(C_tr,b)"
   ]
  },
  {
   "cell_type": "code",
   "execution_count": 33,
   "metadata": {},
   "outputs": [
    {
     "data": {
      "text/plain": [
       "0.4375"
      ]
     },
     "metadata": {},
     "output_type": "display_data"
    }
   ],
   "source": [
    "z_1 = [0.75,0.75]\n",
    "pts_1 = [pts[1], pts[2]]\n",
    "vol(z_1)\n",
    "vol_h(z_1,pts_1)\n",
    "δ(z_1,pts_1)\n"
   ]
  },
  {
   "cell_type": "code",
   "execution_count": 13,
   "metadata": {},
   "outputs": [
    {
     "name": "stdout",
     "output_type": "stream",
     "text": [
      "z = [0.7322978289726177, 0.70201946425963]\n"
     ]
    },
    {
     "data": {
      "text/plain": [
       "false"
      ]
     },
     "metadata": {},
     "output_type": "display_data"
    }
   ],
   "source": [
    "is_NNLD(100, 2, pts)"
   ]
  },
  {
   "cell_type": "code",
   "execution_count": 98,
   "metadata": {},
   "outputs": [
    {
     "data": {
      "text/plain": [
       "true"
      ]
     },
     "metadata": {},
     "output_type": "display_data"
    }
   ],
   "source": [
    "is_NNLD(50, 2, pts_r)"
   ]
  },
  {
   "cell_type": "code",
   "execution_count": 106,
   "metadata": {},
   "outputs": [
    {
     "data": {
      "text/plain": [
       "true"
      ]
     },
     "metadata": {},
     "output_type": "display_data"
    }
   ],
   "source": [
    "is_NNLD(50, 2, pts_tr)"
   ]
  },
  {
   "cell_type": "code",
   "execution_count": 14,
   "metadata": {},
   "outputs": [],
   "source": [
    "using CairoMakie\n",
    "set_theme!(theme_ggplot2())"
   ]
  },
  {
   "cell_type": "code",
   "execution_count": 15,
   "metadata": {},
   "outputs": [
    {
     "data": {
      "image/png": "[encoded data removed]"
     },
     "metadata": {},
     "output_type": "display_data"
    }
   ],
   "source": [
    "fig = Figure(resolution = (400, 400))\n",
    "ax = Axis(fig[1,1], title = \"point set\")\n",
    "scatter!( Point2.(pts) )\n",
    "\n",
    "#ax = Axis(fig[1,2], title = \"second point set\")\n",
    "#scatter!( Point2.(pts_r) )\n",
    "\n",
    "#ax = Axis(fig[1,3], title = \"third point set\")\n",
    "#scatter!( Point2.(pts_tr) )\n",
    "fig"
   ]
  },
  {
   "cell_type": "code",
   "execution_count": 16,
   "metadata": {},
   "outputs": [
    {
     "data": {
      "image/png": "[encoded data removed]"
     },
     "metadata": {},
     "output_type": "display_data"
    }
   ],
   "source": [
    "x = LinRange(0,1,100)\n",
    "y = LinRange(0,1,100)\n",
    "fig = Figure(resolution = (1200, 400))\n",
    "ax = Axis(fig[1,1], title=\"volume_h(z)\")\n",
    "A = [vol_h((a,b),pts[1:end]) for a in x, b in y]\n",
    "heatmap!(x,y, A, colormap = \"thermometer\"  )\n",
    "\n",
    "ax = Axis(fig[1,2], title = \"volume_interval\")\n",
    "B = [a*b for a in x, b in y]\n",
    "heatmap!(x,y, B,colormap = \"thermometer\")\n",
    "\n",
    "ax = Axis(fig[1,3], title = \"delta(z)\")\n",
    "hm = heatmap!(x,y, A-B,colormap = \"thermometer\"  )\n",
    "scatter!( Point2.(pts), color = :black, markersize = 5 )\n",
    "Colorbar(fig[1,4], hm)\n",
    "fig"
   ]
  },
  {
   "cell_type": "code",
   "execution_count": 281,
   "metadata": {},
   "outputs": [],
   "source": []
  },
  {
   "cell_type": "code",
   "execution_count": null,
   "metadata": {},
   "outputs": [],
   "source": []
  }
 ],
 "metadata": {
  "kernelspec": {
   "display_name": "Julia 1.10.2",
   "language": "julia",
   "name": "julia-1.10"
  },
  "language_info": {
   "file_extension": ".jl",
   "mimetype": "application/julia",
   "name": "julia",
   "version": "1.10.2"
  },
  "orig_nbformat": 4
 },
 "nbformat": 4,
 "nbformat_minor": 2
}
