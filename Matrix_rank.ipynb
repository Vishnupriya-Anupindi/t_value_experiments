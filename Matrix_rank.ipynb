{
 "cells": [
  {
   "cell_type": "code",
   "execution_count": 13,
   "metadata": {},
   "outputs": [],
   "source": [
    "import galois\n",
    "import numpy as np\n",
    "from numpy.linalg import *"
   ]
  },
  {
   "cell_type": "code",
   "execution_count": 43,
   "metadata": {},
   "outputs": [
    {
     "name": "stdout",
     "output_type": "stream",
     "text": [
      "<class 'galois.GF(2)'>\n"
     ]
    }
   ],
   "source": [
    "GF = galois.GF(2,1)\n",
    "print(GF)"
   ]
  },
  {
   "cell_type": "code",
   "execution_count": 46,
   "metadata": {},
   "outputs": [
    {
     "name": "stdout",
     "output_type": "stream",
     "text": [
      "0\n"
     ]
    }
   ],
   "source": [
    "x = GF(1)\n",
    "print(x + x)"
   ]
  },
  {
   "cell_type": "code",
   "execution_count": 47,
   "metadata": {},
   "outputs": [
    {
     "name": "stdout",
     "output_type": "stream",
     "text": [
      "[[1 0 0]\n",
      " [0 1 0]\n",
      " [0 0 0]]\n"
     ]
    }
   ],
   "source": [
    "C_1= GF(np.matrix ([[1,0,0],[0,1,0], [0,0,0]]))\n",
    "print(C_1)"
   ]
  },
  {
   "cell_type": "code",
   "execution_count": 48,
   "metadata": {},
   "outputs": [],
   "source": [
    "rk_C_1 = matrix_rank(C_1)"
   ]
  },
  {
   "cell_type": "code",
   "execution_count": 49,
   "metadata": {},
   "outputs": [
    {
     "data": {
      "text/plain": [
       "2"
      ]
     },
     "execution_count": 49,
     "metadata": {},
     "output_type": "execute_result"
    }
   ],
   "source": [
    "rk_C_1"
   ]
  },
  {
   "cell_type": "code",
   "execution_count": 50,
   "metadata": {},
   "outputs": [],
   "source": [
    "def red_mat(C,w):\n",
    "    C_t = C.copy()\n",
    "    C_t[:,w:] = 0\n",
    "    return C_t"
   ]
  },
  {
   "cell_type": "code",
   "execution_count": 51,
   "metadata": {},
   "outputs": [
    {
     "data": {
      "text/plain": [
       "GF([[1, 0, 0],\n",
       "    [0, 0, 0],\n",
       "    [0, 0, 0]], order=2)"
      ]
     },
     "execution_count": 51,
     "metadata": {},
     "output_type": "execute_result"
    }
   ],
   "source": [
    "red_mat(C_1,1)"
   ]
  },
  {
   "cell_type": "code",
   "execution_count": 58,
   "metadata": {},
   "outputs": [
    {
     "data": {
      "text/plain": [
       "GF([[1, 0, 1, 0, 1],\n",
       "    [0, 0, 1, 1, 0],\n",
       "    [0, 1, 0, 0, 0]], order=2)"
      ]
     },
     "execution_count": 58,
     "metadata": {},
     "output_type": "execute_result"
    }
   ],
   "source": [
    "A = GF.Random((3,5))\n",
    "A"
   ]
  },
  {
   "cell_type": "code",
   "execution_count": 59,
   "metadata": {},
   "outputs": [
    {
     "data": {
      "text/plain": [
       "(3, 2)"
      ]
     },
     "execution_count": 59,
     "metadata": {},
     "output_type": "execute_result"
    }
   ],
   "source": [
    "rk_A = matrix_rank(A)\n",
    "rk_A_t = matrix_rank(red_mat(A,2))\n",
    "rk_A,rk_A_t"
   ]
  },
  {
   "cell_type": "code",
   "execution_count": 65,
   "metadata": {},
   "outputs": [],
   "source": [
    "p = {\"w\":2,\"dim\":(3,5)}"
   ]
  },
  {
   "cell_type": "code",
   "execution_count": 69,
   "metadata": {},
   "outputs": [],
   "source": [
    "def expe(p):\n",
    "    A = GF.Random(p[\"dim\"])\n",
    "    rk_A = matrix_rank(A)\n",
    "    rk_A_t = matrix_rank(red_mat(A,p[\"w\"]))\n",
    "    return((rk_A,rk_A_t),(A))"
   ]
  },
  {
   "cell_type": "code",
   "execution_count": 71,
   "metadata": {},
   "outputs": [
    {
     "data": {
      "text/plain": [
       "({'w': 2, 'dim': (3, 5)},\n",
       " {(3, 2): GF([[0, 1, 0, 1, 0],\n",
       "      [1, 1, 1, 1, 1],\n",
       "      [1, 0, 1, 0, 0]], order=2),\n",
       "  (3,\n",
       "   1): GF([[0, 0, 1, 1, 1],\n",
       "      [1, 0, 0, 0, 0],\n",
       "      [1, 0, 1, 0, 0]], order=2),\n",
       "  (2,\n",
       "   2): GF([[1, 0, 0, 1, 1],\n",
       "      [1, 0, 0, 1, 1],\n",
       "      [1, 1, 1, 1, 1]], order=2),\n",
       "  (2,\n",
       "   1): GF([[1, 0, 0, 0, 0],\n",
       "      [1, 0, 0, 0, 0],\n",
       "      [1, 0, 0, 0, 1]], order=2),\n",
       "  (1,\n",
       "   1): GF([[1, 0, 0, 0, 1],\n",
       "      [1, 0, 0, 0, 1],\n",
       "      [1, 0, 0, 0, 1]], order=2),\n",
       "  (3,\n",
       "   0): GF([[0, 0, 0, 1, 0],\n",
       "      [0, 0, 1, 0, 1],\n",
       "      [0, 0, 1, 1, 0]], order=2)})"
      ]
     },
     "execution_count": 71,
     "metadata": {},
     "output_type": "execute_result"
    }
   ],
   "source": [
    "res = dict()\n",
    "for i in range(100):\n",
    "    (x,data) = expe(p)\n",
    "    if x not in res:\n",
    "        res[x] = data \n",
    "p,res\n"
   ]
  },
  {
   "cell_type": "code",
   "execution_count": null,
   "metadata": {},
   "outputs": [],
   "source": []
  }
 ],
 "metadata": {
  "kernelspec": {
   "display_name": "base",
   "language": "python",
   "name": "python3"
  },
  "language_info": {
   "codemirror_mode": {
    "name": "ipython",
    "version": 3
   },
   "file_extension": ".py",
   "mimetype": "text/x-python",
   "name": "python",
   "nbconvert_exporter": "python",
   "pygments_lexer": "ipython3",
   "version": "3.7.6"
  },
  "orig_nbformat": 4
 },
 "nbformat": 4,
 "nbformat_minor": 2
}
