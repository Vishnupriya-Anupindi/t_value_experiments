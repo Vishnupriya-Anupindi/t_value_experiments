{
 "cells": [
  {
   "cell_type": "code",
   "execution_count": 1,
   "metadata": {},
   "outputs": [],
   "source": [
    "import galois\n",
    "import numpy as np\n",
    "from numpy.linalg import *\n",
    "from tqdm import tqdm"
   ]
  },
  {
   "cell_type": "code",
   "execution_count": 2,
   "metadata": {},
   "outputs": [
    {
     "name": "stdout",
     "output_type": "stream",
     "text": [
      "<class 'galois.GF(2)'>\n"
     ]
    }
   ],
   "source": [
    "GF = galois.GF(2,1)\n",
    "print(GF)"
   ]
  },
  {
   "cell_type": "code",
   "execution_count": 3,
   "metadata": {},
   "outputs": [
    {
     "name": "stdout",
     "output_type": "stream",
     "text": [
      "0\n"
     ]
    }
   ],
   "source": [
    "x = GF(1)\n",
    "print(x + x)"
   ]
  },
  {
   "cell_type": "code",
   "execution_count": 4,
   "metadata": {},
   "outputs": [
    {
     "name": "stdout",
     "output_type": "stream",
     "text": [
      "[[1 0 0]\n",
      " [0 1 0]\n",
      " [0 0 0]]\n"
     ]
    }
   ],
   "source": [
    "C_1= GF(np.matrix ([[1,0,0],[0,1,0], [0,0,0]]))\n",
    "print(C_1)"
   ]
  },
  {
   "cell_type": "code",
   "execution_count": 5,
   "metadata": {},
   "outputs": [],
   "source": [
    "rk_C_1 = matrix_rank(C_1)"
   ]
  },
  {
   "cell_type": "code",
   "execution_count": 6,
   "metadata": {},
   "outputs": [
    {
     "data": {
      "text/plain": [
       "2"
      ]
     },
     "execution_count": 6,
     "metadata": {},
     "output_type": "execute_result"
    }
   ],
   "source": [
    "rk_C_1"
   ]
  },
  {
   "cell_type": "code",
   "execution_count": 7,
   "metadata": {},
   "outputs": [],
   "source": [
    "def red_mat(C,w):\n",
    "    C_t = C.copy()\n",
    "    C_t[:,w:] = 0\n",
    "    return C_t"
   ]
  },
  {
   "cell_type": "code",
   "execution_count": 8,
   "metadata": {},
   "outputs": [
    {
     "data": {
      "text/plain": [
       "GF([[1, 0, 0],\n",
       "    [0, 0, 0],\n",
       "    [0, 0, 0]], order=2)"
      ]
     },
     "execution_count": 8,
     "metadata": {},
     "output_type": "execute_result"
    }
   ],
   "source": [
    "red_mat(C_1,1)"
   ]
  },
  {
   "cell_type": "code",
   "execution_count": 9,
   "metadata": {},
   "outputs": [
    {
     "data": {
      "text/plain": [
       "GF([[1, 1, 1, 0, 1],\n",
       "    [0, 1, 0, 1, 0],\n",
       "    [0, 0, 0, 1, 1]], order=2)"
      ]
     },
     "execution_count": 9,
     "metadata": {},
     "output_type": "execute_result"
    }
   ],
   "source": [
    "A = GF.Random((3,5))\n",
    "A"
   ]
  },
  {
   "cell_type": "code",
   "execution_count": 10,
   "metadata": {},
   "outputs": [
    {
     "data": {
      "text/plain": [
       "(3, 2)"
      ]
     },
     "execution_count": 10,
     "metadata": {},
     "output_type": "execute_result"
    }
   ],
   "source": [
    "rk_A = matrix_rank(A)\n",
    "rk_A_t = matrix_rank(red_mat(A,3))\n",
    "rk_A,rk_A_t"
   ]
  },
  {
   "cell_type": "code",
   "execution_count": 71,
   "metadata": {},
   "outputs": [],
   "source": [
    "p = {\"w\":4,\"dim\":(6,7)}"
   ]
  },
  {
   "cell_type": "code",
   "execution_count": 72,
   "metadata": {},
   "outputs": [],
   "source": [
    "def expe(p):\n",
    "    A = GF.Random(p[\"dim\"])\n",
    "    rk_A = matrix_rank(A)\n",
    "    rk_A_t = matrix_rank(red_mat(A,p[\"w\"]))\n",
    "    return((rk_A,rk_A_t),(A))"
   ]
  },
  {
   "cell_type": "code",
   "execution_count": 73,
   "metadata": {},
   "outputs": [
    {
     "name": "stderr",
     "output_type": "stream",
     "text": [
      "  0%|          | 0/300 [00:00<?, ?it/s]"
     ]
    },
    {
     "name": "stderr",
     "output_type": "stream",
     "text": [
      "100%|██████████| 300/300 [00:01<00:00, 252.26it/s]\n"
     ]
    },
    {
     "data": {
      "text/plain": [
       "({'w': 4, 'dim': (6, 7)},\n",
       " {(6, 4): GF([[1, 0, 1, 1, 0, 0, 0],\n",
       "      [0, 1, 0, 1, 0, 1, 0],\n",
       "      [1, 0, 0, 0, 1, 1, 1],\n",
       "      [0, 0, 1, 0, 0, 0, 0],\n",
       "      [1, 1, 0, 1, 0, 0, 1],\n",
       "      [1, 1, 0, 1, 1, 1, 0]], order=2),\n",
       "  (5,\n",
       "   4): GF([[0, 1, 0, 0, 0, 1, 1],\n",
       "      [0, 1, 1, 0, 0, 0, 1],\n",
       "      [0, 0, 1, 1, 1, 0, 1],\n",
       "      [0, 1, 1, 0, 1, 1, 1],\n",
       "      [0, 1, 1, 1, 1, 1, 0],\n",
       "      [1, 0, 1, 1, 1, 1, 1]], order=2),\n",
       "  (5,\n",
       "   3): GF([[1, 1, 1, 0, 0, 1, 0],\n",
       "      [0, 1, 0, 1, 1, 1, 1],\n",
       "      [0, 1, 1, 0, 1, 1, 1],\n",
       "      [1, 1, 0, 1, 1, 0, 0],\n",
       "      [0, 1, 0, 1, 0, 1, 1],\n",
       "      [1, 1, 0, 1, 1, 0, 0]], order=2),\n",
       "  (4,\n",
       "   3): GF([[1, 1, 1, 1, 1, 1, 0],\n",
       "      [0, 1, 1, 1, 0, 0, 0],\n",
       "      [1, 1, 1, 1, 1, 1, 0],\n",
       "      [1, 1, 1, 1, 0, 1, 0],\n",
       "      [0, 0, 1, 1, 0, 0, 0],\n",
       "      [0, 1, 1, 1, 1, 0, 0]], order=2),\n",
       "  (6,\n",
       "   3): GF([[0, 0, 1, 1, 1, 1, 0],\n",
       "      [1, 0, 1, 1, 0, 1, 1],\n",
       "      [1, 0, 0, 0, 1, 1, 0],\n",
       "      [1, 0, 0, 0, 0, 1, 0],\n",
       "      [1, 0, 0, 1, 0, 1, 1],\n",
       "      [1, 0, 0, 1, 0, 0, 1]], order=2),\n",
       "  (4,\n",
       "   4): GF([[0, 1, 1, 0, 0, 0, 1],\n",
       "      [1, 1, 1, 1, 1, 1, 0],\n",
       "      [0, 1, 1, 1, 0, 0, 0],\n",
       "      [1, 0, 1, 0, 1, 0, 0],\n",
       "      [1, 0, 1, 1, 1, 0, 1],\n",
       "      [0, 0, 0, 0, 0, 0, 0]], order=2),\n",
       "  (4,\n",
       "   2): GF([[0, 0, 0, 0, 0, 0, 1],\n",
       "      [0, 1, 0, 0, 1, 1, 1],\n",
       "      [1, 1, 0, 0, 0, 1, 1],\n",
       "      [1, 0, 0, 0, 1, 0, 1],\n",
       "      [1, 0, 0, 0, 1, 1, 1],\n",
       "      [1, 0, 0, 0, 1, 0, 0]], order=2)})"
      ]
     },
     "execution_count": 73,
     "metadata": {},
     "output_type": "execute_result"
    }
   ],
   "source": [
    "res = dict()\n",
    "for i in tqdm(range(300)):\n",
    "    (x,data) = expe(p)\n",
    "    if x not in res:\n",
    "        res[x] = data \n",
    "p,res\n"
   ]
  },
  {
   "cell_type": "code",
   "execution_count": null,
   "metadata": {},
   "outputs": [],
   "source": []
  }
 ],
 "metadata": {
  "kernelspec": {
   "display_name": "base",
   "language": "python",
   "name": "python3"
  },
  "language_info": {
   "codemirror_mode": {
    "name": "ipython",
    "version": 3
   },
   "file_extension": ".py",
   "mimetype": "text/x-python",
   "name": "python",
   "nbconvert_exporter": "python",
   "pygments_lexer": "ipython3",
   "version": "3.7.6"
  },
  "orig_nbformat": 4,
  "vscode": {
   "interpreter": {
    "hash": "aa70a5beb64d6c3a2cbd02fadea8bc16fd860a9374f1ff1b108378d2725e49b2"
   }
  }
 },
 "nbformat": 4,
 "nbformat_minor": 2
}
