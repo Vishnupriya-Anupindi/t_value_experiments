{
 "cells": [
  {
   "cell_type": "code",
   "execution_count": 9,
   "metadata": {},
   "outputs": [
    {
     "data": {
      "text/plain": [
       "32"
      ]
     },
     "metadata": {},
     "output_type": "display_data"
    }
   ],
   "source": [
    "using AbstractAlgebra, Random, Permutations\n",
    "b=2\n",
    "F = GF(b)\n",
    "m = 5\n",
    "s = 2\n",
    "ρ = m \n",
    "t = m - ρ \n",
    "N = b^m"
   ]
  },
  {
   "cell_type": "code",
   "execution_count": 10,
   "metadata": {},
   "outputs": [
    {
     "name": "stdout",
     "output_type": "stream",
     "text": [
      "number_perm = 120\n",
      "inds = (1, 120) = (1, 120)\n"
     ]
    },
    {
     "data": {
      "text/plain": [
       "2-element Vector{Matrix{Int64}}:\n",
       " [1 0 … 0 0; 0 1 … 0 0; … ; 0 0 … 1 0; 0 0 … 0 1]\n",
       " [0 0 … 0 1; 0 0 … 1 0; … ; 0 1 … 0 0; 1 0 … 0 0]"
      ]
     },
     "metadata": {},
     "output_type": "display_data"
    }
   ],
   "source": [
    "all_perms = collect(PermGen(m)) \n",
    "number_perm = length(all_perms)\n",
    "@show number_perm\n",
    "# inds = rand(1:length(all_perms), s)\n",
    "@show inds = (1,120)\n",
    "C = [Matrix(all_perms[i]) for i in inds]\n"
   ]
  },
  {
   "cell_type": "code",
   "execution_count": 11,
   "metadata": {},
   "outputs": [
    {
     "data": {
      "text/plain": [
       "32-element Vector{NTuple{5, Int64}}:\n",
       " (0, 0, 0, 0, 0)\n",
       " (1, 0, 0, 0, 0)\n",
       " (0, 1, 0, 0, 0)\n",
       " (1, 1, 0, 0, 0)\n",
       " (0, 0, 1, 0, 0)\n",
       " (1, 0, 1, 0, 0)\n",
       " (0, 1, 1, 0, 0)\n",
       " (1, 1, 1, 0, 0)\n",
       " (0, 0, 0, 1, 0)\n",
       " (1, 0, 0, 1, 0)\n",
       " ⋮\n",
       " (1, 1, 1, 0, 1)\n",
       " (0, 0, 0, 1, 1)\n",
       " (1, 0, 0, 1, 1)\n",
       " (0, 1, 0, 1, 1)\n",
       " (1, 1, 0, 1, 1)\n",
       " (0, 0, 1, 1, 1)\n",
       " (1, 0, 1, 1, 1)\n",
       " (0, 1, 1, 1, 1)\n",
       " (1, 1, 1, 1, 1)"
      ]
     },
     "metadata": {},
     "output_type": "display_data"
    }
   ],
   "source": [
    "badic = collect(Iterators.product(fill(0:b-1, m)...))[:]"
   ]
  },
  {
   "cell_type": "code",
   "execution_count": 12,
   "metadata": {},
   "outputs": [
    {
     "data": {
      "text/plain": [
       "norm_coord (generic function with 1 method)"
      ]
     },
     "metadata": {},
     "output_type": "display_data"
    }
   ],
   "source": [
    "function norm_coord(v,b)\n",
    "    v_1 = 0.0\n",
    "    bf = float(b)\n",
    "    for i in eachindex(v)\n",
    "        v_1 += v[i] * bf^(-i)\n",
    "    end\n",
    "    return v_1\n",
    "end"
   ]
  },
  {
   "cell_type": "code",
   "execution_count": 13,
   "metadata": {},
   "outputs": [
    {
     "data": {
      "text/plain": [
       "\u001b[32m\u001b[1mTest Passed\u001b[22m\u001b[39m"
      ]
     },
     "metadata": {},
     "output_type": "display_data"
    }
   ],
   "source": [
    "using Test\n",
    "@test norm_coord([1 1 0 1],2) == 13/16"
   ]
  },
  {
   "cell_type": "code",
   "execution_count": 14,
   "metadata": {},
   "outputs": [
    {
     "data": {
      "text/plain": [
       "point_gen (generic function with 1 method)"
      ]
     },
     "metadata": {},
     "output_type": "display_data"
    }
   ],
   "source": [
    "function point_gen(C,n,b)\n",
    "    v = [norm_coord(c*n,b) for c in C]\n",
    "    return v\n",
    "end"
   ]
  },
  {
   "cell_type": "code",
   "execution_count": 28,
   "metadata": {},
   "outputs": [
    {
     "data": {
      "text/plain": [
       "gen_all_points (generic function with 1 method)"
      ]
     },
     "metadata": {},
     "output_type": "display_data"
    }
   ],
   "source": [
    "function gen_all_points(C,b)\n",
    "    badic = collect(Iterators.product(fill(0:b-1, m)...))[:]\n",
    "    pts = [point_gen(C,collect(n),b) for n in badic]\n",
    "    return pts\n",
    "end"
   ]
  },
  {
   "cell_type": "code",
   "execution_count": 29,
   "metadata": {},
   "outputs": [
    {
     "data": {
      "text/plain": [
       "32-element Vector{Vector{Float64}}:\n",
       " [0.0, 0.0]\n",
       " [0.5, 0.03125]\n",
       " [0.25, 0.0625]\n",
       " [0.75, 0.09375]\n",
       " [0.125, 0.125]\n",
       " [0.625, 0.15625]\n",
       " [0.375, 0.1875]\n",
       " [0.875, 0.21875]\n",
       " [0.0625, 0.25]\n",
       " [0.5625, 0.28125]\n",
       " ⋮\n",
       " [0.90625, 0.71875]\n",
       " [0.09375, 0.75]\n",
       " [0.59375, 0.78125]\n",
       " [0.34375, 0.8125]\n",
       " [0.84375, 0.84375]\n",
       " [0.21875, 0.875]\n",
       " [0.71875, 0.90625]\n",
       " [0.46875, 0.9375]\n",
       " [0.96875, 0.96875]"
      ]
     },
     "metadata": {},
     "output_type": "display_data"
    }
   ],
   "source": [
    "gen_all_points(C,b)"
   ]
  },
  {
   "cell_type": "code",
   "execution_count": 16,
   "metadata": {},
   "outputs": [],
   "source": [
    "using CairoMakie\n",
    "set_theme!(theme_ggplot2())"
   ]
  },
  {
   "cell_type": "code",
   "execution_count": 17,
   "metadata": {},
   "outputs": [
    {
     "data": {
      "text/plain": [
       "(0.5, 0.5)"
      ]
     },
     "metadata": {},
     "output_type": "display_data"
    }
   ],
   "source": [
    "z = (0.5, 0.5)"
   ]
  },
  {
   "cell_type": "code",
   "execution_count": 18,
   "metadata": {},
   "outputs": [
    {
     "data": {
      "text/plain": [
       "vol (generic function with 1 method)"
      ]
     },
     "metadata": {},
     "output_type": "display_data"
    }
   ],
   "source": [
    "vol(z) = prod(z)"
   ]
  },
  {
   "cell_type": "code",
   "execution_count": 19,
   "metadata": {},
   "outputs": [
    {
     "name": "stdout",
     "output_type": "stream",
     "text": [
      "\u001b[0m\u001b[1mTest Summary: | \u001b[22m\u001b[32m\u001b[1mPass  \u001b[22m\u001b[39m\u001b[36m\u001b[1mTotal  \u001b[22m\u001b[39m\u001b[0m\u001b[1mTime\u001b[22m\n",
      "test set      | \u001b[32m   3  \u001b[39m\u001b[36m    3  \u001b[39m\u001b[0m0.3s\n"
     ]
    },
    {
     "data": {
      "text/plain": [
       "Test.DefaultTestSet(\"test set\", Any[], 3, false, false, true, 1.696175170105e9, 1.696175170392e9, false)"
      ]
     },
     "metadata": {},
     "output_type": "display_data"
    }
   ],
   "source": [
    "@testset begin\n",
    "    @test vol((0.5,0.5)) == 0.5*0.5\n",
    "    @test vol((-0.5,0.5)) == -0.5*0.5\n",
    "    @test vol((0.0,0.5)) == 0.0\n",
    "end"
   ]
  },
  {
   "cell_type": "code",
   "execution_count": 20,
   "metadata": {},
   "outputs": [
    {
     "data": {
      "text/plain": [
       "vol_h (generic function with 1 method)"
      ]
     },
     "metadata": {},
     "output_type": "display_data"
    }
   ],
   "source": [
    "vol_h(z, pts) = count( all(p .< z) for p in pts ) / length(pts)"
   ]
  },
  {
   "cell_type": "code",
   "execution_count": 21,
   "metadata": {},
   "outputs": [
    {
     "data": {
      "text/plain": [
       "\u001b[32m\u001b[1mTest Passed\u001b[22m\u001b[39m"
      ]
     },
     "metadata": {},
     "output_type": "display_data"
    }
   ],
   "source": [
    "@test vol_h((0.5,0.5), [[0,0],[0.5, 0.03125],[0.25, 0.0625]]) == 2.0 / 3"
   ]
  },
  {
   "cell_type": "code",
   "execution_count": 22,
   "metadata": {},
   "outputs": [
    {
     "data": {
      "text/plain": [
       "δ (generic function with 1 method)"
      ]
     },
     "metadata": {},
     "output_type": "display_data"
    }
   ],
   "source": [
    "δ(z,pts) = vol_h(z, pts) - vol(z)"
   ]
  },
  {
   "cell_type": "code",
   "execution_count": 23,
   "metadata": {},
   "outputs": [
    {
     "data": {
      "text/plain": [
       "\u001b[32m\u001b[1mTest Passed\u001b[22m\u001b[39m"
      ]
     },
     "metadata": {},
     "output_type": "display_data"
    }
   ],
   "source": [
    "@test δ((0.5,0.5),[[0,0],[0.5, 0.03125],[0.25, 0.0625]] ) == 2.0 / 3 - (0.5*0.5)"
   ]
  },
  {
   "cell_type": "code",
   "execution_count": 25,
   "metadata": {},
   "outputs": [
    {
     "data": {
      "text/plain": [
       "is_NNLD (generic function with 1 method)"
      ]
     },
     "metadata": {},
     "output_type": "display_data"
    }
   ],
   "source": [
    "function is_NNLD(c_z, s, pts)\n",
    "    NNLD = true\n",
    "    for i in 1:c_z \n",
    "        z = rand(s)\n",
    "        if δ(z,pts) < 0\n",
    "            @show z\n",
    "            NNLD = false\n",
    "            break\n",
    "        end\n",
    "    end\n",
    "    return NNLD\n",
    "end\n"
   ]
  },
  {
   "cell_type": "code",
   "execution_count": 31,
   "metadata": {},
   "outputs": [
    {
     "data": {
      "text/plain": [
       "true"
      ]
     },
     "metadata": {},
     "output_type": "display_data"
    }
   ],
   "source": [
    "pts = gen_all_points(C,b)\n",
    "is_NNLD(50, 2, pts)\n"
   ]
  },
  {
   "cell_type": "code",
   "execution_count": 75,
   "metadata": {},
   "outputs": [
    {
     "data": {
      "image/png": "[encoded data removed]"
     },
     "metadata": {},
     "output_type": "display_data"
    }
   ],
   "source": [
    "fig = Figure(resolution = (400, 400))\n",
    "ax = Axis(fig[1,1])\n",
    "scatter!( Point2.(pts) )\n",
    "poly!( Rect(0.0, 0, z[1], z[2]))\n",
    "fig"
   ]
  },
  {
   "cell_type": "code",
   "execution_count": 57,
   "metadata": {},
   "outputs": [
    {
     "data": {
      "image/png": "[encoded data removed]"
     },
     "metadata": {},
     "output_type": "display_data"
    }
   ],
   "source": [
    "x = LinRange(0,1,100)\n",
    "y = LinRange(0,1,100)\n",
    "fig = Figure(resolution = (1200, 400))\n",
    "ax = Axis(fig[1,1], title=\"volume_h(z)\")\n",
    "A = [vol_h((a,b),pts[1:end]) for a in x, b in y]\n",
    "heatmap!(x,y, A )\n",
    "\n",
    "ax = Axis(fig[1,2], title = \"volume_interval\")\n",
    "B = [a*b for a in x, b in y]\n",
    "heatmap!(x,y, B )\n",
    "\n",
    "ax = Axis(fig[1,3], title = \"delta(z)\")\n",
    "hm = heatmap!(x,y, A-B )\n",
    "scatter!( Point2.(pts), color = :black, markersize = 5 )\n",
    "Colorbar(fig[1,4], hm)\n",
    "fig\n"
   ]
  },
  {
   "cell_type": "code",
   "execution_count": null,
   "metadata": {},
   "outputs": [],
   "source": [
    "# X_i    =~    U = Uniform([0,1]^d)\n",
    "# U_1, .... U_N  ∈ U \n",
    "\n",
    "# A) E[ \"X_i in [0, z)\" ] ? ≈ 1/N ∑_i \"X_i in [0, z)\"\n",
    "# B) E[ \"U_i in [0, z)\" ]   = 1/N ∑_i E[  \"U_i in [0, z)\" ]  -> 1/N * N * vol( [0,z))\n",
    "\n",
    "# P(\"U_i in [a,b]\") := vol([a,b]) / vol([0,1]^d)\n",
    "# P(\"U_i in [0, z)\") = vol([0,z))\n",
    "\n",
    "# Ctrl + /"
   ]
  }
 ],
 "metadata": {
  "kernelspec": {
   "display_name": "Julia 1.9.3",
   "language": "julia",
   "name": "julia-1.9"
  },
  "language_info": {
   "file_extension": ".jl",
   "mimetype": "application/julia",
   "name": "julia",
   "version": "1.9.3"
  },
  "orig_nbformat": 4
 },
 "nbformat": 4,
 "nbformat_minor": 2
}
